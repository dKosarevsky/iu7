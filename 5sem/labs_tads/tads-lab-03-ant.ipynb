{
 "cells": [
  {
   "cell_type": "code",
   "execution_count": 1,
   "metadata": {
    "pycharm": {
     "is_executing": true
    }
   },
   "outputs": [],
   "source": [
    "from concurrent.futures import ProcessPoolExecutor, _base, Future\n",
    "from numpy.random import choice as np_choice\n",
    "from itertools import permutations\n",
    "from math import hypot, inf, sqrt\n",
    "from random import randint\n",
    "from typing import List\n",
    "from time import time\n",
    "\n",
    "import matplotlib.pyplot as plt\n",
    "import networkx as nx\n",
    "import pandas as pd\n",
    "import numpy as np\n",
    "import heapq as hq\n",
    "import acopy"
   ]
  },
  {
   "cell_type": "markdown",
   "metadata": {},
   "source": [
    "# Типы и Структуры Данных. ЛР3\n",
    "## Задача коммивояжёра"
   ]
  },
  {
   "cell_type": "markdown",
   "metadata": {},
   "source": [
    "## Полный перебор"
   ]
  },
  {
   "cell_type": "markdown",
   "metadata": {},
   "source": [
    "![](traveling_salesman_problem.png)"
   ]
  },
  {
   "cell_type": "code",
   "execution_count": 2,
   "metadata": {},
   "outputs": [],
   "source": [
    "# матрицы расстояний"
   ]
  },
  {
   "cell_type": "code",
   "execution_count": 3,
   "metadata": {},
   "outputs": [],
   "source": [
    "M_ = [\n",
    "    [ inf, 1,   2,   7,   5   ],\n",
    "    [ 1,   inf, 4,   4,   3   ],\n",
    "    [ 2,   4,   inf, 1,   2   ],\n",
    "    [ 7,   4,   1,   inf, 3   ],\n",
    "    [ 5,   3,   2,   3,   inf ],\n",
    "]"
   ]
  },
  {
   "cell_type": "code",
   "execution_count": 4,
   "metadata": {},
   "outputs": [],
   "source": [
    "M_2 = [\n",
    "    [ inf, 6.0, 100.0, 81.0, 23.0],\n",
    "    [ 6.0, inf, 0.0, 71.0, 0.0],\n",
    "    [ 100.0, 0.0, inf, 0.0, 0.0],\n",
    "    [ 81.0, 71.0, 0.0, inf, 0.0],\n",
    "    [ 23.0, 0.0, 0.0, 0.0, inf]\n",
    "]"
   ]
  },
  {
   "cell_type": "code",
   "execution_count": 5,
   "metadata": {},
   "outputs": [],
   "source": [
    "G_6 = [\n",
    "    [inf,   1.0,  5.5,   52.3,  25.0,  8.8  ],\n",
    "    [1.0,   inf,  2.5,   5.0,   5.0,   2.5  ],\n",
    "    [5.5,   2.5,  inf,   14.3,  12.0,  33.3 ],\n",
    "    [52.3,  5.0,  14.3,  inf,   5.1,   5.5  ],\n",
    "    [25.0,  5.0,  12.0,  5.1,   inf,   99.9 ],\n",
    "    [8.8,   2.5,  33.3,  5.5,   99.9,  inf  ],\n",
    "]"
   ]
  },
  {
   "cell_type": "code",
   "execution_count": 6,
   "metadata": {},
   "outputs": [],
   "source": [
    "G_6_int = [\n",
    "    [inf, 1,   52,  52,  25,  8   ],\n",
    "    [1,   inf, 2,   5,   5,   2   ],\n",
    "    [5,   2,   inf, 14,  12,  33  ],\n",
    "    [52,  5,   14,  inf, 5,   5   ],\n",
    "    [25,  5,   12,  5,   inf, 99  ],\n",
    "    [8,   2,   33,  5,   99,  inf ],\n",
    "]"
   ]
  },
  {
   "cell_type": "code",
   "execution_count": 7,
   "metadata": {},
   "outputs": [],
   "source": [
    "G_8 = [\n",
    "    [inf,   1.0,  5.5,   52.3,  25.0,  8.8 ,  2.0,   2.5  ],\n",
    "    [1.0,   inf,  2.5,   5.0,   5.0,   2.5 ,  2.5,   2.5  ],\n",
    "    [5.5,   2.5,  inf,   14.3,  12.0,  33.3,  23.0,  32.5 ],\n",
    "    [52.3,  5.0,  14.3,  inf,   5.1,   5.5 ,  2.2,   3.3  ],\n",
    "    [25.0,  5.0,  12.0,  5.1,   inf,   99.9,  5.0,   22.5 ],\n",
    "    [8.8,   2.5,  33.3,  5.5,   99.9,  inf ,  5.0,   12.5 ],\n",
    "    [2.0,   2.5,  23.0,  2.2,   5.0,   5.0,   inf,   5.0  ],\n",
    "    [2.5,   2.5,  32.5,  3.3,   22.5,  12.5,  5.0,   inf  ],\n",
    "]"
   ]
  },
  {
   "cell_type": "code",
   "execution_count": 8,
   "metadata": {},
   "outputs": [],
   "source": [
    "M_11 = [\n",
    "    [ inf,  68.,  64.,  52.,  51.,  71.,  50.,   4.,  63.,  39., 100.],\n",
    "    [ 68.,  inf,  73.,  57.,  39.,  82.,  63.,  39.,  45.,  18.,  53.],\n",
    "    [ 64.,  73.,  inf,  72.,  36.,  64.,  35.,  99.,  66.,  76.,  68.],\n",
    "    [ 52.,  57.,  72.,  inf,   9.,  24.,   6.,  25.,  81.,  51.,  20.],\n",
    "    [ 51.,  39.,  36.,   9.,  inf,   1.,  92.,  43.,  27.,  69.,  71.],\n",
    "    [ 71.,  82.,  64.,  24.,   1.,  inf,  52.,  53.,  98.,   4.,  65.],\n",
    "    [ 50.,  63.,  35.,   6.,  92.,  52.,  inf,  58.,  94.,  23.,  29.],\n",
    "    [  4.,  39.,  99.,  25.,  43.,  53.,  58.,  inf,  35.,  36.,  98.],\n",
    "    [ 63.,  45.,  66.,  81.,  27.,  98.,  94.,  35.,  inf,  91.,  31.],\n",
    "    [ 39.,  18.,  76.,  51.,  69.,   4.,  23.,  36.,  91.,  inf,  40.],\n",
    "    [100.,  53.,  68.,  20.,  71.,  65.,  29.,  98.,  31.,  40.,  inf],\n",
    "]"
   ]
  },
  {
   "cell_type": "code",
   "execution_count": 9,
   "metadata": {},
   "outputs": [],
   "source": [
    "def create_distance_matrix(cities_number):\n",
    "    matrix = np.zeros((cities_number, cities_number))\n",
    "    for i in range(cities_number):\n",
    "        for j in range(i + 1, cities_number):\n",
    "            distance = randint(1, 100)  # from the minimum distance to the maximum\n",
    "            matrix[i][j], matrix[j][i] = distance, distance \n",
    "            # ^^ for symmetry of the matrix with respect to the main axis\n",
    "\n",
    "    np.fill_diagonal(matrix, inf)\n",
    "    return matrix"
   ]
  },
  {
   "cell_type": "code",
   "execution_count": 10,
   "metadata": {
    "scrolled": true
   },
   "outputs": [],
   "source": [
    "# random_matrix = create_distance_matrix(12)\n",
    "# random_matrix"
   ]
  },
  {
   "cell_type": "code",
   "execution_count": 11,
   "metadata": {},
   "outputs": [],
   "source": [
    "# функция для подсчёта времени работы\n",
    "def executeWithTimeOut(fnc, *args, **kwargs):\n",
    "    with ProcessPoolExecutor() as p:\n",
    "        try:\n",
    "            f: Future = p.submit(fnc, *args, **kwargs)\n",
    "            return f.result(timeout=600)\n",
    "        except _base.TimeoutError:\n",
    "            for pid, process in p._processes.items():\n",
    "                process.terminate()\n",
    "            p.shutdown()\n",
    "            raise Exception('Process timed out.')"
   ]
  },
  {
   "cell_type": "code",
   "execution_count": 12,
   "metadata": {},
   "outputs": [],
   "source": [
    "class AlgorithmResult:\n",
    "\n",
    "    def __init__(self, path: List[int], cost: float, executionTime: float):\n",
    "        self.path = path\n",
    "        self.cost = cost\n",
    "        self.executionTime = executionTime\n",
    " \n",
    "    \n",
    "def getCost(graph: List[List[float]], path: List[int]) -> float:\n",
    "\n",
    "    cost = 0\n",
    "    for i in range(len(path) - 1):\n",
    "        cost += graph[path[i]][path[i + 1]]\n",
    "    return cost\n",
    "\n",
    "\n",
    "\n",
    "def bruteForceTSP(graph: List[List[float]]) -> List[int]:\n",
    "\n",
    "    size = len(graph)\n",
    "    minCost = inf\n",
    "    bestPath = None\n",
    "\n",
    "    for p in permutations(range(size)):\n",
    "        path: List[int] = list(p)\n",
    "        path.append(path[0])\n",
    "        cost = getCost(graph, path)\n",
    "        if minCost > cost:\n",
    "            minCost = cost\n",
    "            bestPath = path\n",
    "    \n",
    "    return bestPath\n",
    "\n",
    "\n",
    "class BruteForceTSP():\n",
    "\n",
    "    def execute(self, graph) -> AlgorithmResult:\n",
    "        try:\n",
    "            initialTime = time()\n",
    "            path = executeWithTimeOut(bruteForceTSP, graph)\n",
    "            executionTime = time() - initialTime\n",
    "            cost = getCost(graph, path)\n",
    "            return AlgorithmResult(path, cost, executionTime)\n",
    "        except Exception as e:\n",
    "            print(e)\n",
    "            return AlgorithmResult([], None, None)"
   ]
  },
  {
   "cell_type": "code",
   "execution_count": 13,
   "metadata": {},
   "outputs": [],
   "source": [
    "def runner_BF(matrix):\n",
    "    go = BruteForceTSP()\n",
    "    res = go.execute(matrix)\n",
    "    print(f\"Кратчайший тур: {res.path}\")\n",
    "    print(f\"Расстояние: {res.cost}\")\n",
    "    print(f\"Время работы перебора: {res.executionTime}\")\n",
    "    return res.cost"
   ]
  },
  {
   "cell_type": "code",
   "execution_count": 14,
   "metadata": {},
   "outputs": [
    {
     "name": "stdout",
     "output_type": "stream",
     "text": [
      "Кратчайший тур: [0, 1, 4, 3, 2, 0]\n",
      "Расстояние: 10\n",
      "Время работы перебора: 0.11882996559143066\n"
     ]
    }
   ],
   "source": [
    "etalon_M_ = runner_BF(M_)"
   ]
  },
  {
   "cell_type": "code",
   "execution_count": 15,
   "metadata": {},
   "outputs": [
    {
     "name": "stdout",
     "output_type": "stream",
     "text": [
      "Кратчайший тур: [0, 1, 2, 3, 4, 0]\n",
      "Расстояние: 29.0\n",
      "Время работы перебора: 0.0585629940032959\n"
     ]
    }
   ],
   "source": [
    "etalon_M_2 = runner_BF(M_2)"
   ]
  },
  {
   "cell_type": "code",
   "execution_count": 16,
   "metadata": {},
   "outputs": [
    {
     "name": "stdout",
     "output_type": "stream",
     "text": [
      "Кратчайший тур: [0, 1, 5, 3, 4, 2, 0]\n",
      "Расстояние: 31.6\n",
      "Время работы перебора: 0.05062365531921387\n"
     ]
    }
   ],
   "source": [
    "etalon_G_6 = runner_BF(G_6)"
   ]
  },
  {
   "cell_type": "code",
   "execution_count": 17,
   "metadata": {},
   "outputs": [
    {
     "name": "stdout",
     "output_type": "stream",
     "text": [
      "Кратчайший тур: [0, 1, 5, 3, 4, 2, 0]\n",
      "Расстояние: 30\n",
      "Время работы перебора: 0.0439915657043457\n"
     ]
    }
   ],
   "source": [
    "etalon_G_6_int = runner_BF(G_6_int)"
   ]
  },
  {
   "cell_type": "code",
   "execution_count": 18,
   "metadata": {},
   "outputs": [
    {
     "name": "stdout",
     "output_type": "stream",
     "text": [
      "Кратчайший тур: [0, 7, 3, 4, 6, 5, 1, 2, 0]\n",
      "Расстояние: 31.4\n",
      "Время работы перебора: 0.11732220649719238\n"
     ]
    }
   ],
   "source": [
    "etalon_G_8 = runner_BF(G_8)"
   ]
  },
  {
   "cell_type": "code",
   "execution_count": 19,
   "metadata": {
    "scrolled": false
   },
   "outputs": [
    {
     "name": "stdout",
     "output_type": "stream",
     "text": [
      "Кратчайший тур: [0, 2, 6, 3, 10, 8, 4, 5, 9, 1, 7, 0]\n",
      "Расстояние: 249.0\n",
      "Время работы перебора: 91.13990116119385\n"
     ]
    }
   ],
   "source": [
    "etalon_M_11 = runner_BF(M_11)"
   ]
  },
  {
   "cell_type": "markdown",
   "metadata": {
    "pycharm": {
     "name": "#%% md\n"
    }
   },
   "source": [
    "## Алгоритм Дейкстры (эксперименты)"
   ]
  },
  {
   "cell_type": "markdown",
   "metadata": {},
   "source": [
    "![Alt Text](dijkstra.gif)"
   ]
  },
  {
   "cell_type": "code",
   "execution_count": 20,
   "metadata": {
    "pycharm": {
     "name": "#%%\n"
    }
   },
   "outputs": [],
   "source": [
    "def dijkstra(graph, start, goal):\n",
    "    \"\"\"\n",
    "        Алгоритм Дейкстры, для работы с данными в формате словаря\n",
    "    \"\"\"\n",
    "    shortest_path = {} \n",
    "    predecessor = {} \n",
    "    unseen_nodes = graph \n",
    "    infinity = inf \n",
    "    path = [] \n",
    "    for node in unseen_nodes: \n",
    "        shortest_path[node] = infinity \n",
    "    shortest_path[start] = 0 \n",
    "     \n",
    "    while unseen_nodes: \n",
    "        min_node = None \n",
    "        for node in unseen_nodes: \n",
    "            if min_node is None: \n",
    "                min_node = node \n",
    "            elif shortest_path[node] < shortest_path[min_node]: \n",
    "                min_node = node \n",
    "         \n",
    "        for connect_node, link_cost in graph[min_node].items(): \n",
    "            if link_cost + shortest_path[min_node] < shortest_path[connect_node]: \n",
    "                shortest_path[connect_node] = link_cost + shortest_path[min_node]  \n",
    "                predecessor[connect_node] = min_node \n",
    "        unseen_nodes.pop(min_node) \n",
    "     \n",
    "    current_node = goal \n",
    "    while current_node != start: \n",
    "        path.insert(0,current_node) \n",
    "        current_node = predecessor[current_node] \n",
    "     \n",
    "    path.insert(0,start) \n",
    "    print(f'Кратчайший путь до цели составляет {shortest_path[goal]} условных единиц меры') \n",
    "    print(f'Путь будет проходить по следующим вершинам {path}')"
   ]
  },
  {
   "cell_type": "markdown",
   "metadata": {
    "pycharm": {
     "name": "#%% md\n"
    }
   },
   "source": [
    "### кратчайший маршрут из точки N в точку M:"
   ]
  },
  {
   "cell_type": "code",
   "execution_count": 21,
   "metadata": {
    "pycharm": {
     "name": "#%%\n"
    }
   },
   "outputs": [
    {
     "name": "stdout",
     "output_type": "stream",
     "text": [
      "Кратчайший путь до цели составляет 6.0 условных единиц меры\n",
      "Путь будет проходить по следующим вершинам ['A', 'B', 'D']\n"
     ]
    }
   ],
   "source": [
    "graph_6 = { \n",
    "    'A': {'B': 1.0, 'C': 5.5, 'D': 52.3, 'E': 25.0, 'F': 8.8},\n",
    "    'B': {'A': 1.0, 'C': 2.5, 'D': 5.0, 'E': 5.0, 'F': 2.5},\n",
    "    'C': {'A': 5.5, 'B': 2.5, 'D': 14.3, 'E': 12.0, 'F': 33.3},\n",
    "    'D': {'A': 52.3, 'B': 5.0, 'C': 14.3, 'E': 5.1, 'F': 5.5},\n",
    "    'E': {'A': 25.0, 'B': 5.0, 'C': 12.0, 'D': 5.1, 'F': 99.9},\n",
    "    'F': {'A': 8.8, 'B': 2.5, 'C': 33.3, 'D': 5.5, 'E': 99.9},\n",
    "}\n",
    "\n",
    "dijkstra(graph_6, 'A', 'D')"
   ]
  },
  {
   "cell_type": "code",
   "execution_count": 22,
   "metadata": {},
   "outputs": [
    {
     "name": "stdout",
     "output_type": "stream",
     "text": [
      "Кратчайший путь до цели составляет 81 условных единиц меры\n",
      "Путь будет проходить по следующим вершинам ['A', 'D']\n"
     ]
    }
   ],
   "source": [
    "graph_8 = {\n",
    "    'A': {'B': 6, 'C': 100, 'D': 81, 'E': 23}, \n",
    "    'B': {'A': 6, 'D': 77}, \n",
    "    'C': {'A': 100}, \n",
    "    'D': {'A': 81, 'B': 77}, \n",
    "    'E': {'A': 23}, \n",
    "}\n",
    "\n",
    "dijkstra(graph_8, 'A', 'D')"
   ]
  },
  {
   "cell_type": "markdown",
   "metadata": {
    "pycharm": {
     "name": "#%% md\n"
    }
   },
   "source": [
    "### перебор всех вариантов маршрутов:"
   ]
  },
  {
   "cell_type": "code",
   "execution_count": 23,
   "metadata": {
    "pycharm": {
     "name": "#%%\n"
    }
   },
   "outputs": [],
   "source": [
    "def dijkstra_heap(G, start=0):\n",
    "    \"\"\"\n",
    "        Алгоритм Дейкстры, реализованный,\n",
    "        с помощью стандартной библиотеки heapq (очередь кучи)\n",
    "        \n",
    "        G - граф\n",
    "        start - стартовая вершина\n",
    "    \"\"\"\n",
    "    n = len(G)  # количество вершин\n",
    "    Q = [(0, start)]  # инициализируем массив для кучи\n",
    "    d = [inf for i in range(n)]  # инициализируем массив с бесконечностями\n",
    "    d[start] = 0  # присваиваем 0 стартовой вершине\n",
    "\n",
    "    while len(Q) != 0:\n",
    "        (cost, u) = hq.heappop(Q)  # выбрасываем из кучи Q\n",
    "\n",
    "        for v in range(n):\n",
    "            if d[v] > d[u] + G[u][v]:  # процесс ослабления ребра\n",
    "                d[v] = d[u] + G[u][v]\n",
    "                hq.heappush(Q, (d[v], v))  # добавляем в кучу Q\n",
    "                \n",
    "    return d"
   ]
  },
  {
   "cell_type": "code",
   "execution_count": 24,
   "metadata": {},
   "outputs": [
    {
     "name": "stdout",
     "output_type": "stream",
     "text": [
      "[0, 1.0, 3.5, 6.0, 6.0, 3.5]\n",
      "[1.0, 0, 2.5, 5.0, 5.0, 2.5]\n",
      "[3.5, 2.5, 0, 7.5, 7.5, 5.0]\n",
      "[6.0, 5.0, 7.5, 0, 5.1, 5.5]\n",
      "[6.0, 5.0, 7.5, 5.1, 0, 7.5]\n",
      "[3.5, 2.5, 5.0, 5.5, 7.5, 0]\n"
     ]
    }
   ],
   "source": [
    "for i in range(len(G_6)):\n",
    "    print(dijkstra_heap(G_6, i))"
   ]
  },
  {
   "cell_type": "code",
   "execution_count": 25,
   "metadata": {},
   "outputs": [
    {
     "name": "stdout",
     "output_type": "stream",
     "text": [
      "[0, 1.0, 3.5, 4.2, 6.0, 3.5, 2.0, 2.5]\n",
      "[1.0, 0, 2.5, 4.7, 5.0, 2.5, 2.5, 2.5]\n",
      "[3.5, 2.5, 0, 7.2, 7.5, 5.0, 5.0, 5.0]\n",
      "[4.2, 4.7, 7.2, 0, 5.1, 5.5, 2.2, 3.3]\n",
      "[6.0, 5.0, 7.5, 5.1, 0, 7.5, 5.0, 7.5]\n",
      "[3.5, 2.5, 5.0, 5.5, 7.5, 0, 5.0, 5.0]\n",
      "[2.0, 2.5, 5.0, 2.2, 5.0, 5.0, 0, 4.5]\n",
      "[2.5, 2.5, 5.0, 3.3, 7.5, 5.0, 4.5, 0]\n"
     ]
    }
   ],
   "source": [
    "for i in range(len(G_8)):\n",
    "    print(dijkstra_heap(G_8, i))"
   ]
  },
  {
   "cell_type": "markdown",
   "metadata": {
    "pycharm": {
     "name": "#%% md\n"
    }
   },
   "source": [
    "## Муравьиный Алгоритм"
   ]
  },
  {
   "cell_type": "markdown",
   "metadata": {},
   "source": [
    "![Alt Text](ants.gif)"
   ]
  },
  {
   "cell_type": "markdown",
   "metadata": {},
   "source": [
    "1. Выбираем количество муравьев N."
   ]
  },
  {
   "cell_type": "markdown",
   "metadata": {},
   "source": [
    "2. Инициализируем матрицу отложений феромонов, она такой же формы, как и матрица расстояний. И координаты соответствуют одним и тем же городам. Если distances[2,5] = 35, т.е. расстояние от 2 до 5 составляет 35, и если pheromone[2,5] = 0.8, т.е. уровень феромона, отложенного на пути между 2 и 5, составляет 0,8. Матрица феромонов инициализируется небольшими переменными одного и того же значения."
   ]
  },
  {
   "cell_type": "markdown",
   "metadata": {},
   "source": [
    "3. Изучение нескольких путей:\n",
    "\n",
    "    Муравей принимает решение, в какой город поехать, используя следующую конструкцию:\n",
    "    city_to_city_score = pheromone ** alpha * (1.0 / distance) ** beta\n",
    "    альфа и бета действуют как вес на феромон и расстояние соответственно.\n",
    "\n",
    "    Мы производим расчет city_to_city_score для всех доступных городов (мы игнорируем города, которые мы уже посетили, потому что мы не можем вернуться к ним).\n",
    "\n",
    "    Вероятность поехать в следующий город:\n",
    "    prob_of_going_to_city(i) = city_to_city_score(i) / sum_of_all_available_city_to_city_scores\n",
    "\n",
    "    Например, если муравей находится в городе 2, а доступные города - 4,7,8. Мы рассчитываем оценки для этих городов как:\n",
    "    {4: 0.2, 7: 0.4, 8: 0.8}\n",
    "\n",
    "    Вероятность перехода на 4\n",
    "    0.2 / (0.2 + 0.4 + 0.8) = 0.142857\n",
    "    и так далее.\n",
    "\n",
    "    Муравей продолжает переходить из города в город в соответствии с указанным выше правилом выбора, пока не посетит все города.\n",
    "\n",
    "    Если мы выберем для начала 20 муравьев, у нас будет 20 путей в конце этой группы муравьёв, путешествующих поколения.\n",
    "\n",
    "    Поскольку на начальном этапе уровни феромонов одинаковы, выбор делается на расстоянии + некоторый шум. Случайный жадный, если хотите. Но мы хотим отслеживать успешные маршруты, поэтому муравьи откладывают феромон."
   ]
  },
  {
   "cell_type": "markdown",
   "metadata": {},
   "source": [
    "4. На обратном пути все муравьи или определенное количество лучших муравьев откладывают феромоны на своих тропах.\n",
    "\n",
    "    Они вносят:\n",
    "\n",
    "    1 / (distance between two cities)\n",
    "\n",
    "    Например: муравей прошел путь: [(0 -> 3) (расстояние: 8), (3 -> 5) (расстояние: 2)]\n",
    "\n",
    "    0,125 единицы феромона откладываются на \n",
    "    pheromone[0,3] += 0.125\n",
    "    и\n",
    "    pheromone[3,5] += 0.5\n",
    "\n",
    "    Это сделано для того, чтобы муравьи стали уделять больше внимания более коротким маршрутам между городами."
   ]
  },
  {
   "cell_type": "markdown",
   "metadata": {},
   "source": [
    "5. И последнее: мы должны позволить феромонам распадаться(выветриваться, испаряться), чтобы старые феромоны не сбивали с толку следующие поколения муравьев. Мы просто умножаем матрицу феромонов на скорость распада. Сразу после внесения депозита. Следовательно, феромон, который некоторое время находился в сидячем состоянии, подвергался множеству многих распадов и должен быть небольшим."
   ]
  },
  {
   "cell_type": "markdown",
   "metadata": {},
   "source": [
    "6. Продолжаем выполнять шаги 3) 4) и 5) в кол-ве N итераций."
   ]
  },
  {
   "cell_type": "code",
   "execution_count": 26,
   "metadata": {
    "pycharm": {
     "name": "#%%\n"
    }
   },
   "outputs": [],
   "source": [
    "class AntColony(object):\n",
    "\n",
    "    def __init__(self, distances, n_ants, n_best, n_iterations, decay, alpha=1, beta=1):\n",
    "        \"\"\"\n",
    "        Аргументы:\n",
    "            distances (2D numpy.array): Квадратная матрица расстояний, главную диагональ задаём бесконечностями.\n",
    "            n_ants (int): Количество муравьев, бегущих за итерацию.\n",
    "            n_best (int): Количество лучших муравьев, откладывающих феромон. (вместо Q)\n",
    "            n_iteration (int): Количество итераций.\n",
    "            decay (float): Коэффициент распада (испарения феромона). Значение феромона умножается на к-нт распада, поэтому 0,95 приведет к распаду, 0,5 - к гораздо более быстрому распаду.\n",
    "            alpha (int or float): Влияние феромона (стадность), более высокий альфа дает феромон больший вес. По умолчанию = 1\n",
    "            beta (int or float): Влияние длины пути (жадность алгоритма), чем выше бета, тем больше вес расстоянию. По умолчанию = 1\n",
    "        Пример:\n",
    "            ant_colony = AntColony(matrix_distances, 100, 20, 2000, 0.95, alpha=1, beta=2)          \n",
    "        \"\"\"\n",
    "        self.distances = distances\n",
    "        self.len_d = len(distances)\n",
    "        self.pheromone = np.ones(self.distances.shape) / len(distances)\n",
    "        self.all_inds = range(len(distances))\n",
    "        self.n_ants = n_ants\n",
    "        self.n_best = n_best\n",
    "        self.n_iterations = n_iterations\n",
    "        self.decay = decay\n",
    "        self.alpha = alpha\n",
    "        self.beta = beta\n",
    "        self.Q = (self.len_d * self.len_d - self.len_d) / self.len_d  # !!\n",
    "\n",
    "    # запуск колонии\n",
    "    def run(self):\n",
    "        shortest_path = None\n",
    "        all_time_shortest_path = (\"placeholder\", np.inf)\n",
    "        for i in range(self.n_iterations):\n",
    "            all_paths = self.gen_all_paths()\n",
    "            self.spread_pheronome(all_paths, self.n_best, shortest_path=shortest_path)\n",
    "            shortest_path = min(all_paths, key=lambda x: x[1])\n",
    "            if shortest_path[1] < all_time_shortest_path[1]:\n",
    "                all_time_shortest_path = shortest_path            \n",
    "            self.pheromone * self.decay            \n",
    "        return all_time_shortest_path\n",
    "\n",
    "    # распространение феромона\n",
    "    def spread_pheronome(self, all_paths, n_best, shortest_path):\n",
    "        sorted_paths = sorted(all_paths, key=lambda x: x[1])\n",
    "        for path, dist in sorted_paths[:n_best]:\n",
    "            for move in path:\n",
    "                self.pheromone[move] += self.Q / self.distances[move]\n",
    "                \n",
    "\n",
    "    def gen_path_dist(self, path):\n",
    "        total_dist = 0\n",
    "        for ele in path:\n",
    "            total_dist += self.distances[ele]\n",
    "        return total_dist\n",
    "\n",
    "    def gen_all_paths(self):\n",
    "        all_paths = []\n",
    "        for i in range(self.n_ants):\n",
    "            path = self.gen_path(0)\n",
    "            all_paths.append((path, self.gen_path_dist(path)))\n",
    "        return all_paths\n",
    "\n",
    "    def gen_path(self, start):\n",
    "        path = []\n",
    "        visited = set()\n",
    "        visited.add(start)\n",
    "        prev = start\n",
    "        for i in range(len(self.distances) - 1):\n",
    "            move = self.pick_move(self.pheromone[prev], self.distances[prev], visited)\n",
    "            path.append((prev, move))\n",
    "            prev = move\n",
    "            visited.add(move)\n",
    "        path.append((prev, start))  # возвращаемся туда, где мы начали\n",
    "        return path\n",
    "\n",
    "    # выбор следующего города муравья\n",
    "    def pick_move(self, pheromone, dist, visited):\n",
    "#         print(self.Q)\n",
    "        pheromone = np.copy(pheromone)\n",
    "        pheromone[list(visited)] = 0\n",
    "        \n",
    "        row = pheromone ** self.alpha * (( 1.0 / dist) ** self.beta)\n",
    "        norm_row = row / row.sum()\n",
    "        \n",
    "        move = np_choice(self.all_inds, 1, p=norm_row)[0]\n",
    "        return move"
   ]
  },
  {
   "cell_type": "markdown",
   "metadata": {
    "pycharm": {
     "name": "#%% md\n"
    }
   },
   "source": [
    "Метод np_choice работает в качестве \"подброшенной монетки\" для выбора хода следующим образом: move = np_choice(self.all_inds, 1, p=norm_row)[0] Мы передаём методу три параметра:\n",
    "\n",
    "all_inds (длина матрицы расстояний, для матрицы 5х5 - будет значение 5)\n",
    "число 1 - длина возвращаемого массива (т.е. возвращаемое значение метода - это массив с кол-вом элементов (в нашем случае 1), каждый в интервале от 0 до 5)\n",
    "p=norm_row (параметр p принимает 1-мерный массив, это вероятности, связанные с all_inds)\n",
    "norm_row рассчитываем по формуле: norm_row = row / row.sum()\n",
    "\n",
    "А row рассчитываем по ф-ле: row = pheromone ** self.alpha * (( 1.0 / dist) ** self.beta) где: pheromone - матрица (одномерный массив) феромона (numpy массив вида [0. 0.2 0.2 0.2 0.2]), где нулями заполнены значения по индексам уже посещённых городов; self.alpha - влияние феромона, в моих экспериментах - 1; dist - матрица (одномерный массив) вида [inf inf 83. 90. inf], с предыдущим ходом; self.beta - влияние длины пути, в моих экспериментах - 1;\n",
    "\n",
    "Таким образом, для примера, передав в np_choice следующие параметры: (5, 1, p=[0., 0., 0.52023121, 0.47976879, 0.]) -- на выходе получаем массив с одним элементом: [2] -- выбранный ход муравья."
   ]
  },
  {
   "cell_type": "code",
   "execution_count": 27,
   "metadata": {},
   "outputs": [],
   "source": [
    "def runner_ant_algo(matrix, ro, a, tmax):\n",
    "    distances = np.array(matrix)\n",
    "    ant_colony = AntColony(\n",
    "        distances=distances,  # матрица расстояний\n",
    "        n_ants=len(matrix),   # количество муравьёв\n",
    "        n_best=len(matrix),   # количество муравьёв с феромоном\n",
    "        n_iterations=tmax,    # количество итераций (tmax)\n",
    "        decay=ro,             # количество испарения феромона (ро)\n",
    "        alpha=a,              # влияние феромона\n",
    "        beta=1                # влияние длины пути\n",
    "    )\n",
    "\n",
    "    shortest_path = ant_colony.run()\n",
    "    print(f\"Оптимальный маршрут: {shortest_path[0]}\")\n",
    "    print(f\"Расстояние маршрута: {shortest_path[1]}\")\n",
    "    print(f\"Время жизни колонии: {tmax} суток\")\n",
    "    print(f\"Испарение феромона (ро): {ro}\")\n",
    "    print(f\"Влияние феромона (альфа): {a}\")\n",
    "    return shortest_path[1]"
   ]
  },
  {
   "cell_type": "code",
   "execution_count": 28,
   "metadata": {},
   "outputs": [],
   "source": [
    "parameters = {\n",
    "    \"ro_a\": [0.001, 0.25, 0.5, 0.75, 1],\n",
    "    \"iters\": [20, 50, 100, 150, 200],\n",
    "}"
   ]
  },
  {
   "cell_type": "code",
   "execution_count": 29,
   "metadata": {},
   "outputs": [],
   "source": [
    "def all_params_runner(matrix, params=parameters, iters=3):\n",
    "    res = [[], [], []]\n",
    "    for iter in range(1, iters + 1):\n",
    "        print(f\"Итерация №{iter}\\n\")\n",
    "        prms = [[i for i in params[x]] for x in params.keys()]\n",
    "        for _ in range(len(prms[0])):\n",
    "            res[iter-1].append(runner_ant_algo(matrix=matrix, ro=prms[0][_], a=prms[0][_], tmax=prms[1][_]))\n",
    "            print()\n",
    "        print(f\"{88 * '#'}\")\n",
    "    return res"
   ]
  },
  {
   "cell_type": "markdown",
   "metadata": {
    "pycharm": {
     "name": "#%%\n"
    }
   },
   "source": [
    "### матрица M_"
   ]
  },
  {
   "cell_type": "code",
   "execution_count": 30,
   "metadata": {},
   "outputs": [
    {
     "name": "stdout",
     "output_type": "stream",
     "text": [
      "Итерация №1\n",
      "\n",
      "Оптимальный маршрут: [(0, 2), (2, 3), (3, 4), (4, 1), (1, 0)]\n",
      "Расстояние маршрута: 10.0\n",
      "Время жизни колонии: 20 суток\n",
      "Испарение феромона (ро): 0.001\n",
      "Влияние феромона (альфа): 0.001\n",
      "\n",
      "Оптимальный маршрут: [(0, 2), (2, 3), (3, 4), (4, 1), (1, 0)]\n",
      "Расстояние маршрута: 10.0\n",
      "Время жизни колонии: 50 суток\n",
      "Испарение феромона (ро): 0.25\n",
      "Влияние феромона (альфа): 0.25\n",
      "\n",
      "Оптимальный маршрут: [(0, 2), (2, 3), (3, 4), (4, 1), (1, 0)]\n",
      "Расстояние маршрута: 10.0\n",
      "Время жизни колонии: 100 суток\n",
      "Испарение феромона (ро): 0.5\n",
      "Влияние феромона (альфа): 0.5\n",
      "\n",
      "Оптимальный маршрут: [(0, 1), (1, 4), (4, 3), (3, 2), (2, 0)]\n",
      "Расстояние маршрута: 10.0\n",
      "Время жизни колонии: 150 суток\n",
      "Испарение феромона (ро): 0.75\n",
      "Влияние феромона (альфа): 0.75\n",
      "\n",
      "Оптимальный маршрут: [(0, 2), (2, 3), (3, 4), (4, 1), (1, 0)]\n",
      "Расстояние маршрута: 10.0\n",
      "Время жизни колонии: 200 суток\n",
      "Испарение феромона (ро): 1\n",
      "Влияние феромона (альфа): 1\n",
      "\n",
      "########################################################################################\n",
      "Итерация №2\n",
      "\n",
      "Оптимальный маршрут: [(0, 2), (2, 3), (3, 4), (4, 1), (1, 0)]\n",
      "Расстояние маршрута: 10.0\n",
      "Время жизни колонии: 20 суток\n",
      "Испарение феромона (ро): 0.001\n",
      "Влияние феромона (альфа): 0.001\n",
      "\n",
      "Оптимальный маршрут: [(0, 1), (1, 4), (4, 3), (3, 2), (2, 0)]\n",
      "Расстояние маршрута: 10.0\n",
      "Время жизни колонии: 50 суток\n",
      "Испарение феромона (ро): 0.25\n",
      "Влияние феромона (альфа): 0.25\n",
      "\n",
      "Оптимальный маршрут: [(0, 1), (1, 4), (4, 3), (3, 2), (2, 0)]\n",
      "Расстояние маршрута: 10.0\n",
      "Время жизни колонии: 100 суток\n",
      "Испарение феромона (ро): 0.5\n",
      "Влияние феромона (альфа): 0.5\n",
      "\n",
      "Оптимальный маршрут: [(0, 2), (2, 3), (3, 4), (4, 1), (1, 0)]\n",
      "Расстояние маршрута: 10.0\n",
      "Время жизни колонии: 150 суток\n",
      "Испарение феромона (ро): 0.75\n",
      "Влияние феромона (альфа): 0.75\n",
      "\n",
      "Оптимальный маршрут: [(0, 2), (2, 3), (3, 4), (4, 1), (1, 0)]\n",
      "Расстояние маршрута: 10.0\n",
      "Время жизни колонии: 200 суток\n",
      "Испарение феромона (ро): 1\n",
      "Влияние феромона (альфа): 1\n",
      "\n",
      "########################################################################################\n",
      "Итерация №3\n",
      "\n",
      "Оптимальный маршрут: [(0, 2), (2, 3), (3, 4), (4, 1), (1, 0)]\n",
      "Расстояние маршрута: 10.0\n",
      "Время жизни колонии: 20 суток\n",
      "Испарение феромона (ро): 0.001\n",
      "Влияние феромона (альфа): 0.001\n",
      "\n",
      "Оптимальный маршрут: [(0, 1), (1, 4), (4, 3), (3, 2), (2, 0)]\n",
      "Расстояние маршрута: 10.0\n",
      "Время жизни колонии: 50 суток\n",
      "Испарение феромона (ро): 0.25\n",
      "Влияние феромона (альфа): 0.25\n",
      "\n",
      "Оптимальный маршрут: [(0, 1), (1, 4), (4, 3), (3, 2), (2, 0)]\n",
      "Расстояние маршрута: 10.0\n",
      "Время жизни колонии: 100 суток\n",
      "Испарение феромона (ро): 0.5\n",
      "Влияние феромона (альфа): 0.5\n",
      "\n",
      "Оптимальный маршрут: [(0, 2), (2, 3), (3, 4), (4, 1), (1, 0)]\n",
      "Расстояние маршрута: 10.0\n",
      "Время жизни колонии: 150 суток\n",
      "Испарение феромона (ро): 0.75\n",
      "Влияние феромона (альфа): 0.75\n",
      "\n",
      "Оптимальный маршрут: [(0, 1), (1, 4), (4, 3), (3, 2), (2, 0)]\n",
      "Расстояние маршрута: 10.0\n",
      "Время жизни колонии: 200 суток\n",
      "Испарение феромона (ро): 1\n",
      "Влияние феромона (альфа): 1\n",
      "\n",
      "########################################################################################\n"
     ]
    }
   ],
   "source": [
    "res_M_ = all_params_runner(M_)"
   ]
  },
  {
   "cell_type": "code",
   "execution_count": 31,
   "metadata": {},
   "outputs": [
    {
     "data": {
      "text/plain": [
       "[[10.0, 10.0, 10.0, 10.0, 10.0],\n",
       " [10.0, 10.0, 10.0, 10.0, 10.0],\n",
       " [10.0, 10.0, 10.0, 10.0, 10.0]]"
      ]
     },
     "execution_count": 31,
     "metadata": {},
     "output_type": "execute_result"
    }
   ],
   "source": [
    "res_M_"
   ]
  },
  {
   "cell_type": "markdown",
   "metadata": {},
   "source": [
    "### матрица G_6_int"
   ]
  },
  {
   "cell_type": "code",
   "execution_count": 32,
   "metadata": {},
   "outputs": [
    {
     "name": "stdout",
     "output_type": "stream",
     "text": [
      "Итерация №1\n",
      "\n",
      "Оптимальный маршрут: [(0, 1), (1, 5), (5, 3), (3, 4), (4, 2), (2, 0)]\n",
      "Расстояние маршрута: 30.0\n",
      "Время жизни колонии: 20 суток\n",
      "Испарение феромона (ро): 0.001\n",
      "Влияние феромона (альфа): 0.001\n",
      "\n",
      "Оптимальный маршрут: [(0, 1), (1, 5), (5, 3), (3, 4), (4, 2), (2, 0)]\n",
      "Расстояние маршрута: 30.0\n",
      "Время жизни колонии: 50 суток\n",
      "Испарение феромона (ро): 0.25\n",
      "Влияние феромона (альфа): 0.25\n",
      "\n",
      "Оптимальный маршрут: [(0, 1), (1, 5), (5, 3), (3, 4), (4, 2), (2, 0)]\n",
      "Расстояние маршрута: 30.0\n",
      "Время жизни колонии: 100 суток\n",
      "Испарение феромона (ро): 0.5\n",
      "Влияние феромона (альфа): 0.5\n",
      "\n",
      "Оптимальный маршрут: [(0, 1), (1, 5), (5, 3), (3, 4), (4, 2), (2, 0)]\n",
      "Расстояние маршрута: 30.0\n",
      "Время жизни колонии: 150 суток\n",
      "Испарение феромона (ро): 0.75\n",
      "Влияние феромона (альфа): 0.75\n",
      "\n",
      "Оптимальный маршрут: [(0, 1), (1, 5), (5, 3), (3, 4), (4, 2), (2, 0)]\n",
      "Расстояние маршрута: 30.0\n",
      "Время жизни колонии: 200 суток\n",
      "Испарение феромона (ро): 1\n",
      "Влияние феромона (альфа): 1\n",
      "\n",
      "########################################################################################\n",
      "Итерация №2\n",
      "\n",
      "Оптимальный маршрут: [(0, 1), (1, 5), (5, 3), (3, 4), (4, 2), (2, 0)]\n",
      "Расстояние маршрута: 30.0\n",
      "Время жизни колонии: 20 суток\n",
      "Испарение феромона (ро): 0.001\n",
      "Влияние феромона (альфа): 0.001\n",
      "\n",
      "Оптимальный маршрут: [(0, 1), (1, 5), (5, 3), (3, 4), (4, 2), (2, 0)]\n",
      "Расстояние маршрута: 30.0\n",
      "Время жизни колонии: 50 суток\n",
      "Испарение феромона (ро): 0.25\n",
      "Влияние феромона (альфа): 0.25\n",
      "\n",
      "Оптимальный маршрут: [(0, 1), (1, 5), (5, 3), (3, 4), (4, 2), (2, 0)]\n",
      "Расстояние маршрута: 30.0\n",
      "Время жизни колонии: 100 суток\n",
      "Испарение феромона (ро): 0.5\n",
      "Влияние феромона (альфа): 0.5\n",
      "\n",
      "Оптимальный маршрут: [(0, 1), (1, 5), (5, 3), (3, 4), (4, 2), (2, 0)]\n",
      "Расстояние маршрута: 30.0\n",
      "Время жизни колонии: 150 суток\n",
      "Испарение феромона (ро): 0.75\n",
      "Влияние феромона (альфа): 0.75\n",
      "\n",
      "Оптимальный маршрут: [(0, 1), (1, 5), (5, 3), (3, 4), (4, 2), (2, 0)]\n",
      "Расстояние маршрута: 30.0\n",
      "Время жизни колонии: 200 суток\n",
      "Испарение феромона (ро): 1\n",
      "Влияние феромона (альфа): 1\n",
      "\n",
      "########################################################################################\n",
      "Итерация №3\n",
      "\n",
      "Оптимальный маршрут: [(0, 1), (1, 5), (5, 3), (3, 4), (4, 2), (2, 0)]\n",
      "Расстояние маршрута: 30.0\n",
      "Время жизни колонии: 20 суток\n",
      "Испарение феромона (ро): 0.001\n",
      "Влияние феромона (альфа): 0.001\n",
      "\n",
      "Оптимальный маршрут: [(0, 1), (1, 5), (5, 3), (3, 4), (4, 2), (2, 0)]\n",
      "Расстояние маршрута: 30.0\n",
      "Время жизни колонии: 50 суток\n",
      "Испарение феромона (ро): 0.25\n",
      "Влияние феромона (альфа): 0.25\n",
      "\n",
      "Оптимальный маршрут: [(0, 1), (1, 5), (5, 3), (3, 4), (4, 2), (2, 0)]\n",
      "Расстояние маршрута: 30.0\n",
      "Время жизни колонии: 100 суток\n",
      "Испарение феромона (ро): 0.5\n",
      "Влияние феромона (альфа): 0.5\n",
      "\n",
      "Оптимальный маршрут: [(0, 1), (1, 5), (5, 3), (3, 4), (4, 2), (2, 0)]\n",
      "Расстояние маршрута: 30.0\n",
      "Время жизни колонии: 150 суток\n",
      "Испарение феромона (ро): 0.75\n",
      "Влияние феромона (альфа): 0.75\n",
      "\n",
      "Оптимальный маршрут: [(0, 1), (1, 5), (5, 3), (3, 4), (4, 2), (2, 0)]\n",
      "Расстояние маршрута: 30.0\n",
      "Время жизни колонии: 200 суток\n",
      "Испарение феромона (ро): 1\n",
      "Влияние феромона (альфа): 1\n",
      "\n",
      "########################################################################################\n"
     ]
    }
   ],
   "source": [
    "res_G_6_int = all_params_runner(G_6_int)"
   ]
  },
  {
   "cell_type": "code",
   "execution_count": 33,
   "metadata": {},
   "outputs": [
    {
     "data": {
      "text/plain": [
       "[[30.0, 30.0, 30.0, 30.0, 30.0],\n",
       " [30.0, 30.0, 30.0, 30.0, 30.0],\n",
       " [30.0, 30.0, 30.0, 30.0, 30.0]]"
      ]
     },
     "execution_count": 33,
     "metadata": {},
     "output_type": "execute_result"
    }
   ],
   "source": [
    "res_G_6_int"
   ]
  },
  {
   "cell_type": "markdown",
   "metadata": {},
   "source": [
    "### матрица G_6"
   ]
  },
  {
   "cell_type": "code",
   "execution_count": 34,
   "metadata": {},
   "outputs": [
    {
     "name": "stdout",
     "output_type": "stream",
     "text": [
      "Итерация №1\n",
      "\n",
      "Оптимальный маршрут: [(0, 1), (1, 5), (5, 3), (3, 4), (4, 2), (2, 0)]\n",
      "Расстояние маршрута: 31.6\n",
      "Время жизни колонии: 20 суток\n",
      "Испарение феромона (ро): 0.001\n",
      "Влияние феромона (альфа): 0.001\n",
      "\n",
      "Оптимальный маршрут: [(0, 1), (1, 5), (5, 3), (3, 4), (4, 2), (2, 0)]\n",
      "Расстояние маршрута: 31.6\n",
      "Время жизни колонии: 50 суток\n",
      "Испарение феромона (ро): 0.25\n",
      "Влияние феромона (альфа): 0.25\n",
      "\n",
      "Оптимальный маршрут: [(0, 1), (1, 5), (5, 3), (3, 4), (4, 2), (2, 0)]\n",
      "Расстояние маршрута: 31.6\n",
      "Время жизни колонии: 100 суток\n",
      "Испарение феромона (ро): 0.5\n",
      "Влияние феромона (альфа): 0.5\n",
      "\n",
      "Оптимальный маршрут: [(0, 1), (1, 5), (5, 3), (3, 4), (4, 2), (2, 0)]\n",
      "Расстояние маршрута: 31.6\n",
      "Время жизни колонии: 150 суток\n",
      "Испарение феромона (ро): 0.75\n",
      "Влияние феромона (альфа): 0.75\n",
      "\n",
      "Оптимальный маршрут: [(0, 1), (1, 5), (5, 3), (3, 4), (4, 2), (2, 0)]\n",
      "Расстояние маршрута: 31.6\n",
      "Время жизни колонии: 200 суток\n",
      "Испарение феромона (ро): 1\n",
      "Влияние феромона (альфа): 1\n",
      "\n",
      "########################################################################################\n",
      "Итерация №2\n",
      "\n",
      "Оптимальный маршрут: [(0, 1), (1, 5), (5, 3), (3, 4), (4, 2), (2, 0)]\n",
      "Расстояние маршрута: 31.6\n",
      "Время жизни колонии: 20 суток\n",
      "Испарение феромона (ро): 0.001\n",
      "Влияние феромона (альфа): 0.001\n",
      "\n",
      "Оптимальный маршрут: [(0, 1), (1, 5), (5, 3), (3, 4), (4, 2), (2, 0)]\n",
      "Расстояние маршрута: 31.6\n",
      "Время жизни колонии: 50 суток\n",
      "Испарение феромона (ро): 0.25\n",
      "Влияние феромона (альфа): 0.25\n",
      "\n",
      "Оптимальный маршрут: [(0, 1), (1, 5), (5, 3), (3, 4), (4, 2), (2, 0)]\n",
      "Расстояние маршрута: 31.6\n",
      "Время жизни колонии: 100 суток\n",
      "Испарение феромона (ро): 0.5\n",
      "Влияние феромона (альфа): 0.5\n",
      "\n",
      "Оптимальный маршрут: [(0, 1), (1, 5), (5, 3), (3, 4), (4, 2), (2, 0)]\n",
      "Расстояние маршрута: 31.6\n",
      "Время жизни колонии: 150 суток\n",
      "Испарение феромона (ро): 0.75\n",
      "Влияние феромона (альфа): 0.75\n",
      "\n",
      "Оптимальный маршрут: [(0, 1), (1, 2), (2, 4), (4, 3), (3, 5), (5, 0)]\n",
      "Расстояние маршрута: 34.900000000000006\n",
      "Время жизни колонии: 200 суток\n",
      "Испарение феромона (ро): 1\n",
      "Влияние феромона (альфа): 1\n",
      "\n",
      "########################################################################################\n",
      "Итерация №3\n",
      "\n",
      "Оптимальный маршрут: [(0, 1), (1, 5), (5, 3), (3, 4), (4, 2), (2, 0)]\n",
      "Расстояние маршрута: 31.6\n",
      "Время жизни колонии: 20 суток\n",
      "Испарение феромона (ро): 0.001\n",
      "Влияние феромона (альфа): 0.001\n",
      "\n",
      "Оптимальный маршрут: [(0, 1), (1, 5), (5, 3), (3, 4), (4, 2), (2, 0)]\n",
      "Расстояние маршрута: 31.6\n",
      "Время жизни колонии: 50 суток\n",
      "Испарение феромона (ро): 0.25\n",
      "Влияние феромона (альфа): 0.25\n",
      "\n",
      "Оптимальный маршрут: [(0, 1), (1, 5), (5, 3), (3, 4), (4, 2), (2, 0)]\n",
      "Расстояние маршрута: 31.6\n",
      "Время жизни колонии: 100 суток\n",
      "Испарение феромона (ро): 0.5\n",
      "Влияние феромона (альфа): 0.5\n",
      "\n",
      "Оптимальный маршрут: [(0, 1), (1, 5), (5, 3), (3, 4), (4, 2), (2, 0)]\n",
      "Расстояние маршрута: 31.6\n",
      "Время жизни колонии: 150 суток\n",
      "Испарение феромона (ро): 0.75\n",
      "Влияние феромона (альфа): 0.75\n",
      "\n",
      "Оптимальный маршрут: [(0, 1), (1, 5), (5, 3), (3, 4), (4, 2), (2, 0)]\n",
      "Расстояние маршрута: 31.6\n",
      "Время жизни колонии: 200 суток\n",
      "Испарение феромона (ро): 1\n",
      "Влияние феромона (альфа): 1\n",
      "\n",
      "########################################################################################\n"
     ]
    }
   ],
   "source": [
    "res_G_6 = all_params_runner(G_6)"
   ]
  },
  {
   "cell_type": "code",
   "execution_count": 35,
   "metadata": {},
   "outputs": [
    {
     "data": {
      "text/plain": [
       "[[31.6, 31.6, 31.6, 31.6, 31.6],\n",
       " [31.6, 31.6, 31.6, 31.6, 34.900000000000006],\n",
       " [31.6, 31.6, 31.6, 31.6, 31.6]]"
      ]
     },
     "execution_count": 35,
     "metadata": {},
     "output_type": "execute_result"
    }
   ],
   "source": [
    "res_G_6"
   ]
  },
  {
   "cell_type": "markdown",
   "metadata": {},
   "source": [
    "### матрица G_8"
   ]
  },
  {
   "cell_type": "code",
   "execution_count": 36,
   "metadata": {},
   "outputs": [
    {
     "name": "stdout",
     "output_type": "stream",
     "text": [
      "Итерация №1\n",
      "\n",
      "Оптимальный маршрут: [(0, 7), (7, 3), (3, 4), (4, 6), (6, 5), (5, 1), (1, 2), (2, 0)]\n",
      "Расстояние маршрута: 31.4\n",
      "Время жизни колонии: 20 суток\n",
      "Испарение феромона (ро): 0.001\n",
      "Влияние феромона (альфа): 0.001\n",
      "\n",
      "Оптимальный маршрут: [(0, 7), (7, 3), (3, 4), (4, 6), (6, 5), (5, 1), (1, 2), (2, 0)]\n",
      "Расстояние маршрута: 31.4\n",
      "Время жизни колонии: 50 суток\n",
      "Испарение феромона (ро): 0.25\n",
      "Влияние феромона (альфа): 0.25\n",
      "\n",
      "Оптимальный маршрут: [(0, 6), (6, 5), (5, 1), (1, 2), (2, 4), (4, 3), (3, 7), (7, 0)]\n",
      "Расстояние маршрута: 34.9\n",
      "Время жизни колонии: 100 суток\n",
      "Испарение феромона (ро): 0.5\n",
      "Влияние феромона (альфа): 0.5\n",
      "\n",
      "Оптимальный маршрут: [(0, 1), (1, 2), (2, 4), (4, 6), (6, 5), (5, 3), (3, 7), (7, 0)]\n",
      "Расстояние маршрута: 36.8\n",
      "Время жизни колонии: 150 суток\n",
      "Испарение феромона (ро): 0.75\n",
      "Влияние феромона (альфа): 0.75\n",
      "\n",
      "Оптимальный маршрут: [(0, 6), (6, 4), (4, 2), (2, 1), (1, 5), (5, 3), (3, 7), (7, 0)]\n",
      "Расстояние маршрута: 35.3\n",
      "Время жизни колонии: 200 суток\n",
      "Испарение феромона (ро): 1\n",
      "Влияние феромона (альфа): 1\n",
      "\n",
      "########################################################################################\n",
      "Итерация №2\n",
      "\n",
      "Оптимальный маршрут: [(0, 7), (7, 3), (3, 5), (5, 1), (1, 2), (2, 4), (4, 6), (6, 0)]\n",
      "Расстояние маршрута: 35.3\n",
      "Время жизни колонии: 20 суток\n",
      "Испарение феромона (ро): 0.001\n",
      "Влияние феромона (альфа): 0.001\n",
      "\n",
      "Оптимальный маршрут: [(0, 6), (6, 5), (5, 1), (1, 2), (2, 4), (4, 3), (3, 7), (7, 0)]\n",
      "Расстояние маршрута: 34.9\n",
      "Время жизни колонии: 50 суток\n",
      "Испарение феромона (ро): 0.25\n",
      "Влияние феромона (альфа): 0.25\n",
      "\n",
      "Оптимальный маршрут: [(0, 7), (7, 3), (3, 4), (4, 6), (6, 5), (5, 1), (1, 2), (2, 0)]\n",
      "Расстояние маршрута: 31.4\n",
      "Время жизни колонии: 100 суток\n",
      "Испарение феромона (ро): 0.5\n",
      "Влияние феромона (альфа): 0.5\n",
      "\n",
      "Оптимальный маршрут: [(0, 1), (1, 2), (2, 4), (4, 6), (6, 5), (5, 3), (3, 7), (7, 0)]\n",
      "Расстояние маршрута: 36.8\n",
      "Время жизни колонии: 150 суток\n",
      "Испарение феромона (ро): 0.75\n",
      "Влияние феромона (альфа): 0.75\n",
      "\n",
      "Оптимальный маршрут: [(0, 6), (6, 4), (4, 3), (3, 7), (7, 5), (5, 1), (1, 2), (2, 0)]\n",
      "Расстояние маршрута: 38.4\n",
      "Время жизни колонии: 200 суток\n",
      "Испарение феромона (ро): 1\n",
      "Влияние феромона (альфа): 1\n",
      "\n",
      "########################################################################################\n",
      "Итерация №3\n",
      "\n",
      "Оптимальный маршрут: [(0, 7), (7, 6), (6, 4), (4, 3), (3, 5), (5, 1), (1, 2), (2, 0)]\n",
      "Расстояние маршрута: 33.6\n",
      "Время жизни колонии: 20 суток\n",
      "Испарение феромона (ро): 0.001\n",
      "Влияние феромона (альфа): 0.001\n",
      "\n",
      "Оптимальный маршрут: [(0, 2), (2, 1), (1, 5), (5, 3), (3, 4), (4, 6), (6, 7), (7, 0)]\n",
      "Расстояние маршрута: 33.6\n",
      "Время жизни колонии: 50 суток\n",
      "Испарение феромона (ро): 0.25\n",
      "Влияние феромона (альфа): 0.25\n",
      "\n",
      "Оптимальный маршрут: [(0, 6), (6, 4), (4, 2), (2, 1), (1, 5), (5, 3), (3, 7), (7, 0)]\n",
      "Расстояние маршрута: 35.3\n",
      "Время жизни колонии: 100 суток\n",
      "Испарение феромона (ро): 0.5\n",
      "Влияние феромона (альфа): 0.5\n",
      "\n",
      "Оптимальный маршрут: [(0, 6), (6, 5), (5, 1), (1, 2), (2, 4), (4, 3), (3, 7), (7, 0)]\n",
      "Расстояние маршрута: 34.9\n",
      "Время жизни колонии: 150 суток\n",
      "Испарение феромона (ро): 0.75\n",
      "Влияние феромона (альфа): 0.75\n",
      "\n",
      "Оптимальный маршрут: [(0, 7), (7, 6), (6, 4), (4, 3), (3, 5), (5, 1), (1, 2), (2, 0)]\n",
      "Расстояние маршрута: 33.6\n",
      "Время жизни колонии: 200 суток\n",
      "Испарение феромона (ро): 1\n",
      "Влияние феромона (альфа): 1\n",
      "\n",
      "########################################################################################\n"
     ]
    }
   ],
   "source": [
    "res_G_8 = all_params_runner(G_8)"
   ]
  },
  {
   "cell_type": "code",
   "execution_count": 37,
   "metadata": {},
   "outputs": [
    {
     "data": {
      "text/plain": [
       "[[31.4, 31.4, 34.9, 36.8, 35.3],\n",
       " [35.3, 34.9, 31.4, 36.8, 38.4],\n",
       " [33.6, 33.6, 35.3, 34.9, 33.6]]"
      ]
     },
     "execution_count": 37,
     "metadata": {},
     "output_type": "execute_result"
    }
   ],
   "source": [
    "res_G_8"
   ]
  },
  {
   "cell_type": "code",
   "execution_count": 38,
   "metadata": {},
   "outputs": [
    {
     "data": {
      "text/plain": [
       "[31.4, 31.4, 31.4, 34.9, 33.6]"
      ]
     },
     "execution_count": 38,
     "metadata": {},
     "output_type": "execute_result"
    }
   ],
   "source": [
    "final_res_G_8 = []\n",
    "\n",
    "for _ in range(len(res_G_8[0])):\n",
    "    final_res_G_8.append(min(res_G_8[0][_], res_G_8[1][_], res_G_8[2][_]))\n",
    "    \n",
    "final_res_G_8"
   ]
  },
  {
   "cell_type": "markdown",
   "metadata": {},
   "source": [
    "### матрица M_11"
   ]
  },
  {
   "cell_type": "code",
   "execution_count": 39,
   "metadata": {},
   "outputs": [
    {
     "name": "stdout",
     "output_type": "stream",
     "text": [
      "Итерация №1\n",
      "\n",
      "Оптимальный маршрут: [(0, 7), (7, 1), (1, 9), (9, 5), (5, 4), (4, 3), (3, 6), (6, 10), (10, 8), (8, 2), (2, 0)]\n",
      "Расстояние маршрута: 271.0\n",
      "Время жизни колонии: 20 суток\n",
      "Испарение феромона (ро): 0.001\n",
      "Влияние феромона (альфа): 0.001\n",
      "\n",
      "Оптимальный маршрут: [(0, 7), (7, 1), (1, 9), (9, 5), (5, 4), (4, 8), (8, 10), (10, 3), (3, 6), (6, 2), (2, 0)]\n",
      "Расстояние маршрута: 249.0\n",
      "Время жизни колонии: 50 суток\n",
      "Испарение феромона (ро): 0.25\n",
      "Влияние феромона (альфа): 0.25\n",
      "\n",
      "Оптимальный маршрут: [(0, 7), (7, 1), (1, 9), (9, 5), (5, 4), (4, 8), (8, 10), (10, 3), (3, 6), (6, 2), (2, 0)]\n",
      "Расстояние маршрута: 249.0\n",
      "Время жизни колонии: 100 суток\n",
      "Испарение феромона (ро): 0.5\n",
      "Влияние феромона (альфа): 0.5\n",
      "\n",
      "Оптимальный маршрут: [(0, 7), (7, 1), (1, 9), (9, 5), (5, 4), (4, 8), (8, 10), (10, 3), (3, 6), (6, 2), (2, 0)]\n",
      "Расстояние маршрута: 249.0\n",
      "Время жизни колонии: 150 суток\n",
      "Испарение феромона (ро): 0.75\n",
      "Влияние феромона (альфа): 0.75\n",
      "\n",
      "Оптимальный маршрут: [(0, 7), (7, 1), (1, 9), (9, 5), (5, 4), (4, 8), (8, 10), (10, 3), (3, 6), (6, 2), (2, 0)]\n",
      "Расстояние маршрута: 249.0\n",
      "Время жизни колонии: 200 суток\n",
      "Испарение феромона (ро): 1\n",
      "Влияние феромона (альфа): 1\n",
      "\n",
      "########################################################################################\n",
      "Итерация №2\n",
      "\n",
      "Оптимальный маршрут: [(0, 7), (7, 8), (8, 10), (10, 6), (6, 3), (3, 4), (4, 5), (5, 9), (9, 1), (1, 2), (2, 0)]\n",
      "Расстояние маршрута: 274.0\n",
      "Время жизни колонии: 20 суток\n",
      "Испарение феромона (ро): 0.001\n",
      "Влияние феромона (альфа): 0.001\n",
      "\n",
      "Оптимальный маршрут: [(0, 7), (7, 1), (1, 9), (9, 5), (5, 4), (4, 8), (8, 10), (10, 3), (3, 6), (6, 2), (2, 0)]\n",
      "Расстояние маршрута: 249.0\n",
      "Время жизни колонии: 50 суток\n",
      "Испарение феромона (ро): 0.25\n",
      "Влияние феромона (альфа): 0.25\n",
      "\n",
      "Оптимальный маршрут: [(0, 7), (7, 1), (1, 9), (9, 5), (5, 4), (4, 8), (8, 10), (10, 3), (3, 6), (6, 2), (2, 0)]\n",
      "Расстояние маршрута: 249.0\n",
      "Время жизни колонии: 100 суток\n",
      "Испарение феромона (ро): 0.5\n",
      "Влияние феромона (альфа): 0.5\n",
      "\n",
      "Оптимальный маршрут: [(0, 7), (7, 1), (1, 9), (9, 5), (5, 4), (4, 8), (8, 10), (10, 3), (3, 6), (6, 2), (2, 0)]\n",
      "Расстояние маршрута: 249.0\n",
      "Время жизни колонии: 150 суток\n",
      "Испарение феромона (ро): 0.75\n",
      "Влияние феромона (альфа): 0.75\n",
      "\n",
      "Оптимальный маршрут: [(0, 7), (7, 1), (1, 9), (9, 5), (5, 4), (4, 8), (8, 10), (10, 3), (3, 6), (6, 2), (2, 0)]\n",
      "Расстояние маршрута: 249.0\n",
      "Время жизни колонии: 200 суток\n",
      "Испарение феромона (ро): 1\n",
      "Влияние феромона (альфа): 1\n",
      "\n",
      "########################################################################################\n",
      "Итерация №3\n",
      "\n",
      "Оптимальный маршрут: [(0, 7), (7, 8), (8, 4), (4, 5), (5, 9), (9, 1), (1, 10), (10, 3), (3, 6), (6, 2), (2, 0)]\n",
      "Расстояние маршрута: 267.0\n",
      "Время жизни колонии: 20 суток\n",
      "Испарение феромона (ро): 0.001\n",
      "Влияние феромона (альфа): 0.001\n",
      "\n",
      "Оптимальный маршрут: [(0, 7), (7, 1), (1, 9), (9, 5), (5, 4), (4, 2), (2, 6), (6, 3), (3, 10), (10, 8), (8, 0)]\n",
      "Расстояние маршрута: 257.0\n",
      "Время жизни колонии: 50 суток\n",
      "Испарение феромона (ро): 0.25\n",
      "Влияние феромона (альфа): 0.25\n",
      "\n",
      "Оптимальный маршрут: [(0, 7), (7, 1), (1, 9), (9, 5), (5, 4), (4, 8), (8, 10), (10, 3), (3, 6), (6, 2), (2, 0)]\n",
      "Расстояние маршрута: 249.0\n",
      "Время жизни колонии: 100 суток\n",
      "Испарение феромона (ро): 0.5\n",
      "Влияние феромона (альфа): 0.5\n",
      "\n",
      "Оптимальный маршрут: [(0, 7), (7, 1), (1, 9), (9, 5), (5, 4), (4, 2), (2, 6), (6, 3), (3, 10), (10, 8), (8, 0)]\n",
      "Расстояние маршрута: 257.0\n",
      "Время жизни колонии: 150 суток\n",
      "Испарение феромона (ро): 0.75\n",
      "Влияние феромона (альфа): 0.75\n",
      "\n",
      "Оптимальный маршрут: [(0, 7), (7, 8), (8, 10), (10, 1), (1, 9), (9, 5), (5, 4), (4, 3), (3, 6), (6, 2), (2, 0)]\n",
      "Расстояние маршрута: 260.0\n",
      "Время жизни колонии: 200 суток\n",
      "Испарение феромона (ро): 1\n",
      "Влияние феромона (альфа): 1\n",
      "\n",
      "########################################################################################\n"
     ]
    }
   ],
   "source": [
    "res_M_11 = all_params_runner(M_11)"
   ]
  },
  {
   "cell_type": "code",
   "execution_count": 40,
   "metadata": {},
   "outputs": [
    {
     "data": {
      "text/plain": [
       "[[271.0, 249.0, 249.0, 249.0, 249.0],\n",
       " [274.0, 249.0, 249.0, 249.0, 249.0],\n",
       " [267.0, 257.0, 249.0, 257.0, 260.0]]"
      ]
     },
     "execution_count": 40,
     "metadata": {},
     "output_type": "execute_result"
    }
   ],
   "source": [
    "res_M_11"
   ]
  },
  {
   "cell_type": "code",
   "execution_count": 41,
   "metadata": {},
   "outputs": [
    {
     "data": {
      "text/plain": [
       "[267.0, 249.0, 249.0, 249.0, 249.0]"
      ]
     },
     "execution_count": 41,
     "metadata": {},
     "output_type": "execute_result"
    }
   ],
   "source": [
    "final_res_M_11 = []\n",
    "\n",
    "for _ in range(len(res_G_8[0])):\n",
    "    final_res_M_11.append(min(res_M_11[0][_], res_M_11[1][_], res_M_11[2][_]))\n",
    "    \n",
    "final_res_M_11"
   ]
  },
  {
   "cell_type": "markdown",
   "metadata": {},
   "source": [
    "### Cводная таблица по Муравьиному Алгоритму"
   ]
  },
  {
   "cell_type": "code",
   "execution_count": 42,
   "metadata": {},
   "outputs": [
    {
     "data": {
      "text/plain": [
       "[0.0, 0.0, 0.0, 3.5, 2.200000000000003]"
      ]
     },
     "execution_count": 42,
     "metadata": {},
     "output_type": "execute_result"
    }
   ],
   "source": [
    "best_minus_etalon_G_8 = []\n",
    "\n",
    "for i in range(len(final_res_G_8)):\n",
    "    best_minus_etalon_G_8.append(final_res_G_8[i] - etalon_G_8)\n",
    "    \n",
    "best_minus_etalon_G_8"
   ]
  },
  {
   "cell_type": "code",
   "execution_count": 43,
   "metadata": {},
   "outputs": [
    {
     "data": {
      "text/plain": [
       "[18.0, 0.0, 0.0, 0.0, 0.0]"
      ]
     },
     "execution_count": 43,
     "metadata": {},
     "output_type": "execute_result"
    }
   ],
   "source": [
    "best_minus_etalon_M_11 = []\n",
    "\n",
    "for i in range(len(final_res_M_11)):\n",
    "    best_minus_etalon_M_11.append(final_res_M_11[i] - etalon_M_11)\n",
    "    \n",
    "best_minus_etalon_M_11"
   ]
  },
  {
   "cell_type": "code",
   "execution_count": 44,
   "metadata": {
    "scrolled": true
   },
   "outputs": [
    {
     "data": {
      "text/html": [
       "<div>\n",
       "<style scoped>\n",
       "    .dataframe tbody tr th:only-of-type {\n",
       "        vertical-align: middle;\n",
       "    }\n",
       "\n",
       "    .dataframe tbody tr th {\n",
       "        vertical-align: top;\n",
       "    }\n",
       "\n",
       "    .dataframe thead th {\n",
       "        text-align: right;\n",
       "    }\n",
       "</style>\n",
       "<table border=\"1\" class=\"dataframe\">\n",
       "  <thead>\n",
       "    <tr style=\"text-align: right;\">\n",
       "      <th></th>\n",
       "      <th>Alpha</th>\n",
       "      <th>Ro/Tau</th>\n",
       "      <th>tmax</th>\n",
       "      <th>G_8 L_best</th>\n",
       "      <th>G_8 L_best - L_etalon</th>\n",
       "      <th>M_11 L_best</th>\n",
       "      <th>M_11 L_best - L_etalon</th>\n",
       "    </tr>\n",
       "  </thead>\n",
       "  <tbody>\n",
       "    <tr>\n",
       "      <th>1</th>\n",
       "      <td>0.001</td>\n",
       "      <td>0.001</td>\n",
       "      <td>20</td>\n",
       "      <td>31.4</td>\n",
       "      <td>0.0</td>\n",
       "      <td>267.0</td>\n",
       "      <td>18.0</td>\n",
       "    </tr>\n",
       "    <tr>\n",
       "      <th>2</th>\n",
       "      <td>0.250</td>\n",
       "      <td>0.250</td>\n",
       "      <td>50</td>\n",
       "      <td>31.4</td>\n",
       "      <td>0.0</td>\n",
       "      <td>249.0</td>\n",
       "      <td>0.0</td>\n",
       "    </tr>\n",
       "    <tr>\n",
       "      <th>3</th>\n",
       "      <td>0.500</td>\n",
       "      <td>0.500</td>\n",
       "      <td>100</td>\n",
       "      <td>31.4</td>\n",
       "      <td>0.0</td>\n",
       "      <td>249.0</td>\n",
       "      <td>0.0</td>\n",
       "    </tr>\n",
       "    <tr>\n",
       "      <th>4</th>\n",
       "      <td>0.750</td>\n",
       "      <td>0.750</td>\n",
       "      <td>150</td>\n",
       "      <td>34.9</td>\n",
       "      <td>3.5</td>\n",
       "      <td>249.0</td>\n",
       "      <td>0.0</td>\n",
       "    </tr>\n",
       "    <tr>\n",
       "      <th>5</th>\n",
       "      <td>1.000</td>\n",
       "      <td>1.000</td>\n",
       "      <td>200</td>\n",
       "      <td>33.6</td>\n",
       "      <td>2.2</td>\n",
       "      <td>249.0</td>\n",
       "      <td>0.0</td>\n",
       "    </tr>\n",
       "  </tbody>\n",
       "</table>\n",
       "</div>"
      ],
      "text/plain": [
       "   Alpha  Ro/Tau  tmax  G_8 L_best  G_8 L_best - L_etalon  M_11 L_best  \\\n",
       "1  0.001   0.001    20        31.4                    0.0        267.0   \n",
       "2  0.250   0.250    50        31.4                    0.0        249.0   \n",
       "3  0.500   0.500   100        31.4                    0.0        249.0   \n",
       "4  0.750   0.750   150        34.9                    3.5        249.0   \n",
       "5  1.000   1.000   200        33.6                    2.2        249.0   \n",
       "\n",
       "   M_11 L_best - L_etalon  \n",
       "1                    18.0  \n",
       "2                     0.0  \n",
       "3                     0.0  \n",
       "4                     0.0  \n",
       "5                     0.0  "
      ]
     },
     "execution_count": 44,
     "metadata": {},
     "output_type": "execute_result"
    }
   ],
   "source": [
    "datka = {\n",
    "    'Alpha': parameters['ro_a'],\n",
    "    'Ro/Tau': parameters['ro_a'],\n",
    "    'tmax': parameters['iters'],\n",
    "    'G_8 L_best': final_res_G_8,\n",
    "    'G_8 L_best - L_etalon': best_minus_etalon_G_8,\n",
    "    'M_11 L_best': final_res_M_11,\n",
    "    'M_11 L_best - L_etalon': best_minus_etalon_M_11,\n",
    "}\n",
    "\n",
    "df = pd.DataFrame(\n",
    "    datka,\n",
    "    index=[np.arange(1, 6)],\n",
    ")\n",
    "\n",
    "df"
   ]
  },
  {
   "cell_type": "markdown",
   "metadata": {
    "pycharm": {
     "name": "#%% md\n"
    }
   },
   "source": [
    "## Эксперименты с [ACOpy](https://acopy.readthedocs.io/)"
   ]
  },
  {
   "cell_type": "code",
   "execution_count": 46,
   "metadata": {
    "pycharm": {
     "name": "#%%\n"
    }
   },
   "outputs": [],
   "source": [
    "solver = acopy.Solver(rho=1.0, q=4)\n",
    "colony = acopy.Colony(alpha=.5, beta=.5)\n",
    "\n",
    "stats = acopy.plugins.StatsRecorder()\n",
    "solver.add_plugin(stats)\n",
    "\n",
    "timer = acopy.plugins.Timer()\n",
    "solver.add_plugin(timer)\n",
    "\n",
    "printout = acopy.plugins.Printout()\n",
    "solver.add_plugin(printout)\n",
    "\n",
    "# darwin = acopy.plugins.Darwin(sigma=.25)\n",
    "# elite = acopy.plugins.EliteTracer(factor=2)\n",
    "# periodic = acopy.plugins.PeriodicActionPlugin(period=100)\n",
    "# PeriodicReset\n",
    "# PheromoneFlip\n",
    "# EarlyTerminationPlugin\n",
    "# threshold = acopy.plugins.Threshold(threshold=1719)\n",
    "# time_limit = acopy.plugins.TimeLimit(seconds=30)"
   ]
  },
  {
   "cell_type": "markdown",
   "metadata": {},
   "source": [
    "### граф G_6"
   ]
  },
  {
   "cell_type": "code",
   "execution_count": 47,
   "metadata": {},
   "outputs": [],
   "source": [
    "G6 = nx.from_numpy_matrix(np.array(G_6))"
   ]
  },
  {
   "cell_type": "code",
   "execution_count": 48,
   "metadata": {
    "scrolled": true
   },
   "outputs": [
    {
     "data": {
      "image/png": "[encoded data removed]",
      "text/plain": [
       "<Figure size 432x288 with 1 Axes>"
      ]
     },
     "metadata": {},
     "output_type": "display_data"
    }
   ],
   "source": [
    "nx.draw_shell(G6, with_labels=True, font_weight='bold')"
   ]
  },
  {
   "cell_type": "code",
   "execution_count": 49,
   "metadata": {},
   "outputs": [
    {
     "name": "stdout",
     "output_type": "stream",
     "text": [
      "Using 6 ants from Colony(alpha=0.5, beta=0.5)\n",
      "Performing 100 iterations:\n",
      "Iteration  Cost                 Solution\n",
      "1          128.3                0 1 5 4 3 2\n",
      "2          46.599999999999994   0 1 4 2 3 5\n",
      "3          46.599999999999994   0 1 4 2 3 5\r",
      "4          46.6                 0 5 3 2 4 1\r",
      "5          34.9                 0 1 2 4 3 5\n",
      "6          34.9                 0 5 3 4 2 1\r",
      "7          34.9                 0 5 3 4 2 1\r",
      "8          34.900000000000006   0 5 3 4 2 1\r",
      "9          65.19999999999999    0 5 2 4 3 1\r",
      "10         65.19999999999999    0 5 2 4 3 1\r",
      "11         65.19999999999999    0 5 2 4 3 1\r",
      "12         65.19999999999999    0 1 3 4 2 5\r",
      "13         65.19999999999999    0 5 2 4 3 1\r",
      "14         65.19999999999999    0 5 2 4 3 1\r",
      "15         65.19999999999999    0 5 2 4 3 1\r",
      "16         65.19999999999999    0 5 2 4 3 1\r",
      "17         65.19999999999999    0 5 2 4 3 1\r",
      "18         65.19999999999999    0 5 2 4 3 1\r",
      "19         65.19999999999999    0 1 3 4 2 5\r",
      "20         65.19999999999999    0 5 2 4 3 1\r",
      "21         65.19999999999999    0 5 2 4 3 1\r",
      "22         65.19999999999999    0 5 2 4 3 1\r",
      "23         65.19999999999999    0 1 3 4 2 5\r",
      "24         65.19999999999999    0 1 3 4 2 5\r",
      "25         65.19999999999999    0 5 2 4 3 1\r",
      "26         58.8                 0 4 2 1 3 5\r",
      "27         60.3                 0 1 5 3 2 4\r",
      "28         46.599999999999994   0 5 3 2 4 1\r",
      "29         46.599999999999994   0 5 3 2 4 1\r",
      "30         60.3                 0 1 5 3 2 4\r",
      "31         41.8                 0 2 4 1 3 5\r",
      "32         58.8                 0 4 2 1 3 5\r",
      "33         60.3                 0 4 2 3 5 1\r",
      "34         60.3                 0 4 2 3 5 1\r",
      "35         60.3                 0 1 5 3 2 4\r",
      "36         81.19999999999999    0 4 3 2 5 1\r",
      "37         83.2                 0 5 1 2 4 3\r",
      "38         31.6                 0 2 4 3 5 1\n",
      "39         31.6                 0 1 5 3 4 2\r",
      "40         31.6                 0 2 4 3 5 1\r",
      "41         31.6                 0 2 4 3 5 1\r",
      "42         31.6                 0 2 4 3 5 1\r",
      "43         31.6                 0 2 4 3 5 1\r",
      "44         31.6                 0 1 5 3 4 2\r",
      "45         31.6                 0 2 4 3 5 1\r",
      "46         31.6                 0 1 5 3 4 2\r",
      "47         34.9                 0 1 2 4 3 5\r",
      "48         41.8                 0 2 4 1 3 5\r",
      "49         55.4                 0 2 5 3 4 1\r",
      "50         55.4                 0 2 5 3 4 1\r",
      "51         55.4                 0 1 4 3 5 2\r",
      "52         55.4                 0 1 4 3 5 2\r",
      "53         55.4                 0 1 4 3 5 2\r",
      "54         34.9                 0 5 3 4 2 1\r",
      "55         41.2                 0 5 1 4 3 2\r",
      "56         34.900000000000006   0 1 2 4 3 5\r",
      "57         46.6                 0 5 3 2 4 1\r",
      "58         41.2                 0 2 3 4 1 5\r",
      "59         41.2                 0 2 3 4 1 5\r",
      "60         55.4                 0 1 4 3 5 2\r",
      "61         55.4                 0 2 5 3 4 1\r",
      "62         55.4                 0 1 4 3 5 2\r",
      "63         55.4                 0 1 4 3 5 2\r",
      "64         55.4                 0 1 4 3 5 2\r",
      "65         55.4                 0 2 5 3 4 1\r",
      "66         55.4                 0 2 5 3 4 1\r",
      "67         55.4                 0 2 5 3 4 1\r",
      "68         55.4                 0 2 5 3 4 1\r",
      "69         46.599999999999994   0 1 4 2 3 5\r",
      "70         31.6                 0 2 4 3 5 1\r",
      "71         46.599999999999994   0 5 3 2 4 1\r",
      "72         31.6                 0 2 4 3 5 1\r",
      "73         31.6                 0 2 4 3 5 1\r",
      "74         34.9                 0 1 2 4 3 5\r",
      "75         34.9                 0 1 2 4 3 5\r",
      "76         34.9                 0 1 2 4 3 5\r",
      "77         34.9                 0 5 3 4 2 1\r",
      "78         34.9                 0 5 3 4 2 1\r",
      "79         34.9                 0 5 3 4 2 1\r",
      "80         34.9                 0 1 2 4 3 5\r",
      "81         34.9                 0 1 2 4 3 5\r",
      "82         34.9                 0 1 2 4 3 5\r",
      "83         34.9                 0 5 3 4 2 1\r",
      "84         34.9                 0 5 3 4 2 1\r",
      "85         32.4                 0 2 1 4 3 5\r",
      "86         76.4                 0 2 5 1 3 4\r",
      "87         46.1                 0 4 3 5 1 2\r",
      "88         32.4                 0 5 3 4 1 2\r",
      "89         32.4                 0 2 1 4 3 5\r",
      "90         32.4                 0 2 1 4 3 5\r",
      "91         32.4                 0 5 3 4 1 2\r",
      "92         32.4                 0 5 3 4 1 2\r",
      "93         32.4                 0 2 1 4 3 5\r",
      "94         32.4                 0 2 1 4 3 5\r",
      "95         32.4                 0 5 3 4 1 2\r",
      "96         32.4                 0 5 3 4 1 2\r",
      "97         32.4                 0 2 1 4 3 5\r",
      "98         32.4                 0 5 3 4 1 2\r",
      "99         32.4                 0 2 1 4 3 5\r",
      "100        32.4                 0 2 1 4 3 5\r",
      "\r",
      "-------------------------------------------\n"
     ]
    }
   ],
   "source": [
    "tour = solver.solve(G6, colony, limit=100)"
   ]
  },
  {
   "cell_type": "code",
   "execution_count": 50,
   "metadata": {},
   "outputs": [
    {
     "data": {
      "text/plain": [
       "31.6"
      ]
     },
     "metadata": {},
     "output_type": "display_data"
    },
    {
     "data": {
      "text/plain": [
       "[3, 5, 1, 0, 2, 4]"
      ]
     },
     "metadata": {},
     "output_type": "display_data"
    },
    {
     "data": {
      "text/plain": [
       "[(3, 5), (5, 1), (1, 0), (0, 2), (2, 4), (4, 3)]"
      ]
     },
     "metadata": {},
     "output_type": "display_data"
    }
   ],
   "source": [
    "display(tour.cost, tour.nodes, tour.path)"
   ]
  },
  {
   "cell_type": "markdown",
   "metadata": {},
   "source": [
    "### графики"
   ]
  },
  {
   "cell_type": "code",
   "execution_count": 51,
   "metadata": {},
   "outputs": [],
   "source": [
    "# stats.data"
   ]
  },
  {
   "cell_type": "code",
   "execution_count": 52,
   "metadata": {},
   "outputs": [],
   "source": [
    "# stats.stats.keys()\n",
    "# stats.stats.get('pheromone_levels')"
   ]
  },
  {
   "cell_type": "code",
   "execution_count": 53,
   "metadata": {},
   "outputs": [],
   "source": [
    "aplot = acopy.utils.plot.Plotter(stats.stats)"
   ]
  },
  {
   "cell_type": "code",
   "execution_count": 54,
   "metadata": {},
   "outputs": [
    {
     "data": {
      "text/plain": [
       "[]"
      ]
     },
     "execution_count": 54,
     "metadata": {},
     "output_type": "execute_result"
    }
   ],
   "source": [
    "aplot.extract_ant_distances()"
   ]
  },
  {
   "cell_type": "code",
   "execution_count": 55,
   "metadata": {},
   "outputs": [
    {
     "data": {
      "image/png": "[encoded data removed]",
      "text/plain": [
       "<Figure size 432x288 with 1 Axes>"
      ]
     },
     "metadata": {
      "needs_background": "light"
     },
     "output_type": "display_data"
    },
    {
     "data": {
      "image/png": "[encoded data removed]",
      "text/plain": [
       "<Figure size 432x288 with 1 Axes>"
      ]
     },
     "metadata": {
      "needs_background": "light"
     },
     "output_type": "display_data"
    },
    {
     "data": {
      "image/png": "[encoded data removed]",
      "text/plain": [
       "<Figure size 432x288 with 1 Axes>"
      ]
     },
     "metadata": {
      "needs_background": "light"
     },
     "output_type": "display_data"
    },
    {
     "data": {
      "image/png": "[encoded data removed]",
      "text/plain": [
       "<Figure size 432x288 with 1 Axes>"
      ]
     },
     "metadata": {
      "needs_background": "light"
     },
     "output_type": "display_data"
    }
   ],
   "source": [
    "aplot.plot()"
   ]
  },
  {
   "cell_type": "markdown",
   "metadata": {},
   "source": [
    "### граф M_"
   ]
  },
  {
   "cell_type": "code",
   "execution_count": 56,
   "metadata": {},
   "outputs": [],
   "source": [
    "G_M = nx.from_numpy_matrix(np.array(M_))"
   ]
  },
  {
   "cell_type": "code",
   "execution_count": 57,
   "metadata": {},
   "outputs": [
    {
     "data": {
      "image/png": "[encoded data removed]",
      "text/plain": [
       "<Figure size 432x288 with 1 Axes>"
      ]
     },
     "metadata": {},
     "output_type": "display_data"
    }
   ],
   "source": [
    "nx.draw_shell(G_M, with_labels=True, font_weight='bold')"
   ]
  },
  {
   "cell_type": "code",
   "execution_count": 58,
   "metadata": {
    "scrolled": true
   },
   "outputs": [
    {
     "name": "stdout",
     "output_type": "stream",
     "text": [
      "Using 5 ants from Colony(alpha=0.5, beta=0.5)\n",
      "Performing 100 iterations:\n",
      "Iteration  Cost                 Solution\n",
      "1          10.0                 0 1 4 3 2\n",
      "2          10.0                 0 2 3 4 1\r",
      "3          10.0                 0 2 3 4 1\r",
      "4          10.0                 0 2 3 4 1\r",
      "5          10.0                 0 1 4 3 2\r",
      "6          10.0                 0 1 4 3 2\r",
      "7          10.0                 0 1 4 3 2\r",
      "8          10.0                 0 2 3 4 1\r",
      "9          10.0                 0 1 4 3 2\r",
      "10         10.0                 0 1 4 3 2\r",
      "11         10.0                 0 1 4 3 2\r",
      "12         10.0                 0 1 4 3 2\r",
      "13         10.0                 0 1 4 3 2\r",
      "14         10.0                 0 2 3 4 1\r",
      "15         14.0                 0 1 4 2 3\r",
      "16         10.0                 0 1 4 3 2\r",
      "17         10.0                 0 1 4 3 2\r",
      "18         14.0                 0 1 4 2 3\r",
      "19         10.0                 0 2 3 4 1\r",
      "20         10.0                 0 2 3 4 1\r",
      "21         10.0                 0 2 3 4 1\r",
      "22         10.0                 0 2 3 4 1\r",
      "23         10.0                 0 1 4 3 2\r",
      "24         10.0                 0 2 3 4 1\r",
      "25         10.0                 0 1 4 3 2\r",
      "26         10.0                 0 2 3 4 1\r",
      "27         10.0                 0 2 3 4 1\r",
      "28         10.0                 0 1 4 3 2\r",
      "29         10.0                 0 2 3 4 1\r",
      "30         10.0                 0 2 3 4 1\r",
      "31         10.0                 0 2 3 4 1\r",
      "32         10.0                 0 2 3 4 1\r",
      "33         10.0                 0 2 3 4 1\r",
      "34         10.0                 0 2 3 4 1\r",
      "35         10.0                 0 1 4 3 2\r",
      "36         10.0                 0 1 4 3 2\r",
      "37         10.0                 0 2 3 4 1\r",
      "38         10.0                 0 2 3 4 1\r",
      "39         10.0                 0 2 3 4 1\r",
      "40         10.0                 0 1 4 3 2\r",
      "41         13.0                 0 1 3 2 4\r",
      "42         13.0                 0 1 3 2 4\r",
      "43         10.0                 0 1 4 3 2\r",
      "44         12.0                 0 2 4 3 1\r",
      "45         15.0                 0 2 3 1 4\r",
      "46         13.0                 0 4 2 3 1\r",
      "47         10.0                 0 2 3 4 1\r",
      "48         10.0                 0 1 4 3 2\r",
      "49         10.0                 0 2 3 4 1\r",
      "50         10.0                 0 2 3 4 1\r",
      "51         10.0                 0 2 3 4 1\r",
      "52         10.0                 0 2 3 4 1\r",
      "53         10.0                 0 1 4 3 2\r",
      "54         10.0                 0 2 3 4 1\r",
      "55         10.0                 0 2 3 4 1\r",
      "56         10.0                 0 1 4 3 2\r",
      "57         10.0                 0 2 3 4 1\r",
      "58         10.0                 0 1 4 3 2\r",
      "59         10.0                 0 1 4 3 2\r",
      "60         10.0                 0 1 4 3 2\r",
      "61         10.0                 0 2 3 4 1\r",
      "62         10.0                 0 2 3 4 1\r",
      "63         10.0                 0 1 4 3 2\r",
      "64         10.0                 0 2 3 4 1\r",
      "65         10.0                 0 2 3 4 1\r",
      "66         10.0                 0 1 4 3 2\r",
      "67         10.0                 0 1 4 3 2\r",
      "68         10.0                 0 2 3 4 1\r",
      "69         10.0                 0 1 4 3 2\r",
      "70         10.0                 0 2 3 4 1\r",
      "71         10.0                 0 1 4 3 2\r",
      "72         10.0                 0 2 3 4 1\r",
      "73         10.0                 0 2 3 4 1\r",
      "74         10.0                 0 1 4 3 2\r",
      "75         10.0                 0 1 4 3 2\r",
      "76         10.0                 0 2 3 4 1\r",
      "77         10.0                 0 2 3 4 1\r",
      "78         10.0                 0 2 3 4 1\r",
      "79         10.0                 0 1 4 3 2\r",
      "80         10.0                 0 1 4 3 2\r",
      "81         10.0                 0 2 3 4 1\r",
      "82         10.0                 0 2 3 4 1\r",
      "83         10.0                 0 2 3 4 1\r",
      "84         10.0                 0 1 4 3 2\r",
      "85         10.0                 0 2 3 4 1\r",
      "86         10.0                 0 2 3 4 1\r",
      "87         10.0                 0 1 4 3 2\r",
      "88         10.0                 0 1 4 3 2\r",
      "89         10.0                 0 1 4 3 2\r",
      "90         10.0                 0 1 4 3 2\r",
      "91         10.0                 0 2 3 4 1\r",
      "92         10.0                 0 1 4 3 2\r",
      "93         10.0                 0 1 4 3 2\r",
      "94         10.0                 0 1 4 3 2\r",
      "95         10.0                 0 1 4 3 2\r",
      "96         10.0                 0 2 3 4 1\r",
      "97         10.0                 0 1 4 3 2\r",
      "98         10.0                 0 1 4 3 2\r",
      "99         10.0                 0 2 3 4 1\r",
      "100        10.0                 0 2 3 4 1\r",
      "\r",
      "-----------------------------------------\n"
     ]
    }
   ],
   "source": [
    "tour = solver.solve(G_M, colony, limit=100)"
   ]
  },
  {
   "cell_type": "code",
   "execution_count": 59,
   "metadata": {},
   "outputs": [
    {
     "data": {
      "text/plain": [
       "10.0"
      ]
     },
     "metadata": {},
     "output_type": "display_data"
    },
    {
     "data": {
      "text/plain": [
       "[1, 4, 3, 2, 0]"
      ]
     },
     "metadata": {},
     "output_type": "display_data"
    },
    {
     "data": {
      "text/plain": [
       "[(1, 4), (4, 3), (3, 2), (2, 0), (0, 1)]"
      ]
     },
     "metadata": {},
     "output_type": "display_data"
    }
   ],
   "source": [
    "display(tour.cost, tour.nodes, tour.path)"
   ]
  },
  {
   "cell_type": "markdown",
   "metadata": {},
   "source": [
    "### граф G_6_int"
   ]
  },
  {
   "cell_type": "code",
   "execution_count": 60,
   "metadata": {},
   "outputs": [],
   "source": [
    "G6_int = nx.from_numpy_matrix(np.array(G_6_int))"
   ]
  },
  {
   "cell_type": "code",
   "execution_count": 61,
   "metadata": {},
   "outputs": [
    {
     "name": "stdout",
     "output_type": "stream",
     "text": [
      "Using 6 ants from Colony(alpha=0.5, beta=0.5)\n",
      "Performing 100 iterations:\n",
      "Iteration  Cost                 Solution\n",
      "1          126.0                0 1 5 4 3 2\n",
      "2          39.0                 0 5 1 4 3 2\n",
      "3          40.0                 0 2 4 1 3 5\r",
      "4          40.0                 0 5 3 1 4 2\r",
      "5          39.0                 0 2 3 4 1 5\r",
      "6          37.0                 0 5 1 3 4 2\n",
      "7          39.0                 0 2 3 4 1 5\r",
      "8          39.0                 0 2 3 4 1 5\r",
      "9          39.0                 0 5 1 4 3 2\r",
      "10         39.0                 0 2 3 4 1 5\r",
      "11         39.0                 0 2 3 4 1 5\r",
      "12         66.0                 0 5 2 3 4 1\r",
      "13         56.0                 0 5 1 2 3 4\r",
      "14         44.0                 0 2 1 5 3 4\r",
      "15         30.0                 0 5 3 4 1 2\n",
      "16         30.0                 0 5 3 4 1 2\r",
      "17         30.0                 0 2 4 3 5 1\r",
      "18         30.0                 0 2 4 3 5 1\r",
      "19         30.0                 0 1 5 3 4 2\r",
      "20         30.0                 0 2 4 3 5 1\r",
      "21         30.0                 0 2 4 3 5 1\r",
      "22         30.0                 0 1 5 3 4 2\r",
      "23         30.0                 0 2 4 3 5 1\r",
      "24         30.0                 0 1 5 3 4 2\r",
      "25         30.0                 0 1 5 3 4 2\r",
      "26         30.0                 0 1 5 3 4 2\r",
      "27         39.0                 0 2 3 4 1 5\r",
      "28         39.0                 0 2 3 4 1 5\r",
      "29         80.0                 0 4 3 2 5 1\r",
      "30         39.0                 0 5 1 4 3 2\r",
      "31         39.0                 0 2 3 4 1 5\r",
      "32         44.0                 0 2 1 5 3 4\r",
      "33         37.0                 0 5 1 3 4 2\r",
      "34         37.0                 0 5 1 3 4 2\r",
      "35         37.0                 0 5 1 3 4 2\r",
      "36         37.0                 0 2 4 3 1 5\r",
      "37         37.0                 0 2 4 3 1 5\r",
      "38         37.0                 0 2 4 3 1 5\r",
      "39         37.0                 0 5 1 3 4 2\r",
      "40         37.0                 0 5 1 3 4 2\r",
      "41         37.0                 0 2 4 3 1 5\r",
      "42         37.0                 0 5 1 3 4 2\r",
      "43         37.0                 0 5 1 3 4 2\r",
      "44         37.0                 0 2 4 3 1 5\r",
      "45         37.0                 0 5 1 3 4 2\r",
      "46         37.0                 0 5 1 3 4 2\r",
      "47         37.0                 0 5 1 3 4 2\r",
      "48         37.0                 0 5 1 3 4 2\r",
      "49         37.0                 0 5 1 3 4 2\r",
      "50         37.0                 0 5 1 3 4 2\r",
      "51         37.0                 0 2 4 3 1 5\r",
      "52         37.0                 0 5 1 3 4 2\r",
      "53         37.0                 0 2 4 3 1 5\r",
      "54         37.0                 0 2 4 3 1 5\r",
      "55         37.0                 0 5 1 3 4 2\r",
      "56         37.0                 0 5 1 3 4 2\r",
      "57         37.0                 0 2 4 3 1 5\r",
      "58         37.0                 0 5 1 3 4 2\r",
      "59         37.0                 0 5 1 3 4 2\r",
      "60         37.0                 0 5 1 3 4 2\r",
      "61         37.0                 0 5 1 3 4 2\r",
      "62         37.0                 0 2 4 3 1 5\r",
      "63         37.0                 0 5 1 3 4 2\r",
      "64         37.0                 0 2 4 3 1 5\r",
      "65         37.0                 0 5 1 3 4 2\r",
      "66         37.0                 0 5 1 3 4 2\r",
      "67         37.0                 0 2 4 3 1 5\r",
      "68         37.0                 0 5 1 3 4 2\r",
      "69         30.0                 0 5 3 4 1 2\r",
      "70         30.0                 0 5 3 4 1 2\r",
      "71         30.0                 0 2 1 4 3 5\r",
      "72         39.0                 0 2 3 4 1 5\r",
      "73         30.0                 0 2 1 4 3 5\r",
      "74         30.0                 0 5 3 4 1 2\r",
      "75         39.0                 0 2 3 4 1 5\r",
      "76         30.0                 0 2 1 4 3 5\r",
      "77         30.0                 0 2 1 4 3 5\r",
      "78         30.0                 0 5 3 4 1 2\r",
      "79         30.0                 0 5 3 4 1 2\r",
      "80         30.0                 0 2 1 4 3 5\r",
      "81         30.0                 0 2 1 4 3 5\r",
      "82         30.0                 0 5 3 4 1 2\r",
      "83         56.0                 0 5 1 2 3 4\r",
      "84         33.0                 0 1 2 4 3 5\r",
      "85         57.0                 0 5 3 1 2 4\r",
      "86         56.0                 0 2 3 5 1 4\r",
      "87         40.0                 0 2 4 1 3 5\r",
      "88         40.0                 0 2 4 1 3 5\r",
      "89         37.0                 0 5 1 3 4 2\r",
      "90         33.0                 0 5 3 4 2 1\r",
      "91         44.0                 0 2 1 5 3 4\r",
      "92         30.0                 0 2 4 3 5 1\r",
      "93         30.0                 0 2 4 3 5 1\r",
      "94         30.0                 0 2 1 4 3 5\r",
      "95         33.0                 0 1 2 4 3 5\r",
      "96         33.0                 0 5 3 4 2 1\r",
      "97         33.0                 0 1 2 4 3 5\r",
      "98         33.0                 0 1 2 4 3 5\r",
      "99         33.0                 0 1 2 4 3 5\r",
      "100        33.0                 0 1 2 4 3 5\r",
      "\r",
      "-------------------------------------------\n"
     ]
    }
   ],
   "source": [
    "tour = solver.solve(G6_int, colony, limit=100)"
   ]
  },
  {
   "cell_type": "code",
   "execution_count": 62,
   "metadata": {},
   "outputs": [
    {
     "data": {
      "text/plain": [
       "30.0"
      ]
     },
     "metadata": {},
     "output_type": "display_data"
    },
    {
     "data": {
      "text/plain": [
       "[3, 4, 1, 2, 0, 5]"
      ]
     },
     "metadata": {},
     "output_type": "display_data"
    },
    {
     "data": {
      "text/plain": [
       "[(3, 4), (4, 1), (1, 2), (2, 0), (0, 5), (5, 3)]"
      ]
     },
     "metadata": {},
     "output_type": "display_data"
    }
   ],
   "source": [
    "display(tour.cost, tour.nodes, tour.path)"
   ]
  },
  {
   "cell_type": "markdown",
   "metadata": {
    "pycharm": {
     "name": "#%% md\n"
    }
   },
   "source": [
    "### граф G_8"
   ]
  },
  {
   "cell_type": "code",
   "execution_count": 63,
   "metadata": {},
   "outputs": [],
   "source": [
    "G8 = nx.from_numpy_matrix(np.array(G_8))"
   ]
  },
  {
   "cell_type": "code",
   "execution_count": 64,
   "metadata": {},
   "outputs": [
    {
     "data": {
      "image/png": "[encoded data removed]",
      "text/plain": [
       "<Figure size 432x288 with 1 Axes>"
      ]
     },
     "metadata": {},
     "output_type": "display_data"
    }
   ],
   "source": [
    "nx.draw_shell(G8, with_labels=True, font_weight='bold')"
   ]
  },
  {
   "cell_type": "code",
   "execution_count": 65,
   "metadata": {},
   "outputs": [
    {
     "name": "stdout",
     "output_type": "stream",
     "text": [
      "Using 8 ants from Colony(alpha=0.5, beta=0.5)\n",
      "Performing 100 iterations:\n",
      "Iteration  Cost                 Solution\n",
      "1          54.2                 0 5 7 6 4 3 2 1\n",
      "2          51.900000000000006   0 5 6 4 2 3 7 1\n",
      "4          47.3                 0 5 7 3 6 4 2 1\n",
      "11         43.4                 0 6 5 7 3 4 2 1\n",
      "13         42.8                 0 7 5 6 3 4 2 1\n",
      "14         40.6                 0 7 1 2 4 3 6 5\n",
      "22         35.3                 0 7 3 5 1 2 4 6\n",
      "23         34.9                 0 7 3 4 2 1 5 6\n",
      "79         31.400000000000002   0 2 1 5 6 4 3 7\n",
      "-----------------------------------------------\n"
     ]
    }
   ],
   "source": [
    "tour = solver.solve(G8, colony, limit=100)"
   ]
  },
  {
   "cell_type": "code",
   "execution_count": 66,
   "metadata": {},
   "outputs": [
    {
     "data": {
      "text/plain": [
       "31.400000000000002"
      ]
     },
     "metadata": {},
     "output_type": "display_data"
    },
    {
     "data": {
      "text/plain": [
       "[1, 5, 6, 4, 3, 7, 0, 2]"
      ]
     },
     "metadata": {},
     "output_type": "display_data"
    },
    {
     "data": {
      "text/plain": [
       "[(1, 5), (5, 6), (6, 4), (4, 3), (3, 7), (7, 0), (0, 2), (2, 1)]"
      ]
     },
     "metadata": {},
     "output_type": "display_data"
    }
   ],
   "source": [
    "display(tour.cost, tour.nodes, tour.path)"
   ]
  },
  {
   "cell_type": "markdown",
   "metadata": {},
   "source": [
    "### M_11"
   ]
  },
  {
   "cell_type": "code",
   "execution_count": 68,
   "metadata": {},
   "outputs": [],
   "source": [
    "GM11 = nx.from_numpy_matrix(np.array(M_11))"
   ]
  },
  {
   "cell_type": "code",
   "execution_count": 69,
   "metadata": {},
   "outputs": [
    {
     "data": {
      "image/png": "[encoded data removed]",
      "text/plain": [
       "<Figure size 432x288 with 1 Axes>"
      ]
     },
     "metadata": {},
     "output_type": "display_data"
    }
   ],
   "source": [
    "nx.draw_shell(GM11, with_labels=True, font_weight='bold')"
   ]
  },
  {
   "cell_type": "code",
   "execution_count": 70,
   "metadata": {},
   "outputs": [
    {
     "name": "stdout",
     "output_type": "stream",
     "text": [
      "Using 11 ants from Colony(alpha=0.5, beta=0.5)\n",
      "Performing 1000 iterations:\n",
      "Iteration  Cost                 Solution\n",
      "1          478.0                 0  9 10  8  7  6  5  4  3  2  1\n",
      "2          415.0                 0  7  9  6  5  4  3  2  8 10  1\n",
      "3          351.0                 0  4  2  6  3  5 10  8  1  9  7\n",
      "4          412.0                 0  7  1  9  2 10  8  6  3  5  4\r",
      "5          364.0                 0  2  6  1  9  4  5  3 10  8  7\r",
      "6          351.0                 0  7  8  6 10  3  4  5  9  1  2\r",
      "7          338.0                 0  2 10  5  4  3  6  9  1  8  7\n",
      "8          303.0                 0  2  6  3 10  4  5  9  1  8  7\n",
      "9          271.0                 0  2  6  3 10  8  1  9  5  4  7\n",
      "10         315.0                 0  2  6  3  4  5  9  1  8 10  7\r",
      "11         271.0                 0  7  4  5  9  1  8 10  3  6  2\r",
      "12         308.0                 0  7  6  3  4  5  9  1  8 10  2\r",
      "13         334.0                 0  7  1  4  5  9  8 10  3  6  2\r",
      "14         318.0                 0  7  1  4  5  9  2  6  3 10  8\r",
      "15         285.0                 0  2  6  3 10  9  5  4  8  1  7\r",
      "16         278.0                 0  7  1  8 10  9  5  4  3  6  2\r",
      "17         308.0                 0  6  2  1  8 10  3  4  5  9  7\r",
      "18         306.0                 0  1  2  6  3  4  5  9 10  8  7\r",
      "19         316.0                 0  2  6  3  1  4  5  9 10  8  7\r",
      "20         299.0                 0  6  3  4  5  9  1  2 10  8  7\r",
      "21         318.0                 0  1 10  3  4  5  9  6  2  8  7\r",
      "22         317.0                 0  7  8 10  3  4  5  6  2  1  9\r",
      "23         323.0                 0  7  2  6  3  4  5  9  1 10  8\r",
      "24         308.0                 0  1  9  5  4  3  6 10  2  8  7\r",
      "25         283.0                 0  2 10  6  3  4  5  9  1  8  7\r",
      "26         353.0                 0  7  2  4  1  9  5  3  6 10  8\r",
      "27         307.0                 0  1  8 10  2  6  3  4  5  9  7\r",
      "28         351.0                 0  7  9  5  4  3  2  6 10  1  8\r",
      "29         358.0                 0  4  5  9  1  8 10  2  3  6  7\r",
      "30         325.0                 0  7  8  1  9  5  4  3  6  2 10\r",
      "31         308.0                 0  2 10  8  1  9  5  4  3  6  7\r",
      "32         375.0                 0  7  6  1  8 10  3  4  5  9  2\r",
      "33         283.0                 0  7  8  1  9  5  4  3  6 10  2\r",
      "34         327.0                 0  3  4  5  9  1  8 10  6  2  7\r",
      "35         306.0                 0  3  4  5  9  1 10  6  2  8  7\r",
      "36         346.0                 0  7  8  1  3  6  2 10  9  5  4\r",
      "37         311.0                 0  7  3  6  9  5  4  2 10  8  1\r",
      "38         278.0                 0  7  8 10  3  6  2  1  9  5  4\r",
      "39         342.0                 0  6  3  4  5  9  2  1 10  8  7\r",
      "40         342.0                 0  7  8 10  1  2  9  5  4  3  6\r",
      "41         340.0                 0  7 10  8  2  6  3  4  5  9  1\r",
      "42         352.0                 0  7  8  1  2  6  3  4  5  9 10\r",
      "43         323.0                 0  7  8  4  5  9  1  2  6  3 10\r",
      "44         278.0                 0  8 10  2  6  3  4  5  9  1  7\r",
      "45         353.0                 0  9  3  5  4  8 10  6  2  1  7\r",
      "46         343.0                 0  6  2  1  4  5  9  3 10  8  7\r",
      "47         312.0                 0  7  1  2  6  3 10  9  5  4  8\r",
      "48         330.0                 0  6  3 10  9  5  4  8  2  1  7\r",
      "49         295.0                 0  2  3  6 10  8  4  5  9  1  7\r",
      "50         271.0                 0  7  4  5  9  1  8 10  3  6  2\r",
      "51         310.0                 0  9  5  4  3  6 10  2  8  1  7\r",
      "52         306.0                 0  1  2  6  3  4  5  9 10  8  7\r",
      "53         342.0                 0 10  8  7  1  9  5  4  3  6  2\r",
      "54         336.0                 0  2 10  6  3  4  5  9  1  7  8\r",
      "55         323.0                 0  2  6  3 10  1  7  8  4  5  9\r",
      "56         345.0                 0  9  5  4  7  8  1 10  3  6  2\r",
      "57         352.0                 0  2  1  7  8 10  9  5  4  3  6\r",
      "58         395.0                 0 10  8  2  6  3  4  5  9  7  1\r",
      "59         373.0                 0  2  1 10  8  7  6  3  4  5  9\r",
      "60         410.0                 0  1  8  7  3  4  5 10  9  6  2\r",
      "61         323.0                 0  7  1  2  8 10  9  5  4  3  6\r",
      "62         341.0                 0  7  3  8  4  5  9  1 10  6  2\r",
      "63         337.0                 0  7  1 10  8  9  5  4  3  6  2\r",
      "64         337.0                 0  7  1 10  8  9  5  4  3  6  2\r",
      "65         342.0                 0  7  3  5  4  8  1  2  6 10  9\r",
      "66         319.0                 0  9  5  4  3  6 10  1  2  8  7\r",
      "67         338.0                 0  6  3  2 10  1  9  5  4  8  7\r",
      "68         295.0                 0  2  3  6 10  8  4  5  9  1  7\r",
      "69         305.0                 0  2 10  8  4  5  3  6  9  1  7\r",
      "70         288.0                 0  8  2  6 10  3  4  5  9  1  7\r",
      "71         302.0                 0  7  1  2  6  9  5  4  3 10  8\r",
      "72         264.0                 0  2  6 10  3  4  5  9  1  8  7\n",
      "73         277.0                 0  6  2  8 10  3  4  5  9  1  7\r",
      "74         277.0                 0  6  2  8 10  3  4  5  9  1  7\r",
      "75         281.0                 0  9  5  4  3  6  2 10  8  1  7\r",
      "76         315.0                 0  2  6  3  4  5  9  1  8 10  7\r",
      "77         287.0                 0  2  4  5  9  1  8 10  3  6  7\r",
      "78         304.0                 0  7  8  1  9  5  4  2  6  3 10\r",
      "79         284.0                 0  2  6  1  9  5  4  3 10  8  7\r",
      "80         275.0                 0  3  6  2  4  5  9  1 10  8  7\r",
      "81         260.0                 0  2  6  3  4  5  9  1 10  8  7\n",
      "82         311.0                 0  2 10  8  4  5  9  1  6  3  7\r",
      "83         359.0                 0  2 10  8  7  1  6  3  4  5  9\r",
      "84         308.0                 0  2 10  8  1  9  5  4  3  6  7\r",
      "85         257.0                 0  7  1  9  5  4  2  6  3 10  8\n",
      "86         304.0                 0 10  3  6  2  4  5  9  1  8  7\r",
      "87         297.0                 0  2  8  4  5  9  1 10  6  3  7\r",
      "88         321.0                 0  2  6  1  8 10  9  5  4  3  7\r",
      "89         340.0                 0  2  6  1  7  8 10  3  4  5  9\r",
      "90         319.0                 0  7  3  6  1  9  5  4  2 10  8\r",
      "91         307.0                 0  2  5  4  3  6 10  8  1  9  7\r",
      "92         345.0                 0  7  2  5  4  3  6 10  8  1  9\r",
      "93         389.0                 0 10  6  2  1  9  5  4  3  8  7\r",
      "94         376.0                 0  8  4  5  9  1  3  6 10  2  7\r",
      "95         400.0                 0  7  3  6  8  1  9  5  4 10  2\r",
      "96         346.0                 0  7  6  3  1  8 10  9  5  4  2\r",
      "97         400.0                 0  3 10  2  4  5  9  1  8  6  7\r",
      "98         304.0                 0  3 10  8  1  9  5  4  2  6  7\r",
      "99         287.0                 0  2  4  5  9  1  8 10  3  6  7\r",
      "100        249.0                 0  7  1  9  5  4  8 10  3  6  2\n"
     ]
    },
    {
     "name": "stdout",
     "output_type": "stream",
     "text": [
      "101        286.0                 0  7  9  5  4  2  6  3 10  8  1\r",
      "102        249.0                 0  2  6  3 10  8  4  5  9  1  7\r",
      "103        279.0                 0  9  5  4  8 10  3  6  2  1  7\r",
      "104        363.0                 0  7  5  4  2  6  3 10  8  9  1\r",
      "105        331.0                 0  7  9  5  4  3  6  1  8 10  2\r",
      "106        363.0                 0  7  1  8  5  4  2  6  3 10  9\r",
      "107        357.0                 0  7  1  8  4  5 10  3  6  2  9\r",
      "108        382.0                 0  7  9  2  5  4  8  1 10  3  6\r",
      "109        388.0                 0  9 10  8  1  6  3  5  4  2  7\r",
      "110        427.0                 0  9 10  3  6  8  2  4  5  1  7\r",
      "111        397.0                 0  8 10  9  6  3  2  4  5  1  7\r",
      "112        338.0                 0  7  1  3  6 10  8  4  5  9  2\r",
      "113        303.0                 0  7  1  9  5  4  2  3  6 10  8\r",
      "114        352.0                 0  7  6  3  5  4  2  8 10  9  1\r",
      "115        355.0                 0  5  4  2  8 10  6  3  1  9  7\r",
      "116        294.0                 0  7  9  1  8 10  6  3  5  4  2\r",
      "117        401.0                 0  6  3  4  5 10  9  2  8  1  7\r",
      "118        336.0                 0  1  8  2 10  6  3  4  5  9  7\r",
      "119        340.0                 0  1  8 10  3  4  2  6  5  9  7\r",
      "120        312.0                 0  6  2  3  4  5  9  1 10  8  7\r",
      "121        307.0                 0  7  9  5  4  3  6  2 10  8  1\r",
      "122        333.0                 0  1  8 10  3  6  2  9  5  4  7\r",
      "123        353.0                 0  6  3 10  8  1  2  9  5  4  7\r",
      "124        319.0                 0  7  9  5  4  3 10  6  2  1  8\r",
      "125        283.0                 0  7  8  1  9  5  4  3  6 10  2\r",
      "126        336.0                 0  1  8  2 10  6  3  4  5  9  7\r",
      "127        305.0                 0  7  3  6 10  1  9  5  4  2  8\r",
      "128        340.0                 0  1  9  5  4  8  2 10  3  6  7\r",
      "129        260.0                 0  2  6  3  4  5  9  1 10  8  7\r",
      "130        295.0                 0  7  9  5  4  8  1 10  3  6  2\r",
      "131        347.0                 0  7  8  4  3  1  9  5 10  6  2\r",
      "132        308.0                 0  1  9  5  4  3  6 10  2  8  7\r",
      "133        338.0                 0  6  3  4  5  2  8 10  1  9  7\r",
      "134        279.0                 0  7  8 10  2  6  3  4  5  9  1\r",
      "135        306.0                 0  1  9  5  4  3  2  6 10  8  7\r",
      "136        287.0                 0  1  9  5  4  8 10  2  6  3  7\r",
      "137        265.0                 0  7  3  4  5  9  1  8 10  6  2\r",
      "138        324.0                 0  7  3  5  4  8 10  2  6  9  1\r",
      "139        331.0                 0  7  1  2  8 10  6  9  5  4  3\r",
      "140        319.0                 0  7  3  4  5  9  6  2  8 10  1\r",
      "141        330.0                 0  8  1  4  5  9 10  2  6  3  7\r",
      "142        380.0                 0  8  2  6  3  4  1 10  5  9  7\r",
      "143        339.0                 0  2 10  9  5  4  3  6  1  8  7\r",
      "144        367.0                 0  8  1  9  6  2  4  5  3 10  7\r",
      "145        344.0                 0  7  1  8  2  4  5  9  6  3 10\r",
      "146        325.0                 0  7  4  5  9  1  8  2 10  3  6\r",
      "147        314.0                 0  7  2  4  5  9  1  8 10  3  6\r",
      "148        306.0                 0  7  4  5  2  6  3 10  8  1  9\r",
      "149        323.0                 0  7  2  6  3  4  5  9  1 10  8\r",
      "150        271.0                 0  7  4  5  9  1  8 10  3  6  2\r",
      "151        278.0                 0  9  5  4  2  6  3 10  1  8  7\r",
      "152        298.0                 0  7  4  5  9  1  2  6  3 10  8\r",
      "153        319.0                 0  8  1  2  6 10  3  4  5  9  7\r",
      "154        289.0                 0  6  2 10  3  4  5  9  1  8  7\r",
      "155        412.0                 0  7 10  1  8  2  9  5  4  3  6\r",
      "156        360.0                 0  9  5  4  3  6  2  8  1 10  7\r",
      "157        344.0                 0  7 10  6  3  4  5  9  1  8  2\r",
      "158        378.0                 0  7  8  1 10  4  5  9  6  3  2\r",
      "159        305.0                 0  7  3  6 10  1  9  5  4  2  8\r",
      "160        284.0                 0  2  6  1  9  5  4  3 10  8  7\r",
      "161        283.0                 0  2 10  6  3  4  5  9  1  8  7\r",
      "162        307.0                 0  7  1  9  5  4  3  6 10  2  8\r",
      "163        278.0                 0  8 10  2  6  3  4  5  9  1  7\r",
      "164        360.0                 0  7  6  3  4  5  9 10  8  2  1\r",
      "165        320.0                 0 10  3  6  2  8  4  5  9  1  7\r",
      "166        353.0                 0  7  1  9  5  4  2 10  3  6  8\r",
      "167        338.0                 0  2 10  8  4  5  9  1  3  6  7\r",
      "168        271.0                 0  2  6  3 10  8  1  9  5  4  7\r",
      "169        334.0                 0  5  4  2  6  3  1  9 10  8  7\r",
      "170        331.0                 0  7  3  6  2  1 10  9  5  4  8\r",
      "171        343.0                 0  7  3  2  6  9  5  4  8 10  1\r",
      "172        342.0                 0  1  3 10  2  6  9  5  4  8  7\r",
      "173        267.0                 0  2  6  3 10  1  9  5  4  8  7\r",
      "174        312.0                 0  7  6  3 10  8  2  4  5  9  1\r",
      "175        286.0                 0  7  9  5  4  2  6  3 10  8  1\r",
      "176        308.0                 0  7  6  3  4  5  9  1  8 10  2\r",
      "177        264.0                 0  2  6 10  3  4  5  9  1  8  7\r",
      "178        327.0                 0  7  9  5  4  1 10  8  2  6  3\r",
      "179        296.0                 0  7  8  1 10  9  5  4  3  6  2\r",
      "180        304.0                 0  7  8  1  9  5  4  2  6  3 10\r",
      "181        289.0                 0  7  8  1  9  5  4  3 10  2  6\r",
      "182        308.0                 0  1  9  5  4  3  6 10  2  8  7\r",
      "183        264.0                 0  2  6 10  3  4  5  9  1  8  7\r",
      "184        274.0                 0  2  1  9  5  4  3  6 10  8  7\r",
      "185        360.0                 0  4  5  9  1  8 10  6  3  2  7\r",
      "186        318.0                 0  7  8  1  6  3 10  9  5  4  2\r",
      "187        324.0                 0  9  5  4  2 10  6  3  1  8  7\r",
      "188        311.0                 0  4  5  2  6  3 10  8  1  9  7\r",
      "189        280.0                 0  6  2  1  9  5  4  3 10  8  7\r",
      "190        289.0                 0  7  8  1  9  5  4  3 10  2  6\r",
      "191        280.0                 0  7  8 10  3  4  5  9  1  2  6\r",
      "192        317.0                 0  4  5  2  6  9  1  8 10  3  7\r",
      "193        291.0                 0  6  2  4  5  9  1  3 10  8  7\r",
      "194        303.0                 0  7  3 10  8  1  6  2  4  5  9\r",
      "195        344.0                 0  2  6 10  3  8  1  9  5  4  7\r",
      "196        332.0                 0  9  5  4  2  8  1  6 10  3  7\r",
      "197        325.0                 0  7  4  5  9  1  8  2 10  3  6\r",
      "198        326.0                 0  7  3  6 10  2  8  1  4  5  9\r",
      "199        298.0                 0  3  6 10  2  4  5  9  1  8  7\r",
      "200        304.0                 0 10  3  6  2  4  5  9  1  8  7\r",
      "201        293.0                 0  7  3  6 10  8  1  2  4  5  9\r",
      "202        274.0                 0  2  1  9  5  4  3  6 10  8  7\r",
      "203        282.0                 0  2  1  9  5  4  8 10  6  3  7\r",
      "204        336.0                 0  3  5  4  8 10  6  2  9  1  7\r",
      "205        338.0                 0  1  9  2  6 10  8  4  5  3  7\r",
      "206        324.0                 0 10  8  4  5  9  1  2  6  3  7\r",
      "207        360.0                 0  5  4  8 10  2  3  6  9  1  7\r",
      "208        405.0                 0  5  4  8 10  1  9  6  3  2  7\r",
      "209        332.0                 0  6  2  9  5  4  3 10  1  8  7\r",
      "210        314.0                 0  6  2  9  5  4  3 10  8  1  7\r",
      "211        317.0                 0  7  1 10  3  4  5  9  6  2  8\r",
      "212        303.0                 0  6  3 10  2  8  4  5  9  1  7\r",
      "213        313.0                 0  7  9  5  4  3  6  2  8 10  1\r",
      "214        335.0                 0  1  3  4  5  9  6  2 10  8  7\r",
      "215        291.0                 0  7  8 10  6  2  1  9  5  4  3\r",
      "216        317.0                 0  9  5  4  3  1  2  6 10  8  7\r",
      "217        303.0                 0  7  8  4  5  9  1 10  2  6  3\r",
      "218        267.0                 0  2  6  3 10  1  9  5  4  8  7\r",
      "219        267.0                 0  7  8  4  5  9  1 10  3  6  2\r",
      "220        282.0                 0  2  4  5  9  1  6  3 10  8  7\r",
      "221        282.0                 0  7  8 10  3  6  1  9  5  4  2\r",
      "222        338.0                 0  7  8  4  2  1  9  5 10  3  6\r",
      "223        275.0                 0  3  6  2  4  5  9  1 10  8  7\r",
      "224        327.0                 0  7  8  4  5  9  1  6  2 10  3\r",
      "225        385.0                 0  9  1  8  4  5  3  2 10  6  7\r",
      "226        377.0                 0  9  5  4  8  1  6 10  2  3  7\r",
      "227        348.0                 0  9  5  4  1  3  6 10  2  8  7\r",
      "228        326.0                 0  9  5  4  1  8  2 10  6  3  7\r",
      "229        321.0                 0  7  3  6 10  2  1  8  4  5  9\r",
      "230        321.0                 0  7  3  6 10  2  1  8  4  5  9\r",
      "231        321.0                 0  9  5  4  8  1  2 10  6  3  7\r",
      "232        320.0                 0  2 10  1  8  4  5  9  6  3  7\r",
      "233        331.0                 0  7  3  6  2  1 10  9  5  4  8\r",
      "234        319.0                 0  7  8  2  1 10  6  3  4  5  9\r",
      "235        321.0                 0  9  5  4  8  1  2 10  6  3  7\r",
      "236        327.0                 0  9  5  4  8  2  1 10  6  3  7\r",
      "237        329.0                 0  7  9  5  4  8 10  3  6  1  2\r",
      "238        279.0                 0  7  1  2  6  3 10  8  4  5  9\r",
      "239        386.0                 0  9  1 10  6  5  4  8  2  3  7\r",
      "240        297.0                 0  1  9  5  4  8  2  6 10  3  7\r",
      "241        308.0                 0  7  3  6 10  8  2  1  9  5  4\r",
      "242        339.0                 0  4  5  9  1  3  6 10  2  8  7\r",
      "243        319.0                 0  6  2 10  3  1  9  5  4  8  7\r",
      "244        307.0                 0  9  1  8  4  5  2  6 10  3  7\r",
      "245        339.0                 0  7  3  6  2  8  4  5  9  1 10\r",
      "246        334.0                 0  9  5  4  8  1 10  6  2  3  7\r",
      "247        349.0                 0  7  3  6  9  1  5  4  8 10  2\r",
      "248        249.0                 0  7  1  9  5  4  8 10  3  6  2\r",
      "249        297.0                 0  2  8  4  5  9  1 10  6  3  7\r",
      "250        297.0                 0  2  8  4  5  9  1 10  6  3  7\r",
      "251        316.0                 0  7  3 10  8  2  6  9  5  4  1\r",
      "252        341.0                 0  2  6 10  1  9  5  4  8  3  7\r",
      "253        320.0                 0  7  3  6  9  5  4  8  1 10  2\r",
      "254        310.0                 0  7  8  4  5  9  6  3 10  1  2\r",
      "255        294.0                 0  2  6 10  3  1  9  5  4  8  7\r",
      "256        307.0                 0  7  3 10  6  2  5  4  8  1  9\r",
      "257        318.0                 0  1  9 10  3  6  2  5  4  8  7\r",
      "258        318.0                 0  7  8  4  5  2  6  3 10  9  1\r",
      "259        320.0                 0  7  4  8 10  3  6  2  5  9  1\r",
      "260        282.0                 0  2  1  9  5  4  8 10  6  3  7\r",
      "261        413.0                 0  2  6  3  7  4  5  8 10  1  9\r",
      "262        318.0                 0  7  3 10  8  2  6  1  9  5  4\r",
      "263        324.0                 0 10  8  4  5  9  1  2  6  3  7\r",
      "264        291.0                 0  3  4  5  9  1  2  6 10  8  7\r",
      "265        265.0                 0  7  3  4  5  9  1  8 10  6  2\r",
      "266        274.0                 0  7  8 10  6  3  4  5  9  1  2\r",
      "267        290.0                 0  9  5  4  3  6  2  1 10  8  7\r",
      "268        320.0                 0  6  3  2 10  8  4  5  9  1  7\r",
      "269        325.0                 0  7  8  1  9  5  4  3  6  2 10\r",
      "270        313.0                 0 10  8  2  6  3  4  5  9  1  7\r",
      "271        276.0                 0  8 10  1  9  5  4  2  6  3  7\r",
      "272        336.0                 0 10  6  2  8  1  9  5  4  3  7\r",
      "273        296.0                 0  7  3  4  5  9  1 10  8  2  6\r",
      "274        317.0                 0  2  8  1 10  6  3  4  5  9  7\r",
      "275        271.0                 0  7  1  9  5  4  3  6 10  8  2\r",
      "276        296.0                 0  2  6  3  4  5  9 10  1  8  7\r",
      "277        302.0                 0  2  1  8 10  6  3  4  5  9  7\r",
      "278        308.0                 0  7  3  4  5  9  6 10  8  1  2\r",
      "279        344.0                 0  7  1 10  8  3  4  5  9  6  2\r",
      "280        310.0                 0  7  1  8 10  6  3  9  5  4  2\r",
      "281        292.0                 0  7  3  4  5  9  1  2  6 10  8\r",
      "282        274.0                 0  2  1  9  5  4  3  6 10  8  7\r",
      "283        322.0                 0  7  8  1  9 10  5  4  3  6  2\r",
      "284        288.0                 0  7  3  6 10  8  2  4  5  9  1\r",
      "285        303.0                 0  7  1  9  5  4  2  3  6 10  8\r",
      "286        383.0                 0  7  2  6  3  8 10  1  9  5  4\r",
      "287        288.0                 0  7  3  6  2 10  8  1  9  5  4\r",
      "288        370.0                 0  4  5  2  6  3  8 10  9  1  7\r",
      "289        385.0                 0  4  5  9  1  8  3 10  2  6  7\r",
      "290        276.0                 0  8 10  1  9  5  4  2  6  3  7\r",
      "291        257.0                 0  8 10  3  6  2  4  5  9  1  7\r",
      "292        330.0                 0  7 10  3  6  2  4  5  9  1  8\r",
      "293        312.0                 0  9  5  4  2  8 10  6  3  1  7\r",
      "294        393.0                 0  4  5  2  8 10  3  6  7  1  9\r",
      "295        357.0                 0  2  4  5  3  6  8 10  9  1  7\r",
      "296        371.0                 0  7  1  3  6  5  4  2  8 10  9\r",
      "297        368.0                 0  7  1  8 10  9  6  3  2  4  5\r",
      "298        325.0                 0  9  5  4  8 10  6  3  2  1  7\r",
      "299        349.0                 0  7  1  8 10  3  6  5  4  2  9\r",
      "300        378.0                 0  3  6  9  2  4  5 10  8  1  7\r",
      "301        373.0                 0  6  3  1  8 10  9  5  4  2  7\r",
      "302        257.0                 0  7  1  9  5  4  2  6  3 10  8\r",
      "303        357.0                 0 10  3  6  2  9  5  4  8  1  7\r",
      "304        329.0                 0  7  6  3 10  1  9  5  4  2  8\r",
      "305        257.0                 0  8 10  3  6  2  4  5  9  1  7\r",
      "306        341.0                 0  4  5  9  1  8  2 10  3  6  7\r",
      "307        327.0                 0  7  2  6 10  3  4  5  9  1  8\r",
      "308        343.0                 0  7  8  1 10  6  2  9  5  4  3\r",
      "309        308.0                 0  2 10  8  1  9  5  4  3  6  7\r",
      "310        379.0                 0  7  5  4  8  1  9  2 10  6  3\r",
      "311        335.0                 0  7  6  3  4  5  9  1  2 10  8\r",
      "312        307.0                 0  8  2 10  6  3  4  5  9  1  7\r",
      "313        346.0                 0  7  2 10  6  3  4  5  9  1  8\r",
      "314        339.0                 0  7  1 10  8  2  9  5  4  3  6\r",
      "315        271.0                 0  7  1  9  5  4  3  6 10  8  2\r",
      "316        290.0                 0  9  5  4  3  6  2  1 10  8  7\r",
      "317        317.0                 0  7  1 10  8  2  6  9  5  4  3\r",
      "318        281.0                 0  9  5  4  3  6  2 10  8  1  7\r",
      "319        311.0                 0  3  4  5  9  6  2 10  8  1  7\r",
      "320        381.0                 0  1  8  4  5  9  3 10  2  6  7\r",
      "321        307.0                 0  2  8  4  5  9  6  3 10  1  7\r",
      "322        321.0                 0  2  6 10  8  1  7  3  4  5  9\r",
      "323        281.0                 0  9  5  4  3  6  2 10  8  1  7\r",
      "324        271.0                 0  7  1  9  5  4  3  6 10  8  2\r",
      "325        297.0                 0  9  5  4  1  8 10  2  6  3  7\r",
      "326        351.0                 0  9  5  4  3  1  8 10  2  6  7\r",
      "327        330.0                 0  2  6  3  1  8 10  9  5  4  7\r",
      "328        284.0                 0  7  8 10  3  4  5  9  1  6  2\r",
      "329        303.0                 0  9  5  4  2  6  1  8 10  3  7\r",
      "330        343.0                 0  2  8 10  9  5  4  1  6  3  7\r",
      "331        357.0                 0  7 10  3  6  2  8  1  4  5  9\r",
      "332        394.0                 0  2  6  3  7  8  1  4  5  9 10\r",
      "333        276.0                 0  8 10  1  9  5  4  2  6  3  7\r",
      "334        349.0                 0  7  9  1  4  8 10  5  3  6  2\r",
      "335        312.0                 0  3  2  6 10  8  4  5  9  1  7\r",
      "336        337.0                 0  7  1 10  8  9  5  4  3  6  2\r",
      "337        295.0                 0  7  3  1  9  5  4  8 10  6  2\r",
      "338        328.0                 0  7  1  2 10  8  4  5  9  6  3\r",
      "339        337.0                 0  7  8 10  6  3  9  5  4  1  2\r",
      "340        307.0                 0  7  1 10  3  6  9  5  4  8  2\r",
      "341        267.0                 0  2  6  3 10  1  9  5  4  8  7\r",
      "342        303.0                 0  7  1  9  5  4  8  2 10  3  6\r",
      "343        304.0                 0  8  4  5  9  1 10  2  6  3  7\r",
      "344        309.0                 0  7  1  2  6  9  5  4  8 10  3\r",
      "345        338.0                 0  9  5  2  6 10  8  4  3  1  7\r",
      "346        344.0                 0  9  5  4  8 10  3  7  1  2  6\r",
      "347        264.0                 0  2  6 10  3  4  5  9  1  8  7\r",
      "348        275.0                 0  2  6  9  5  4  3 10  8  1  7\r",
      "349        280.0                 0  8  1  9  5  4  2  6 10  3  7\r",
      "350        291.0                 0  3  4  5  9  1  2  6 10  8  7\r",
      "351        323.0                 0  7  3  6 10  9  1  8  4  5  2\r",
      "352        282.0                 0  2  4  5  9  1  6  3 10  8  7\r",
      "353        279.0                 0  1  9  5  4  3  6  2 10  8  7\r",
      "354        288.0                 0  7  3  6 10  8  2  4  5  9  1\r",
      "355        293.0                 0  6  3 10  1  9  5  4  2  8  7\r",
      "356        299.0                 0  7  8 10  2  1  9  5  4  3  6\r",
      "357        294.0                 0  4  5  9  1 10  8  2  6  3  7\r",
      "358        283.0                 0  2 10  6  3  4  5  9  1  8  7\r",
      "359        274.0                 0  2  1  9  5  4  3  6 10  8  7\r",
      "360        274.0                 0  7  8 10  6  3  4  5  9  1  2\r",
      "361        265.0                 0  2  6 10  8  1  9  5  4  3  7\r",
      "362        303.0                 0  2  6 10  3  5  4  8  1  9  7\r",
      "363        297.0                 0  2  8  4  5  9  1 10  6  3  7\r",
      "364        347.0                 0  7  8 10  1  5  9  6  3  4  2\r",
      "365        305.0                 0  7  9  5  4  8 10  3  6  2  1\r",
      "366        249.0                 0  2  6  3 10  8  4  5  9  1  7\r",
      "367        299.0                 0  8  4  5  9  1  2  6 10  3  7\r",
      "368        292.0                 0  7  3  4  5  9  1  2  6 10  8\r",
      "369        303.0                 0  7  8 10  3  4  5  9  6  2  1\r",
      "370        278.0                 0  7  1  8 10  9  5  4  3  6  2\r",
      "371        301.0                 0  7  8 10  3  6  9  5  4  2  1\r",
      "372        329.0                 0  1  7  8 10  3  4  5  9  6  2\r",
      "373        318.0                 0  4  5  9  6  3 10  8  2  1  7\r",
      "374        291.0                 0  9  5  4  3 10  6  2  8  1  7\r",
      "375        395.0                 0  7  2  8 10  1  3  6  9  5  4\r",
      "376        327.0                 0  2  4  5  9  6  3 10  8  7  1\r",
      "377        297.0                 0  7  1  9  6  3 10  8  4  5  2\r",
      "378        303.0                 0  7  8  4  5  9  1 10  2  6  3\r",
      "379        313.0                 0  7  8  4  5  9  1  3  6 10  2\r",
      "380        285.0                 0  2  6  3 10  9  5  4  8  1  7\r",
      "381        305.0                 0  7  1  3 10  8  4  5  9  6  2\r",
      "382        320.0                 0  2  4  5  1  9  6  3 10  8  7\r",
      "383        338.0                 0  1  3  6 10  8  2  4  5  9  7\r",
      "384        320.0                 0  7  8  2  4  5  9  1  3 10  6\r",
      "385        285.0                 0  2  4  5  9  1  3  6 10  8  7\r",
      "386        314.0                 0  6  3 10  8  1  9  5  4  2  7\r",
      "387        313.0                 0  1  9  5  4  8 10  3  6  2  7\r",
      "388        319.0                 0  6  2  3 10  1  9  5  4  8  7\r",
      "389        257.0                 0  7  1  9  5  4  2  6  3 10  8\r",
      "390        295.0                 0  2  6  3 10  1  8  4  5  9  7\r",
      "391        340.0                 0  6  3 10  8  1  9  2  4  5  7\r",
      "392        355.0                 0  1  9  5  4  2 10  8  6  3  7\r",
      "393        297.0                 0  2  8  4  5  9  1 10  6  3  7\r",
      "394        345.0                 0  2  6  3  1  9  5  4  8 10  7\r",
      "395        264.0                 0  7  8  1  9  5  4  3 10  6  2\r",
      "396        292.0                 0  2  6  1  9  5  4  8 10  3  7\r",
      "397        280.0                 0  7  3 10  6  2  4  5  9  1  8\r"
     ]
    },
    {
     "name": "stdout",
     "output_type": "stream",
     "text": [
      "----------------------------------------------------------------\n"
     ]
    }
   ],
   "source": [
    "tour = solver.solve(GM11, colony, limit=1000)"
   ]
  },
  {
   "cell_type": "code",
   "execution_count": 71,
   "metadata": {},
   "outputs": [
    {
     "data": {
      "text/plain": [
       "249.0"
      ]
     },
     "metadata": {},
     "output_type": "display_data"
    },
    {
     "data": {
      "text/plain": [
       "[0, 7, 1, 9, 5, 4, 8, 10, 3, 6, 2]"
      ]
     },
     "metadata": {},
     "output_type": "display_data"
    },
    {
     "data": {
      "text/plain": [
       "[(0, 7),\n",
       " (7, 1),\n",
       " (1, 9),\n",
       " (9, 5),\n",
       " (5, 4),\n",
       " (4, 8),\n",
       " (8, 10),\n",
       " (10, 3),\n",
       " (3, 6),\n",
       " (6, 2),\n",
       " (2, 0)]"
      ]
     },
     "metadata": {},
     "output_type": "display_data"
    }
   ],
   "source": [
    "display(tour.cost, tour.nodes, tour.path)"
   ]
  },
  {
   "cell_type": "code",
   "execution_count": null,
   "metadata": {},
   "outputs": [],
   "source": []
  }
 ],
 "metadata": {
  "kernelspec": {
   "display_name": "PyCharm (iu7)",
   "language": "python",
   "name": "pycharm-236ae87f"
  },
  "language_info": {
   "codemirror_mode": {
    "name": "ipython",
    "version": 3
   },
   "file_extension": ".py",
   "mimetype": "text/x-python",
   "name": "python",
   "nbconvert_exporter": "python",
   "pygments_lexer": "ipython3",
   "version": "3.8.5"
  }
 },
 "nbformat": 4,
 "nbformat_minor": 4
}