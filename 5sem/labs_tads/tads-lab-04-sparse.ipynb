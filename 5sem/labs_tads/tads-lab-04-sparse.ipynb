{
 "cells": [
  {
   "cell_type": "code",
   "execution_count": 1,
   "metadata": {},
   "outputs": [],
   "source": [
    "import numpy as np\n",
    "\n",
    "from scipy.sparse import csr_matrix\n",
    "from scipy.sparse.csgraph import csgraph_from_dense"
   ]
  },
  {
   "cell_type": "markdown",
   "metadata": {},
   "source": [
    "# Типы и Структуры Данных. ЛР4\n",
    "## Разреженные матрицы"
   ]
  },
  {
   "cell_type": "markdown",
   "metadata": {},
   "source": [
    "Необходимо реализовать либо КРМ, либо РСФ: упаковку, распаковку, сложение двух матриц и произведение двух матриц.\n",
    "\n",
    "В лабораторной не допускается сплошное извлечение элементов матриц (вида \"извлечь элемент с координатами [i][j] из упакованной матрицы\"), требуется использовать алгоритмы просмотра массива ненулевых элементов."
   ]
  },
  {
   "cell_type": "code",
   "execution_count": 2,
   "metadata": {},
   "outputs": [
    {
     "name": "stdout",
     "output_type": "stream",
     "text": [
      "Данная матрица разреженная\n"
     ]
    }
   ],
   "source": [
    "a = [    \n",
    "        [4, 0, 0],  \n",
    "        [0, 5, 0],  \n",
    "        [0, 0, 6]  \n",
    "    ]\n",
    "   \n",
    "count = 0\n",
    "  \n",
    "rows = len(a)\n",
    "cols = len(a[0])\n",
    "  \n",
    "size = rows * cols\n",
    "   \n",
    "for i in range(0, rows):  \n",
    "    for j in range(0, cols):  \n",
    "        if(a[i][j] == 0):  \n",
    "            count = count + 1\n",
    "\n",
    "if(count > (size/2)):  \n",
    "    print(\"Данная матрица разреженная\")\n",
    "else:  \n",
    "    print(\"Данная матрица плотная\")"
   ]
  },
  {
   "cell_type": "code",
   "execution_count": 3,
   "metadata": {},
   "outputs": [
    {
     "name": "stdout",
     "output_type": "stream",
     "text": [
      "[[1 0 0 1 0 0]\n",
      " [0 0 2 0 0 1]\n",
      " [0 0 0 2 0 0]]\n",
      "\n",
      "0.7222222222222222\n"
     ]
    }
   ],
   "source": [
    "# create dense matrix\n",
    "A = np.array([\n",
    "    [1, 0, 0, 1, 0, 0],\n",
    "    [0, 0, 2, 0, 0, 1],\n",
    "    [0, 0, 0, 2, 0, 0],\n",
    "])\n",
    "\n",
    "print(A)\n",
    "print()\n",
    "\n",
    "# calculate sparsity\n",
    "sparsity = 1.0 - np.count_nonzero(A) / A.size\n",
    "print(sparsity)"
   ]
  },
  {
   "cell_type": "code",
   "execution_count": null,
   "metadata": {},
   "outputs": [],
   "source": []
  },
  {
   "cell_type": "code",
   "execution_count": 4,
   "metadata": {},
   "outputs": [],
   "source": [
    "# страница 23"
   ]
  },
  {
   "cell_type": "code",
   "execution_count": null,
   "metadata": {},
   "outputs": [],
   "source": []
  },
  {
   "cell_type": "code",
   "execution_count": 5,
   "metadata": {},
   "outputs": [],
   "source": [
    "JA = [10, 8, 2, 9, 4, 3, 1, 6, 5, 7]\n",
    "IP = [2, 5, 7]"
   ]
  },
  {
   "cell_type": "code",
   "execution_count": null,
   "metadata": {},
   "outputs": [],
   "source": []
  },
  {
   "cell_type": "code",
   "execution_count": null,
   "metadata": {},
   "outputs": [],
   "source": []
  },
  {
   "cell_type": "code",
   "execution_count": null,
   "metadata": {},
   "outputs": [],
   "source": []
  },
  {
   "cell_type": "code",
   "execution_count": null,
   "metadata": {},
   "outputs": [],
   "source": []
  },
  {
   "cell_type": "markdown",
   "metadata": {},
   "source": [
    "Для проверки результатов используем метод [csr_matrix](https://docs.scipy.org/doc/scipy/reference/generated/scipy.sparse.csr_matrix.html#scipy.sparse.csr_matrix) (Compressed Sparse Row matrix) модуля [Sparse](https://docs.scipy.org/doc/scipy/reference/sparse.html) из библиотеки [SciPy](https://docs.scipy.org/doc/scipy/reference/index.html)"
   ]
  },
  {
   "cell_type": "code",
   "execution_count": 6,
   "metadata": {},
   "outputs": [
    {
     "name": "stdout",
     "output_type": "stream",
     "text": [
      "Исходная матрица:\n",
      "[[1 0 0 1 0 0]\n",
      " [0 0 2 0 0 1]\n",
      " [0 0 0 2 0 0]]\n",
      "\n",
      "Упакованная матрица:\n",
      "  (0, 0)\t1\n",
      "  (0, 3)\t1\n",
      "  (1, 2)\t2\n",
      "  (1, 5)\t1\n",
      "  (2, 3)\t2\n",
      "\n",
      "Распакованная матрица:\n",
      "[[1 0 0 1 0 0]\n",
      " [0 0 2 0 0 1]\n",
      " [0 0 0 2 0 0]]\n"
     ]
    }
   ],
   "source": [
    "# dense to sparse \n",
    "\n",
    "# create dense matrix\n",
    "A = np.array([\n",
    "    [1, 0, 0, 1, 0, 0],\n",
    "    [0, 0, 2, 0, 0, 1],\n",
    "    [0, 0, 0, 2, 0, 0],\n",
    "])\n",
    "\n",
    "print('Исходная матрица:')\n",
    "print(A)\n",
    "print()\n",
    "\n",
    "# convert to sparse matrix (CSR method)\n",
    "print('Упакованная матрица:')\n",
    "S = csr_matrix(A)\n",
    "print(S)\n",
    "print()\n",
    "\n",
    "# reconstruct dense matrix\n",
    "print('Распакованная матрица:')\n",
    "B = S.todense()\n",
    "print(B)"
   ]
  },
  {
   "cell_type": "code",
   "execution_count": 7,
   "metadata": {},
   "outputs": [
    {
     "data": {
      "text/plain": [
       "scipy.sparse.csr.csr_matrix"
      ]
     },
     "execution_count": 7,
     "metadata": {},
     "output_type": "execute_result"
    }
   ],
   "source": [
    "type(S)"
   ]
  },
  {
   "cell_type": "code",
   "execution_count": 8,
   "metadata": {},
   "outputs": [],
   "source": [
    "# G_dense = np.array([[0, 2, 1],\n",
    "#                     [2, 0, 0],\n",
    "#                     [1, 0, 0]])\n",
    "# G_masked = np.ma.masked_values(G_dense, 0)\n",
    "\n",
    "# G_sparse = csr_matrix(G_dense)\n",
    "# G_sparse.data"
   ]
  },
  {
   "cell_type": "code",
   "execution_count": 9,
   "metadata": {},
   "outputs": [],
   "source": [
    "# G2_data = np.array([[np.inf, 2,      0     ],\n",
    "#                     [2,      np.inf, np.inf],\n",
    "#                     [0,      np.inf, np.inf]])\n",
    "# G2_masked = np.ma.masked_invalid(G2_data)\n",
    "# from scipy.sparse.csgraph import csgraph_from_dense\n",
    "# # G2_sparse = csr_matrix(G2_data) would give the wrong result\n",
    "# G2_sparse = csgraph_from_dense(G2_data, null_value=np.inf)\n",
    "# G2_sparse.data"
   ]
  }
 ],
 "metadata": {
  "kernelspec": {
   "display_name": "PyCharm (iu7)",
   "language": "python",
   "name": "pycharm-236ae87f"
  },
  "language_info": {
   "codemirror_mode": {
    "name": "ipython",
    "version": 3
   },
   "file_extension": ".py",
   "mimetype": "text/x-python",
   "name": "python",
   "nbconvert_exporter": "python",
   "pygments_lexer": "ipython3",
   "version": "3.8.5"
  }
 },
 "nbformat": 4,
 "nbformat_minor": 4
}
