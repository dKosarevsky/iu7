{
 "cells": [
  {
   "cell_type": "code",
   "execution_count": 1,
   "metadata": {},
   "outputs": [],
   "source": [
    "import numpy as np\n",
    "\n",
    "from scipy.sparse import csr_matrix, csc_matrix\n",
    "from scipy.sparse.csgraph import csgraph_from_dense"
   ]
  },
  {
   "cell_type": "markdown",
   "metadata": {},
   "source": [
    "# Типы и Структуры Данных. ЛР4\n",
    "## Разреженные матрицы"
   ]
  },
  {
   "cell_type": "markdown",
   "metadata": {},
   "source": [
    "Необходимо реализовать либо КРМ, либо РСФ: упаковку, распаковку, сложение двух матриц и произведение двух матриц.\n",
    "\n",
    "В лабораторной не допускается сплошное извлечение элементов матриц (вида \"извлечь элемент с координатами [i][j] из упакованной матрицы\"), требуется использовать алгоритмы просмотра массива ненулевых элементов."
   ]
  },
  {
   "cell_type": "code",
   "execution_count": 2,
   "metadata": {},
   "outputs": [],
   "source": [
    "A = np.array([\n",
    "    [5, 0, 1, 0, 0, 0, 0, 0, 0],\n",
    "    [0, 1, 0, 0, 0, 0, 0, 0, 0],\n",
    "    [1, 0, 2, 0, 0, 0, 0, 0, 0],\n",
    "    [0, 0, 0, 3, 0, 0, 0, 0, 0],\n",
    "    [0, 0, 0, 0, 4, 0, 0, 0, 0],\n",
    "    [1, 0, 4, 0, 0, 4, 0, 0, 0],\n",
    "    [1, 0, 3, 0, 0, 0, 7, 0, 0],\n",
    "    [2, 7, 1, 0, 0, 0, 0, 1, 0],\n",
    "    [0, 0, 0, 2, 0, 0, 0, 0, 2],\n",
    "])"
   ]
  },
  {
   "cell_type": "code",
   "execution_count": 3,
   "metadata": {},
   "outputs": [],
   "source": [
    "B = np.array([\n",
    "    [1, 0, 0, 0, 0, 0, 0, 0, 0],\n",
    "    [0, 2, 0, 0, 0, 0, 0, 0, 0],\n",
    "    [1, 0, 1, 0, 0, 2, 8, 2, 0],\n",
    "    [0, 0, 0, 3, 0, 0, 0, 0, 0],\n",
    "    [0, 0, 0, 0, 4, 0, 0, 0, 0],\n",
    "    [1, 0, 4, 0, 0, 2, 0, 0, 0],\n",
    "    [1, 0, 2, 0, 0, 0, 1, 0, 0],\n",
    "    [2, 9, 0, 0, 0, 0, 0, 1, 0],\n",
    "    [0, 0, 0, 2, 0, 0, 0, 0, 3],\n",
    "])"
   ]
  },
  {
   "cell_type": "code",
   "execution_count": 4,
   "metadata": {},
   "outputs": [
    {
     "name": "stdout",
     "output_type": "stream",
     "text": [
      "Данная матрица разреженная\n"
     ]
    }
   ],
   "source": [
    "count = 0\n",
    "  \n",
    "rows = len(A)\n",
    "cols = len(A[0])\n",
    "  \n",
    "size = rows * cols\n",
    "   \n",
    "for i in range(0, rows):  \n",
    "    for j in range(0, cols):  \n",
    "        if(A[i][j] == 0):  \n",
    "            count = count + 1\n",
    "\n",
    "if(count > (size/2)):  \n",
    "    print(\"Данная матрица разреженная\")\n",
    "else:  \n",
    "    print(\"Данная матрица плотная\")"
   ]
  },
  {
   "cell_type": "code",
   "execution_count": 5,
   "metadata": {},
   "outputs": [
    {
     "name": "stdout",
     "output_type": "stream",
     "text": [
      "0.7654320987654322\n"
     ]
    }
   ],
   "source": [
    "# калькуляция разреженности матрицы A\n",
    "sparsity = 1.0 - np.count_nonzero(A) / A.size\n",
    "print(sparsity)"
   ]
  },
  {
   "cell_type": "code",
   "execution_count": 6,
   "metadata": {},
   "outputs": [],
   "source": [
    "# функция упаковки матрицы\n",
    "def get_csr_representation(matrix):\n",
    "    rows_index = []\n",
    "    columns = []\n",
    "    elements = []\n",
    "    row_len = len(matrix)\n",
    "    col_len = len(matrix[0])\n",
    "    for i in range(row_len):\n",
    "        rows_index.append(len(columns))\n",
    "        for j in range(col_len):\n",
    "            if(matrix[i][j] != 0):\n",
    "                columns.append(j)\n",
    "                elements.append(matrix[i][j])\n",
    "    rows_index.append(len(columns))\n",
    "    \n",
    "    return rows_index, columns, elements"
   ]
  },
  {
   "cell_type": "code",
   "execution_count": 7,
   "metadata": {},
   "outputs": [],
   "source": [
    "# функция распаковки матрицы\n",
    "def get_dense_representation(csr_matrix):\n",
    "    size = (len(csr_matrix[0])-1, len(csr_matrix[0])-1)\n",
    "    dense_matrix = np.zeros(size)\n",
    "    for i in range(size[0]):\n",
    "        for j in range(csr_matrix[0][i], csr_matrix[0][i+1]):\n",
    "            if j >= len(csr_matrix[2]):\n",
    "                continue\n",
    "            dense_matrix[i][csr_matrix[1][j]] = csr_matrix[2][j]\n",
    "            \n",
    "    return dense_matrix    "
   ]
  },
  {
   "cell_type": "code",
   "execution_count": 8,
   "metadata": {},
   "outputs": [
    {
     "data": {
      "text/plain": [
       "array([[5, 0, 1, 0, 0, 0, 0, 0, 0],\n",
       "       [0, 1, 0, 0, 0, 0, 0, 0, 0],\n",
       "       [1, 0, 2, 0, 0, 0, 0, 0, 0],\n",
       "       [0, 0, 0, 3, 0, 0, 0, 0, 0],\n",
       "       [0, 0, 0, 0, 4, 0, 0, 0, 0],\n",
       "       [1, 0, 4, 0, 0, 4, 0, 0, 0],\n",
       "       [1, 0, 3, 0, 0, 0, 7, 0, 0],\n",
       "       [2, 7, 1, 0, 0, 0, 0, 1, 0],\n",
       "       [0, 0, 0, 2, 0, 0, 0, 0, 2]])"
      ]
     },
     "execution_count": 8,
     "metadata": {},
     "output_type": "execute_result"
    }
   ],
   "source": [
    "A"
   ]
  },
  {
   "cell_type": "code",
   "execution_count": 9,
   "metadata": {},
   "outputs": [
    {
     "data": {
      "text/plain": [
       "array([[1, 0, 0, 0, 0, 0, 0, 0, 0],\n",
       "       [0, 2, 0, 0, 0, 0, 0, 0, 0],\n",
       "       [1, 0, 1, 0, 0, 2, 8, 2, 0],\n",
       "       [0, 0, 0, 3, 0, 0, 0, 0, 0],\n",
       "       [0, 0, 0, 0, 4, 0, 0, 0, 0],\n",
       "       [1, 0, 4, 0, 0, 2, 0, 0, 0],\n",
       "       [1, 0, 2, 0, 0, 0, 1, 0, 0],\n",
       "       [2, 9, 0, 0, 0, 0, 0, 1, 0],\n",
       "       [0, 0, 0, 2, 0, 0, 0, 0, 3]])"
      ]
     },
     "execution_count": 9,
     "metadata": {},
     "output_type": "execute_result"
    }
   ],
   "source": [
    "B"
   ]
  },
  {
   "cell_type": "code",
   "execution_count": 10,
   "metadata": {},
   "outputs": [
    {
     "data": {
      "text/plain": [
       "array([[ 5,  0,  0,  0,  0,  0,  0,  0,  0],\n",
       "       [ 0,  2,  0,  0,  0,  0,  0,  0,  0],\n",
       "       [ 1,  0,  2,  0,  0,  0,  0,  0,  0],\n",
       "       [ 0,  0,  0,  9,  0,  0,  0,  0,  0],\n",
       "       [ 0,  0,  0,  0, 16,  0,  0,  0,  0],\n",
       "       [ 1,  0, 16,  0,  0,  8,  0,  0,  0],\n",
       "       [ 1,  0,  6,  0,  0,  0,  7,  0,  0],\n",
       "       [ 4, 63,  0,  0,  0,  0,  0,  1,  0],\n",
       "       [ 0,  0,  0,  4,  0,  0,  0,  0,  6]])"
      ]
     },
     "execution_count": 10,
     "metadata": {},
     "output_type": "execute_result"
    }
   ],
   "source": [
    "A*B"
   ]
  },
  {
   "cell_type": "code",
   "execution_count": 11,
   "metadata": {},
   "outputs": [],
   "source": [
    "# print('Упакованная CSR матрица A:')\n",
    "# A_csr"
   ]
  },
  {
   "cell_type": "code",
   "execution_count": 12,
   "metadata": {},
   "outputs": [],
   "source": [
    "# print('Упакованная CSR матрица B:')\n",
    "# B_csr"
   ]
  },
  {
   "cell_type": "markdown",
   "metadata": {},
   "source": [
    "get_csr_representation(A*B)"
   ]
  },
  {
   "cell_type": "code",
   "execution_count": 13,
   "metadata": {
    "scrolled": true,
    "pycharm": {
     "name": "#%%\n"
    }
   },
   "outputs": [
    {
     "data": {
      "text/plain": [
       "([0, 1, 2, 4, 5, 6, 9, 12, 15, 17],\n",
       " [0, 1, 0, 2, 3, 4, 0, 2, 5, 0, 2, 6, 0, 1, 7, 3, 8],\n",
       " [5, 2, 1, 2, 9, 16, 1, 16, 8, 1, 6, 7, 4, 63, 1, 4, 6])"
      ]
     },
     "execution_count": 13,
     "metadata": {},
     "output_type": "execute_result"
    }
   ],
   "source": [
    "get_csr_representation(A*B)"
   ]
  },
  {
   "cell_type": "code",
   "execution_count": 15,
   "metadata": {},
   "outputs": [
    {
     "ename": "IndentationError",
     "evalue": "expected an indented block (<ipython-input-15-fa12482cbe37>, line 28)",
     "output_type": "error",
     "traceback": [
      "\u001B[0;36m  File \u001B[0;32m\"<ipython-input-15-fa12482cbe37>\"\u001B[0;36m, line \u001B[0;32m28\u001B[0m\n\u001B[0;31m    sparse_csr_multiplication(A_csr, B_csr)\u001B[0m\n\u001B[0m                                           ^\u001B[0m\n\u001B[0;31mIndentationError\u001B[0m\u001B[0;31m:\u001B[0m expected an indented block\n"
     ]
    }
   ],
   "source": [
    "# функция умножения упакованных матриц\n",
    "def sparse_csr_multiplication(matrix_A, matrix_B):\n",
    "    if matrix_A == matrix_B:\n",
    "        elements = [i*i for i in matrix_A[2]]\n",
    "        res_matr = (matrix_A[0], matrix_A[1], elements)\n",
    "        return res_matr\n",
    "    \n",
    "    rows_A, columns_A, elements_A = matrix_A\n",
    "    rows_B, columns_B, elements_B = matrix_B\n",
    "    result = ([], [], [])\n",
    "    size = len(matrix_A[0])-1\n",
    "    for i in range(size):\n",
    "    \n",
    "    \n",
    "#     rows, columns, elements = matrix_A\n",
    "#     rows_count = len(matrix_B)\n",
    "#     col_count = len(matrix_B[0])\n",
    "#     C = [[0 for _ in range(col_count)] for _ in range(rows_count)]\n",
    "#     print(C)\n",
    "#     for col in range(col_count):\n",
    "#         for row in range(rows_count):\n",
    "#             for j in range(rows[row],rows[row+1]):\n",
    "#                 C[row][col] += elements[j] * matrix_B[columns[j]][col]\n",
    "    \n",
    "#     return C\n",
    "\n",
    "\n",
    "sparse_csr_multiplication(A_csr, B_csr)"
   ]
  },
  {
   "cell_type": "code",
   "execution_count": null,
   "metadata": {},
   "outputs": [],
   "source": [
    "# функция сложения упакованных матриц\n",
    "def sparse_csr_add(matrix_A, matrix_B):\n",
    "    pass"
   ]
  },
  {
   "cell_type": "code",
   "execution_count": null,
   "metadata": {},
   "outputs": [],
   "source": [
    "print('Исходная матрица B:')\n",
    "print(B)"
   ]
  },
  {
   "cell_type": "code",
   "execution_count": null,
   "metadata": {
    "scrolled": true
   },
   "outputs": [],
   "source": [
    "print('Упакованная CSR матрица A:')\n",
    "A_csr = get_csr_representation(A)\n",
    "A_csr"
   ]
  },
  {
   "cell_type": "code",
   "execution_count": null,
   "metadata": {},
   "outputs": [],
   "source": [
    "print('Упакованная CSR матрица B:')\n",
    "B_csr = get_csr_representation(B)\n",
    "B_csr"
   ]
  },
  {
   "cell_type": "code",
   "execution_count": null,
   "metadata": {},
   "outputs": [],
   "source": [
    "print('Распаковка, матрица A:')\n",
    "get_dense_representation(A_csr)"
   ]
  },
  {
   "cell_type": "code",
   "execution_count": null,
   "metadata": {},
   "outputs": [],
   "source": [
    "print('Распаковка, матрица B:')\n",
    "get_dense_representation(B_csr)"
   ]
  },
  {
   "cell_type": "code",
   "execution_count": null,
   "metadata": {
    "scrolled": true
   },
   "outputs": [],
   "source": [
    "get_csr_representation(A*A)"
   ]
  },
  {
   "cell_type": "code",
   "execution_count": null,
   "metadata": {},
   "outputs": [],
   "source": [
    "print('Умножение A*A:')\n",
    "sparse_csr_multiplication(A_csr, A_csr)"
   ]
  },
  {
   "cell_type": "code",
   "execution_count": null,
   "metadata": {},
   "outputs": [],
   "source": [
    "print('Умножение A*B:')\n",
    "sparse_csr_multiplication(A_csr, B_csr)"
   ]
  },
  {
   "cell_type": "code",
   "execution_count": null,
   "metadata": {
    "pycharm": {
     "name": "#%%\n"
    }
   },
   "outputs": [],
   "source": [
    "print('Сложение:')"
   ]
  },
  {
   "cell_type": "code",
   "execution_count": null,
   "metadata": {},
   "outputs": [],
   "source": []
  },
  {
   "cell_type": "code",
   "execution_count": null,
   "metadata": {},
   "outputs": [],
   "source": []
  },
  {
   "cell_type": "markdown",
   "metadata": {
    "pycharm": {
     "name": "#%% md\n"
    }
   },
   "source": [
    "## Проверка\n",
    "Для проверки результатов используем метод [csr_matrix](https://docs.scipy.org/doc/scipy/reference/generated/scipy.sparse.csr_matrix.html#scipy.sparse.csr_matrix) (Compressed Sparse Row matrix) модуля [Sparse](https://docs.scipy.org/doc/scipy/reference/sparse.html) из библиотеки [SciPy](https://docs.scipy.org/doc/scipy/reference/index.html)"
   ]
  },
  {
   "cell_type": "code",
   "execution_count": null,
   "metadata": {
    "pycharm": {
     "name": "#%%\n"
    }
   },
   "outputs": [],
   "source": [
    "# convert to sparse matrix (Compressed Sparse Row - CSR method)\n",
    "print('Упакованная CSR матрица:')\n",
    "S = csr_matrix(A)\n",
    "print(S)"
   ]
  },
  {
   "cell_type": "code",
   "execution_count": null,
   "metadata": {},
   "outputs": [],
   "source": []
  }
 ],
 "metadata": {
  "kernelspec": {
   "display_name": "PyCharm (iu7)",
   "language": "python",
   "name": "pycharm-236ae87f"
  },
  "language_info": {
   "codemirror_mode": {
    "name": "ipython",
    "version": 3
   },
   "file_extension": ".py",
   "mimetype": "text/x-python",
   "name": "python",
   "nbconvert_exporter": "python",
   "pygments_lexer": "ipython3",
   "version": "3.8.5"
  }
 },
 "nbformat": 4,
 "nbformat_minor": 4
}