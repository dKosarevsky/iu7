{
 "cells": [
  {
   "cell_type": "code",
   "execution_count": 1,
   "metadata": {},
   "outputs": [],
   "source": [
    "import numpy as np\n",
    "\n",
    "from scipy.sparse import csr_matrix, csc_matrix\n",
    "from scipy.sparse.csgraph import csgraph_from_dense"
   ]
  },
  {
   "cell_type": "markdown",
   "metadata": {},
   "source": [
    "# Типы и Структуры Данных. ЛР4\n",
    "## Разреженные матрицы"
   ]
  },
  {
   "cell_type": "markdown",
   "metadata": {},
   "source": [
    "Необходимо реализовать либо КРМ, либо РСФ: упаковку, распаковку, сложение двух матриц и произведение двух матриц.\n",
    "\n",
    "В лабораторной не допускается сплошное извлечение элементов матриц (вида \"извлечь элемент с координатами [i][j] из упакованной матрицы\"), требуется использовать алгоритмы просмотра массива ненулевых элементов."
   ]
  },
  {
   "cell_type": "code",
   "execution_count": 2,
   "metadata": {},
   "outputs": [],
   "source": [
    "A = np.array([\n",
    "    [5, 0, 0, 0, 0, 0, 0, 0, 0],\n",
    "    [0, 1, 0, 0, 0, 0, 0, 0, 0],\n",
    "    [1, 0, 2, 0, 0, 0, 0, 0, 0],\n",
    "    [0, 0, 0, 3, 0, 0, 0, 0, 0],\n",
    "    [0, 0, 0, 0, 4, 0, 0, 0, 0],\n",
    "    [1, 0, 4, 0, 0, 4, 0, 0, 0],\n",
    "    [1, 0, 3, 0, 0, 0, 7, 0, 0],\n",
    "    [2, 7, 0, 0, 0, 0, 0, 1, 0],\n",
    "    [0, 0, 0, 2, 0, 0, 0, 0, 2],\n",
    "])"
   ]
  },
  {
   "cell_type": "code",
   "execution_count": 3,
   "metadata": {},
   "outputs": [],
   "source": [
    "B = np.array([\n",
    "    [8, 0, 0, 0, 0, 0, 0, 0, 0],\n",
    "    [0, 2, 0, 0, 0, 0, 0, 0, 0],\n",
    "    [1, 0, 1, 0, 0, 0, 8, 0, 0],\n",
    "    [0, 0, 0, 3, 0, 0, 0, 0, 0],\n",
    "    [0, 0, 0, 0, 4, 0, 0, 0, 0],\n",
    "    [1, 0, 4, 0, 0, 2, 0, 0, 0],\n",
    "    [1, 0, 2, 0, 0, 0, 1, 0, 0],\n",
    "    [2, 9, 0, 0, 0, 0, 0, 1, 0],\n",
    "    [0, 0, 0, 2, 0, 0, 0, 0, 3],\n",
    "])"
   ]
  },
  {
   "cell_type": "code",
   "execution_count": 4,
   "metadata": {},
   "outputs": [
    {
     "name": "stdout",
     "output_type": "stream",
     "text": [
      "Данная матрица разреженная\n"
     ]
    }
   ],
   "source": [
    "count = 0\n",
    "  \n",
    "rows = len(A)\n",
    "cols = len(A[0])\n",
    "  \n",
    "size = rows * cols\n",
    "   \n",
    "for i in range(0, rows):  \n",
    "    for j in range(0, cols):  \n",
    "        if(A[i][j] == 0):  \n",
    "            count = count + 1\n",
    "\n",
    "if(count > (size/2)):  \n",
    "    print(\"Данная матрица разреженная\")\n",
    "else:  \n",
    "    print(\"Данная матрица плотная\")"
   ]
  },
  {
   "cell_type": "code",
   "execution_count": 5,
   "metadata": {},
   "outputs": [
    {
     "name": "stdout",
     "output_type": "stream",
     "text": [
      "0.7901234567901234\n"
     ]
    }
   ],
   "source": [
    "# калькуляция разреженности матрицы A\n",
    "sparsity = 1.0 - np.count_nonzero(A) / A.size\n",
    "print(sparsity)"
   ]
  },
  {
   "cell_type": "code",
   "execution_count": null,
   "metadata": {},
   "outputs": [],
   "source": []
  },
  {
   "cell_type": "code",
   "execution_count": 6,
   "metadata": {},
   "outputs": [],
   "source": [
    "# функция упаковки матрицы\n",
    "def get_csr_representation(matrix):\n",
    "    rows_index = []\n",
    "    columns = []\n",
    "    elements = []\n",
    "    row_len = len(matrix)\n",
    "    col_len = len(matrix[0])\n",
    "    for i in range(row_len):\n",
    "        rows_index.append(len(columns))\n",
    "        for j in range(col_len):\n",
    "            if(matrix[i][j] != 0):\n",
    "                columns.append(j)\n",
    "                elements.append(matrix[i][j])\n",
    "    rows_index.append(len(columns))\n",
    "    \n",
    "    return rows_index, columns, elements"
   ]
  },
  {
   "cell_type": "code",
   "execution_count": 7,
   "metadata": {},
   "outputs": [],
   "source": [
    "# функция умножения упакованных матриц\n",
    "def sparse_csr_multiplication(matrix_A, matrix_B):\n",
    "    rows, columns, elements = matrix_A\n",
    "    rows_count = len(matrix_B)\n",
    "    col_count = len(matrix_B[0])\n",
    "    C = [[0 for _ in range(col_count)] for _ in range(rows_count)]\n",
    "    flop_count = 0\n",
    "    for col in range(col_count):\n",
    "        for row in range(rows_count):\n",
    "            for j in range(rows[row],rows[row+1]):\n",
    "                flop_count += 2\n",
    "                C[row][col] += elements[j] * matrix_B[columns[j]][col]\n",
    "                \n",
    "    return C, flop_count"
   ]
  },
  {
   "cell_type": "code",
   "execution_count": 8,
   "metadata": {},
   "outputs": [
    {
     "name": "stdout",
     "output_type": "stream",
     "text": [
      "Исходная матрица A:\n",
      "[[5 0 0 0 0 0 0 0 0]\n",
      " [0 1 0 0 0 0 0 0 0]\n",
      " [1 0 2 0 0 0 0 0 0]\n",
      " [0 0 0 3 0 0 0 0 0]\n",
      " [0 0 0 0 4 0 0 0 0]\n",
      " [1 0 4 0 0 4 0 0 0]\n",
      " [1 0 3 0 0 0 7 0 0]\n",
      " [2 7 0 0 0 0 0 1 0]\n",
      " [0 0 0 2 0 0 0 0 2]]\n"
     ]
    }
   ],
   "source": [
    "print('Исходная матрица A:')\n",
    "print(A)"
   ]
  },
  {
   "cell_type": "code",
   "execution_count": 9,
   "metadata": {},
   "outputs": [
    {
     "name": "stdout",
     "output_type": "stream",
     "text": [
      "Исходная матрица B:\n",
      "[[8 0 0 0 0 0 0 0 0]\n",
      " [0 2 0 0 0 0 0 0 0]\n",
      " [1 0 1 0 0 0 8 0 0]\n",
      " [0 0 0 3 0 0 0 0 0]\n",
      " [0 0 0 0 4 0 0 0 0]\n",
      " [1 0 4 0 0 2 0 0 0]\n",
      " [1 0 2 0 0 0 1 0 0]\n",
      " [2 9 0 0 0 0 0 1 0]\n",
      " [0 0 0 2 0 0 0 0 3]]\n"
     ]
    }
   ],
   "source": [
    "print('Исходная матрица B:')\n",
    "print(B)"
   ]
  },
  {
   "cell_type": "code",
   "execution_count": 10,
   "metadata": {
    "scrolled": true
   },
   "outputs": [
    {
     "name": "stdout",
     "output_type": "stream",
     "text": [
      "Упакованная CSR матрица A:\n"
     ]
    },
    {
     "data": {
      "text/plain": [
       "([0, 1, 2, 4, 5, 6, 9, 12, 15, 17],\n",
       " [0, 1, 0, 2, 3, 4, 0, 2, 5, 0, 2, 6, 0, 1, 7, 3, 8],\n",
       " [5, 1, 1, 2, 3, 4, 1, 4, 4, 1, 3, 7, 2, 7, 1, 2, 2])"
      ]
     },
     "execution_count": 10,
     "metadata": {},
     "output_type": "execute_result"
    }
   ],
   "source": [
    "print('Упакованная CSR матрица A:')\n",
    "A_csr = get_csr_representation(A)\n",
    "A_csr"
   ]
  },
  {
   "cell_type": "code",
   "execution_count": 11,
   "metadata": {},
   "outputs": [
    {
     "name": "stdout",
     "output_type": "stream",
     "text": [
      "Упакованная CSR матрица B:\n"
     ]
    },
    {
     "data": {
      "text/plain": [
       "([0, 1, 2, 5, 6, 7, 10, 13, 16, 18],\n",
       " [0, 1, 0, 2, 6, 3, 4, 0, 2, 5, 0, 2, 6, 0, 1, 7, 3, 8],\n",
       " [8, 2, 1, 1, 8, 3, 4, 1, 4, 2, 1, 2, 1, 2, 9, 1, 2, 3])"
      ]
     },
     "execution_count": 11,
     "metadata": {},
     "output_type": "execute_result"
    }
   ],
   "source": [
    "print('Упакованная CSR матрица B:')\n",
    "B_csr = get_csr_representation(B)\n",
    "B_csr"
   ]
  },
  {
   "cell_type": "code",
   "execution_count": 12,
   "metadata": {
    "pycharm": {
     "name": "#%%\n"
    }
   },
   "outputs": [
    {
     "name": "stdout",
     "output_type": "stream",
     "text": [
      "Распаковка:\n"
     ]
    }
   ],
   "source": [
    "print('Распаковка:')"
   ]
  },
  {
   "cell_type": "code",
   "execution_count": 13,
   "metadata": {},
   "outputs": [
    {
     "name": "stdout",
     "output_type": "stream",
     "text": [
      "Умножение A*A:\n",
      "([[0, 5, 10, 20, 25, 30, 45, 60, 75, 85], [0, 1, 0, 2, 3, 4, 0, 2, 5, 0], [10, 3, 4, 8, 11, 14, 11, 20, 23, 19]], 80)\n"
     ]
    }
   ],
   "source": [
    "print('Умножение A*A:')\n",
    "print(sparse_csr_multiplication(A_csr, A_csr))"
   ]
  },
  {
   "cell_type": "code",
   "execution_count": 14,
   "metadata": {},
   "outputs": [
    {
     "name": "stdout",
     "output_type": "stream",
     "text": [
      "Умножение A*B:\n",
      "([[0, 5, 10, 20, 25, 30, 45, 60, 75, 85], [0, 1, 0, 2, 3, 4, 0, 2, 5, 0], [10, 3, 4, 8, 11, 14, 11, 20, 23, 19]], 80)\n"
     ]
    }
   ],
   "source": [
    "print('Умножение A*B:')\n",
    "print(sparse_csr_multiplication(A_csr, A_csr))"
   ]
  },
  {
   "cell_type": "code",
   "execution_count": 15,
   "metadata": {},
   "outputs": [
    {
     "name": "stdout",
     "output_type": "stream",
     "text": [
      "Умножение:\n",
      "([[40, 0, 0, 0, 0, 0, 0, 0, 0], [0, 2, 0, 0, 0, 0, 0, 0, 0], [10, 0, 2, 0, 0, 0, 16, 0, 0], [0, 0, 0, 9, 0, 0, 0, 0, 0], [0, 0, 0, 0, 16, 0, 0, 0, 0], [16, 0, 20, 0, 0, 8, 32, 0, 0], [18, 0, 17, 0, 0, 0, 31, 0, 0], [18, 23, 0, 0, 0, 0, 0, 1, 0], [0, 0, 0, 10, 0, 0, 0, 0, 6]], 306)\n"
     ]
    }
   ],
   "source": [
    "print('Умножение:')\n",
    "print(sparse_csr_multiplication(A_csr, B))"
   ]
  },
  {
   "cell_type": "code",
   "execution_count": 16,
   "metadata": {
    "pycharm": {
     "name": "#%%\n"
    }
   },
   "outputs": [
    {
     "name": "stdout",
     "output_type": "stream",
     "text": [
      "Сложение:\n"
     ]
    }
   ],
   "source": [
    "print('Сложение:')"
   ]
  },
  {
   "cell_type": "code",
   "execution_count": 17,
   "metadata": {},
   "outputs": [
    {
     "data": {
      "text/plain": [
       "([0, 1, 2, 4, 5, 6, 9, 12, 15, 17],\n",
       " [0, 1, 0, 2, 3, 4, 0, 2, 5, 0, 2, 6, 0, 1, 7, 3, 8],\n",
       " [25, 1, 1, 4, 9, 16, 1, 16, 16, 1, 9, 49, 4, 49, 1, 4, 4])"
      ]
     },
     "execution_count": 17,
     "metadata": {},
     "output_type": "execute_result"
    }
   ],
   "source": [
    "get_csr_representation(A*A)"
   ]
  },
  {
   "cell_type": "code",
   "execution_count": null,
   "metadata": {},
   "outputs": [],
   "source": []
  },
  {
   "cell_type": "markdown",
   "metadata": {
    "pycharm": {
     "name": "#%% md\n"
    }
   },
   "source": [
    "## Проверка\n",
    "Для проверки результатов используем метод [csr_matrix](https://docs.scipy.org/doc/scipy/reference/generated/scipy.sparse.csr_matrix.html#scipy.sparse.csr_matrix) (Compressed Sparse Row matrix) модуля [Sparse](https://docs.scipy.org/doc/scipy/reference/sparse.html) из библиотеки [SciPy](https://docs.scipy.org/doc/scipy/reference/index.html)"
   ]
  },
  {
   "cell_type": "code",
   "execution_count": 19,
   "metadata": {
    "pycharm": {
     "name": "#%%\n"
    }
   },
   "outputs": [
    {
     "name": "stdout",
     "output_type": "stream",
     "text": [
      "Распакованная матрица:\n",
      "[[5 0 0 0 0 0 0 0 0]\n",
      " [0 1 0 0 0 0 0 0 0]\n",
      " [1 0 2 0 0 0 0 0 0]\n",
      " [0 0 0 3 0 0 0 0 0]\n",
      " [0 0 0 0 4 0 0 0 0]\n",
      " [1 0 4 0 0 4 0 0 0]\n",
      " [1 0 3 0 0 0 7 0 0]\n",
      " [2 7 0 0 0 0 0 1 0]\n",
      " [0 0 0 2 0 0 0 0 2]]\n"
     ]
    }
   ],
   "source": [
    "# convert to sparse matrix (Compressed Sparse Row - CSR method)\n",
    "print('Упакованная CSR матрица:')\n",
    "S = csr_matrix(A)\n",
    "print(S)"
   ]
  },
  {
   "cell_type": "code",
   "execution_count": null,
   "metadata": {},
   "outputs": [],
   "source": []
  }
 ],
 "metadata": {
  "kernelspec": {
   "display_name": "PyCharm (iu7)",
   "language": "python",
   "name": "pycharm-236ae87f"
  },
  "language_info": {
   "codemirror_mode": {
    "name": "ipython",
    "version": 3
   },
   "file_extension": ".py",
   "mimetype": "text/x-python",
   "name": "python",
   "nbconvert_exporter": "python",
   "pygments_lexer": "ipython3",
   "version": "3.8.5"
  }
 },
 "nbformat": 4,
 "nbformat_minor": 4
}