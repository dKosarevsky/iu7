{
 "cells": [
  {
   "cell_type": "markdown",
   "metadata": {},
   "source": [
    "tokenization# Типы и Структуры Данных. ЛР6\n",
    "## Обход дерева (в глубину и ширину)"
   ]
  },
  {
   "cell_type": "code",
   "execution_count": 1,
   "metadata": {
    "pycharm": {
     "is_executing": true
    }
   },
   "outputs": [],
   "source": [
    "import matplotlib.pyplot as plt\n",
    "import networkx as nx\n",
    "import random\n",
    "import pydot"
   ]
  },
  {
   "cell_type": "markdown",
   "metadata": {},
   "source": [
    "Создаём класс для наполнения дерева"
   ]
  },
  {
   "cell_type": "code",
   "execution_count": 2,
   "metadata": {},
   "outputs": [],
   "source": [
    "class Node:\n",
    "\n",
    "    def __init__(self, value=None):\n",
    "        self.value = value\n",
    "        self.left = None\n",
    "        self.right = None\n",
    "        self.parent = None\n",
    "\n",
    "    def __repr__(self) -> str:\n",
    "        return \"Вершина [значение: '\" + str(self.value) + \"', левая: \" + str(self.left) + \", правая: \" + str(self.right) + \"]\""
   ]
  },
  {
   "cell_type": "markdown",
   "metadata": {},
   "source": [
    "Функция обхода дерева в ширину"
   ]
  },
  {
   "cell_type": "code",
   "execution_count": 3,
   "metadata": {},
   "outputs": [],
   "source": [
    "def bfs(node: Node) -> None:\n",
    "    queue = [node]\n",
    "\n",
    "    while queue:\n",
    "        # Вставляем первый элемент\n",
    "        # (будем использовать массив как очередь)\n",
    "        top_node = queue.pop(0)\n",
    "\n",
    "        if top_node:\n",
    "            print(top_node.value)\n",
    "            queue.append(top_node.left)\n",
    "            queue.append(top_node.right)"
   ]
  },
  {
   "cell_type": "markdown",
   "metadata": {},
   "source": [
    "Функция обхода дерева в глубину"
   ]
  },
  {
   "cell_type": "code",
   "execution_count": 4,
   "metadata": {},
   "outputs": [],
   "source": [
    "def preorder(node: Node) -> None:\n",
    "    if not node:\n",
    "        return\n",
    "\n",
    "    print(node.value)\n",
    "    preorder(node.left)\n",
    "    preorder(node.right)"
   ]
  },
  {
   "cell_type": "markdown",
   "metadata": {},
   "source": [
    "Графическое отображение дерева"
   ]
  },
  {
   "cell_type": "code",
   "execution_count": 5,
   "metadata": {},
   "outputs": [],
   "source": [
    "g=nx.DiGraph()\n",
    "g.add_edges_from([\n",
    "    (1, 2),  (1, 3),\n",
    "    (2, 4),  (2, 5),\n",
    "    (3, 6),  (3, 7),\n",
    "    (4, 8),  (4, 9),\n",
    "    (5, 10), (5, 11),\n",
    "    (6, 12), (6, 13),\n",
    "    (7, 14), (7, 15),\n",
    "])\n",
    "p=nx.drawing.nx_pydot.to_pydot(g)\n",
    "p.write_png('graph_01.png')"
   ]
  },
  {
   "cell_type": "markdown",
   "metadata": {},
   "source": [
    "Создаём дерево"
   ]
  },
  {
   "cell_type": "code",
   "execution_count": 6,
   "metadata": {},
   "outputs": [],
   "source": [
    "root = Node(1)\n",
    "root.left = Node(2)\n",
    "root.left.left = Node(4)\n",
    "root.left.right = Node(5)\n",
    "root.left.left.left = Node(8)\n",
    "root.left.left.right = Node(9)\n",
    "root.left.right.left = Node(10)\n",
    "root.left.right.right = Node(11)\n",
    "root.right = Node(3)\n",
    "root.right.left = Node(6)\n",
    "root.right.right = Node(7)\n",
    "root.right.left.left = Node(12)\n",
    "root.right.left.right = Node(13)\n",
    "root.right.right.left = Node(14)\n",
    "root.right.right.right = Node(15)"
   ]
  },
  {
   "cell_type": "markdown",
   "metadata": {},
   "source": [
    "Графическое отображение структуры дерева"
   ]
  },
  {
   "cell_type": "markdown",
   "metadata": {},
   "source": [
    "![](graph_01.png)"
   ]
  },
  {
   "cell_type": "markdown",
   "metadata": {},
   "source": [
    "Обходим дерево в ширину"
   ]
  },
  {
   "cell_type": "code",
   "execution_count": 7,
   "metadata": {},
   "outputs": [
    {
     "name": "stdout",
     "output_type": "stream",
     "text": [
      "1\n",
      "2\n",
      "3\n",
      "4\n",
      "5\n",
      "6\n",
      "7\n",
      "8\n",
      "9\n",
      "10\n",
      "11\n",
      "12\n",
      "13\n",
      "14\n",
      "15\n"
     ]
    }
   ],
   "source": [
    "bfs(root)"
   ]
  },
  {
   "cell_type": "markdown",
   "metadata": {},
   "source": [
    "Обходим дерево в глубину"
   ]
  },
  {
   "cell_type": "code",
   "execution_count": 8,
   "metadata": {},
   "outputs": [
    {
     "name": "stdout",
     "output_type": "stream",
     "text": [
      "1\n",
      "2\n",
      "4\n",
      "8\n",
      "9\n",
      "5\n",
      "10\n",
      "11\n",
      "3\n",
      "6\n",
      "12\n",
      "13\n",
      "7\n",
      "14\n",
      "15\n"
     ]
    }
   ],
   "source": [
    "preorder(root)"
   ]
  },
  {
   "cell_type": "markdown",
   "metadata": {},
   "source": [
    "Второе дерево"
   ]
  },
  {
   "cell_type": "markdown",
   "metadata": {},
   "source": [
    "![](https://ic.pics.livejournal.com/nampuom_pycu/70186738/6506/6506_original.jpg)"
   ]
  },
  {
   "cell_type": "code",
   "execution_count": 9,
   "metadata": {},
   "outputs": [],
   "source": [
    "root_ = Node(\"Рюрик\")\n",
    "root_.left = Node(\"Игорь Рюрикович\")\n",
    "root_.left.left = Node(\"Святослав Игоревич\")\n",
    "root_.left.left.right = Node(\"Владимир I Красно Солнышко\")\n",
    "root_.left.left.right.left = Node(\"Ярослав Владимирирович Мудрый\")\n",
    "root_.left.left.right.left.left = Node(\"Святослав Ярославич\")\n",
    "root_.left.left.right.left.left.left = Node(\"Ярослав (Константин) Муромский\")\n",
    "root_.left.left.right.left.right = Node(\"Всеволод Ярославич\")\n",
    "root_.left.left.right.left.right.right = Node(\"Владимир Всеволодович Мономах\")\n",
    "root_.left.left.right.left.right.right.right = Node(\"Юрий Владимирович Долгорукий\")\n",
    "root_.left.left.right.right = Node(\"Изяслав\")\n",
    "root_.left.left.right.right.right = Node(\"Брячислав\")\n",
    "root_.left.left.right.right.right.right = Node(\"Всеслав\")\n",
    "root_.left.left.right.right.right.right.right = Node(\"Святослав\")\n",
    "root_.left.left.right.right.right.right.right.right = Node(\"Евфросиния Полоцкая\")"
   ]
  },
  {
   "cell_type": "code",
   "execution_count": 10,
   "metadata": {},
   "outputs": [
    {
     "name": "stdout",
     "output_type": "stream",
     "text": [
      "Рюрик\n",
      "Игорь Рюрикович\n",
      "Святослав Игоревич\n",
      "Владимир I Красно Солнышко\n",
      "Ярослав Владимирирович Мудрый\n",
      "Изяслав\n",
      "Святослав Ярославич\n",
      "Всеволод Ярославич\n",
      "Брячислав\n",
      "Ярослав (Константин) Муромский\n",
      "Владимир Всеволодович Мономах\n",
      "Всеслав\n",
      "Юрий Владимирович Долгорукий\n",
      "Святослав\n",
      "Евфросиния Полоцкая\n"
     ]
    }
   ],
   "source": [
    "bfs(root_)"
   ]
  },
  {
   "cell_type": "code",
   "execution_count": 11,
   "metadata": {
    "pycharm": {
     "name": "#%%\n"
    }
   },
   "outputs": [
    {
     "name": "stdout",
     "output_type": "stream",
     "text": [
      "Рюрик\n",
      "Игорь Рюрикович\n",
      "Святослав Игоревич\n",
      "Владимир I Красно Солнышко\n",
      "Ярослав Владимирирович Мудрый\n",
      "Святослав Ярославич\n",
      "Ярослав (Константин) Муромский\n",
      "Всеволод Ярославич\n",
      "Владимир Всеволодович Мономах\n",
      "Юрий Владимирович Долгорукий\n",
      "Изяслав\n",
      "Брячислав\n",
      "Всеслав\n",
      "Святослав\n",
      "Евфросиния Полоцкая\n"
     ]
    }
   ],
   "source": [
    "preorder(root_)"
   ]
  },
  {
   "cell_type": "code",
   "execution_count": null,
   "metadata": {
    "pycharm": {
     "name": "#%%\n"
    }
   },
   "outputs": [],
   "source": []
  }
 ],
 "metadata": {
  "kernelspec": {
   "display_name": "Python 3",
   "language": "python",
   "name": "python3"
  },
  "language_info": {
   "codemirror_mode": {
    "name": "ipython",
    "version": 3
   },
   "file_extension": ".py",
   "mimetype": "text/x-python",
   "name": "python",
   "nbconvert_exporter": "python",
   "pygments_lexer": "ipython3",
   "version": "3.8.5"
  }
 },
 "nbformat": 4,
 "nbformat_minor": 1
}