{
 "cells": [
  {
   "cell_type": "code",
   "execution_count": 1,
   "metadata": {},
   "outputs": [],
   "source": [
    "import pprint\n",
    "import json"
   ]
  },
  {
   "cell_type": "markdown",
   "metadata": {},
   "source": [
    "# Типы и Структуры Данных. ЛР5\n",
    "## Сжатие по Хаффману"
   ]
  },
  {
   "cell_type": "markdown",
   "metadata": {},
   "source": [
    "Программа, которая реализует кодирование Хаффмана для сжатия любого сообщения, прочитанного из файла\n",
    "\n",
    "Принцип работы алгоритма заключается в том, что он сначала проверяет количество вхождений для каждого символа, сортирует их в очереди и присваивает им двоичное значение в соответствии с количеством вхождений для этого символа (при этом наиболее часто встречающиеся символы имеют наименьший двоичный значение)\n",
    "\n",
    "Процесс поиска каждого двоичного значения требует использования двоичного дерева, организации каждого символа в этом дереве и установки значения каждого символа в соответствии с их положением в дереве"
   ]
  },
  {
   "cell_type": "code",
   "execution_count": 2,
   "metadata": {},
   "outputs": [],
   "source": [
    "# Создаем класс, который создает двоичное дерево, содержащее все символы, \n",
    "# и возвращает их сжатые значения\n",
    "class Huffman:\n",
    "\n",
    "    # Инициализация класса\n",
    "    def __init__(self, elements):\n",
    "        self.elements = elements\n",
    "        self.tree = []\n",
    "        # проверяем, что переменные elements являются словарем\n",
    "        assert type(self.elements) == dict\n",
    "\n",
    "    # метод создает двоичное дерево\n",
    "    def createTree(self):\n",
    "        lchars = []\n",
    "        trees = []\n",
    "        occurrences = 0\n",
    "\n",
    "        # перебор каждого символа в тексте и добавление в двоичное дерево\n",
    "        while len(self.elements) > 1 or len(lchars) > 0:\n",
    "\n",
    "            # поиск наименьшего количества вхождений символа/дерева в очереди\n",
    "            for i in self.elements:\n",
    "                if \"lnum\" not in locals():\n",
    "                    lnum = self.elements[i]\n",
    "                    continue\n",
    "\n",
    "                if self.elements[i] < lnum:\n",
    "                    lnum = self.elements[i]\n",
    "\n",
    "            occurrences += lnum\n",
    "\n",
    "            # соответствие количества вхождений соответствующего символа\n",
    "            for i in self.elements:\n",
    "                if self.elements[i] == lnum:\n",
    "                    lchars.append(i)\n",
    "                    del lnum\n",
    "                    del self.elements[i]\n",
    "                    break\n",
    "\n",
    "            # как только найдены 2 символа/дерева с наименьшим вхождением,\n",
    "            # они объединяются в одно дерево и помещаются обратно в очередь\n",
    "            if len(lchars) == 2:\n",
    "                if len(lchars[0]) == 1 and len(lchars[1]) == 1:\n",
    "                    trees.append(lchars)\n",
    "                    self.elements[str(lchars)] = occurrences\n",
    "                else:\n",
    "                    temp = []\n",
    "                    for i in trees:\n",
    "                        if str(i) == lchars[0]:\n",
    "                            lchars[0] = i\n",
    "                            temp.append(trees.index(i))\n",
    "                        elif str(i) == lchars[1]:\n",
    "                            lchars[1] = i\n",
    "                            temp.append(trees.index(i))\n",
    "                    for i in range(0,len(temp)):\n",
    "                        if i > 0:\n",
    "                            del trees[temp[i]-1]\n",
    "                        else:\n",
    "                            del trees[temp[i]]\n",
    "                    self.elements[str(lchars)] = occurrences\n",
    "                    trees.append(lchars)\n",
    "                occurrences = 0\n",
    "                self.tree = []\n",
    "                lchars = []\n",
    "\n",
    "        self.tree = trees[0]\n",
    "\n",
    "    # метод возвращает сжатое двоичное значение каждого символа в сообщении\n",
    "    def compressBin(self):\n",
    "        binValues = {}\n",
    "        indices = \"\"\n",
    "        binValue = \"\"\n",
    "\n",
    "        # устанавливаем значение каждого символа в зависимости от его позиции в дереве\n",
    "        # путем перехода к каждому вложенному массиву внутри массива,\n",
    "        # содержащего дерево (если массив заполнен)\n",
    "        # если это строка, то он устанавливаем значение этого символа на его позицию \n",
    "        # и заменяем его пустым списком\n",
    "        # продолжаем делать это до тех пор, пока каждый символ и вложенный список \n",
    "        # не станет пустым списком, указывая, что он был абсолютно везде\n",
    "        while True:\n",
    "            if self.tree[0] == [] and self.tree[1] == []:\n",
    "                break\n",
    "\n",
    "            if type(eval(f\"{str(self.tree)}{indices}\")[0]) == list and eval(f\"self.tree{indices}\")[0]:\n",
    "                indices += \"[0]\"\n",
    "                binValue += \"0\"\n",
    "\n",
    "            elif type(eval(str(self.tree) + indices)[0]) == str:\n",
    "                binValues[str(eval(f\"{str(self.tree)}{indices}\")[0])] = binValue + \"0\"\n",
    "                exec(f\"self.tree{indices}[0] = []\")\n",
    "\n",
    "            elif type(eval(f\"{str(self.tree)}{indices}\")[1]) == list and eval(f\"self.tree{indices}\")[1]:\n",
    "                indices += \"[1]\"\n",
    "                binValue += \"1\"\n",
    "\n",
    "            elif type(eval(f\"self.tree{indices}\")[1]) == str:\n",
    "                binValues[eval(f\"self.tree{indices}\")[1]] = binValue + \"1\"\n",
    "                exec(f\"self.tree{indices}[1] = []\")\n",
    "\n",
    "            else:\n",
    "                exec(f\"self.tree{indices} = []\")\n",
    "                indices = \"\"\n",
    "                binValue = \"\"\n",
    "\n",
    "        return binValues\n",
    "\n",
    "    # метод распаковывает сообщение\n",
    "    def decompress(self, characters, compressed):\n",
    "        compressed = list(compressed)\n",
    "        i = 1\n",
    "        start = 0\n",
    "        \n",
    "        # перебор текста, каждое двоичное значение с соответствующим ему символом\n",
    "        while i <= len(compressed):\n",
    "            if \"\".join(compressed[start:i]) in characters.values():\n",
    "                temp = \"\".join(compressed[start:i])\n",
    "                for j in characters:\n",
    "                    if characters[j] == temp:\n",
    "                        temp = j\n",
    "                        break\n",
    "                del compressed[start:i - 1]\n",
    "                compressed[start] = temp\n",
    "                start += 1\n",
    "                i = int(start)\n",
    "            i += 1\n",
    "\n",
    "        return \"\".join(compressed)"
   ]
  },
  {
   "cell_type": "code",
   "execution_count": 3,
   "metadata": {},
   "outputs": [],
   "source": [
    "# считываем текст из файла и записываем в переменную text\n",
    "# text = 'Гло́кая ку́здра ште́ко будлану́ла бо́кра и курдя́чит бокрёнка'  # input()\n",
    "\n",
    "with open('lab_05_text.txt', 'r') as file:\n",
    "    text = file.readlines()\n",
    "    \n",
    "\n",
    "text = ''.join(text)"
   ]
  },
  {
   "cell_type": "code",
   "execution_count": 4,
   "metadata": {},
   "outputs": [
    {
     "data": {
      "text/plain": [
       "'Гло́кая ку́здра ште́ко будлану́ла бо́кра и курдя́чит бокрёнка...\\n\\nСяпала калуша по напушке\\nИ увазила бутявку и волит:\\n- Калушата-калушаточки! Бутявка!\\n\\nКалушата присяпали,\\nБутявку стрямали\\nИ подудонили.\\n\\nА калуша и волит:\\n- Ва! Бутявка-то не кузявая!\\n\\nКалушата бутявку вычучили,\\nБутявка вздребезнулась,\\nСапритюкнулась и подудонила.\\n\\nА калуша и волит:\\n- Зёма-зёма, не кузёво!\\nПусьтьки бятые!\\n'"
      ]
     },
     "execution_count": 4,
     "metadata": {},
     "output_type": "execute_result"
    }
   ],
   "source": [
    "text"
   ]
  },
  {
   "cell_type": "code",
   "execution_count": 5,
   "metadata": {},
   "outputs": [],
   "source": [
    "# заполнение словаря chars каждым символом в сообщении,\n",
    "# включая количество вхождений каждого символа из считанного текста\n",
    "chars = {}\n",
    "for i in text:\n",
    "    if i in chars:\n",
    "        chars[i] += 1\n",
    "    else:\n",
    "        chars[i] = 1\n",
    "\n",
    "# инициализация класса и сжатие двоичных значений каждого символа в сообщении\n",
    "cMessage = Huffman(chars)\n",
    "cMessage.createTree()"
   ]
  },
  {
   "cell_type": "code",
   "execution_count": 6,
   "metadata": {},
   "outputs": [],
   "source": [
    "# создание и запись справочника в отдельный файл\n",
    "compressedBins = cMessage.compressBin()\n",
    "\n",
    "with open('lab_05_dict.txt', 'w') as file:\n",
    "    file.write(json.dumps(compressedBins))"
   ]
  },
  {
   "cell_type": "code",
   "execution_count": 7,
   "metadata": {},
   "outputs": [],
   "source": [
    "# устанавка значений каждого символа в его сжатое двоичное значение\n",
    "compressed = \"\"\n",
    "for i in text:\n",
    "    compressed += compressedBins[i]\n",
    "\n",
    "# кодировка строки в байты\n",
    "compressed = bytes(compressed, 'utf-8')\n",
    "    \n",
    "# запись сжатого текста в бинарный файл\n",
    "with open('lab_05_bin', 'wb') as file:\n",
    "    file.write(compressed)"
   ]
  },
  {
   "cell_type": "code",
   "execution_count": 8,
   "metadata": {},
   "outputs": [
    {
     "name": "stdout",
     "output_type": "stream",
     "text": [
      "<class 'bytes'>\n"
     ]
    }
   ],
   "source": [
    "print(type(compressed))"
   ]
  },
  {
   "cell_type": "code",
   "execution_count": 9,
   "metadata": {},
   "outputs": [],
   "source": [
    "  # чтение справочника из файла\n",
    "with open('lab_05_dict.txt', 'r') as file:\n",
    "    compressedBins = json.load(file)"
   ]
  },
  {
   "cell_type": "code",
   "execution_count": 10,
   "metadata": {},
   "outputs": [],
   "source": [
    "# чтение сжатого текста из бинарного файла\n",
    "with open('lab_05_bin', 'rb') as file:\n",
    "    compressed = file.read()\n",
    "\n",
    "# декодировка байтов в строку\n",
    "compressed = compressed.decode()"
   ]
  },
  {
   "cell_type": "code",
   "execution_count": 11,
   "metadata": {},
   "outputs": [
    {
     "name": "stdout",
     "output_type": "stream",
     "text": [
      "<class 'str'>\n"
     ]
    }
   ],
   "source": [
    "print(type(compressed))"
   ]
  },
  {
   "cell_type": "code",
   "execution_count": 12,
   "metadata": {},
   "outputs": [],
   "source": [
    "# распаковка сжатого текста\n",
    "decompressed = cMessage.decompress(compressedBins, compressed)"
   ]
  },
  {
   "cell_type": "code",
   "execution_count": 13,
   "metadata": {},
   "outputs": [],
   "source": [
    "# запись распакованного текста в новый файл\n",
    "with open('lab_05_text_decompressed.txt', 'w') as file:\n",
    "    file.write(decompressed)"
   ]
  },
  {
   "cell_type": "code",
   "execution_count": 14,
   "metadata": {},
   "outputs": [
    {
     "name": "stdout",
     "output_type": "stream",
     "text": [
      "Оригинальный текст:\n",
      "Гло́кая ку́здра ште́ко будлану́ла бо́кра и курдя́чит бокрёнка...\n",
      "\n",
      "Сяпала калуша по напушке\n",
      "И увазила бутявку и волит:\n",
      "- Калушата-калушаточки! Бутявка!\n",
      "\n",
      "Калушата присяпали,\n",
      "Бутявку стрямали\n",
      "И подудонили.\n",
      "\n",
      "А калуша и волит:\n",
      "- Ва! Бутявка-то не кузявая!\n",
      "\n",
      "Калушата бутявку вычучили,\n",
      "Бутявка вздребезнулась,\n",
      "Сапритюкнулась и подудонила.\n",
      "\n",
      "А калуша и волит:\n",
      "- Зёма-зёма, не кузёво!\n",
      "Пусьтьки бятые!\n",
      "\n"
     ]
    }
   ],
   "source": [
    "# Выводим результат\n",
    "print(f\"Оригинальный текст:\\n{text}\")"
   ]
  },
  {
   "cell_type": "code",
   "execution_count": 15,
   "metadata": {},
   "outputs": [
    {
     "name": "stdout",
     "output_type": "stream",
     "text": [
      "Бинарные коды:\n",
      "{'\\n': '0011',\n",
      " ' ': '000',\n",
      " '!': '100111',\n",
      " ',': '1110110',\n",
      " '-': '100110',\n",
      " '.': '1111110',\n",
      " ':': '1001001',\n",
      " '́': '100101',\n",
      " 'А': '11110001',\n",
      " 'Б': '1110101',\n",
      " 'В': '111100111',\n",
      " 'Г': '111100110',\n",
      " 'З': '10010001',\n",
      " 'И': '11110000',\n",
      " 'К': '1010000',\n",
      " 'П': '11011000',\n",
      " 'С': '11011001',\n",
      " 'а': '010',\n",
      " 'б': '101111',\n",
      " 'в': '10110',\n",
      " 'д': '110111',\n",
      " 'е': '101110',\n",
      " 'з': '101001',\n",
      " 'и': '0110',\n",
      " 'к': '1000',\n",
      " 'л': '0111',\n",
      " 'м': '1010001',\n",
      " 'н': '111110',\n",
      " 'о': '11010',\n",
      " 'п': '111001',\n",
      " 'р': '111000',\n",
      " 'с': '1111111',\n",
      " 'т': '0010',\n",
      " 'у': '1100',\n",
      " 'ч': '1101101',\n",
      " 'ш': '111101',\n",
      " 'ы': '11110010',\n",
      " 'ь': '1110111',\n",
      " 'ю': '10010000',\n",
      " 'я': '10101',\n",
      " 'ё': '1110100'}\n"
     ]
    }
   ],
   "source": [
    "print(f\"Бинарные коды:\")\n",
    "pprint.pprint(compressedBins)"
   ]
  },
  {
   "cell_type": "code",
   "execution_count": 16,
   "metadata": {
    "pycharm": {
     "name": "#%%\n"
    }
   },
   "outputs": [
    {
     "name": "stdout",
     "output_type": "stream",
     "text": [
      "Сжатый текст:\n",
      "1111001100111110101001011000010101010001000110010010110100111011111100001000011110100101011101001011000110100001011111100110111011101011111011001001010111010000101111110101001011000111000010000011000010001100111000110111101011001011101101011000100001011111101010001110001110100111110100001011111101111110111111000110011110110011010111100101001110100001000010011111001111010100001110011101000011111001011100111001111011000101110001111110000000110010110010101001011001110100001011111100001010101101101000110000001100001011011010011101100010100100100111001100001010000010011111001111010100010010100110100001001111100111101010001011010110110110000110100111000111010111000010101011011010000101001110011001110100000100111110011110101000100100001110011110000110111111110101111001010011101101110110001111101011100001010101101101000110000011111110010111000101011010001010011101100011111100000001110011101011011111001101111101011111001100111011011111100011001111110001000100001001111100111101010000011000010110110100111011000101001001001110011000011110011101010011100011101011100001010101101101000010100110001011010000111110101110000100011001010011010110110010101011001110011001110100000100111110011110101000100100001011111100001010101101101000110000010110111100101101101110011011010110011101101110110001111101011100001010101101101000010000101101010011101111110001011101011111011101010011111101100011101011111111110111111011000111101100101011100111100001100010100100001000111110110001110101111111111011100001100001110011101011011111001101111101011111001100111010111111000110011111100010001000010011111001111010100000110000101101101001110110001010010010011100110000100100011110100101000101010011010100111101001010001010111011000011111010111000010001100101001111010010110110101001110011110110001100111111111101110010111011110000110000101111101010010111100101011101001110011\n"
     ]
    }
   ],
   "source": [
    "print(f\"Сжатый текст:\\n{compressed}\")"
   ]
  },
  {
   "cell_type": "code",
   "execution_count": 17,
   "metadata": {
    "pycharm": {
     "name": "#%%\n"
    }
   },
   "outputs": [
    {
     "name": "stdout",
     "output_type": "stream",
     "text": [
      "Распакованный текст:\n",
      "Гло́кая ку́здра ште́ко будлану́ла бо́кра и курдя́чит бокрёнка...\n",
      "\n",
      "Сяпала калуша по напушке\n",
      "И увазила бутявку и волит:\n",
      "- Калушата-калушаточки! Бутявка!\n",
      "\n",
      "Калушата присяпали,\n",
      "Бутявку стрямали\n",
      "И подудонили.\n",
      "\n",
      "А калуша и волит:\n",
      "- Ва! Бутявка-то не кузявая!\n",
      "\n",
      "Калушата бутявку вычучили,\n",
      "Бутявка вздребезнулась,\n",
      "Сапритюкнулась и подудонила.\n",
      "\n",
      "А калуша и волит:\n",
      "- Зёма-зёма, не кузёво!\n",
      "Пусьтьки бятые!\n",
      "\n"
     ]
    }
   ],
   "source": [
    "print(f\"Распакованный текст:\\n{decompressed}\")"
   ]
  },
  {
   "cell_type": "code",
   "execution_count": null,
   "metadata": {},
   "outputs": [],
   "source": []
  }
 ],
 "metadata": {
  "kernelspec": {
   "display_name": "PyCharm (iu7)",
   "language": "python",
   "name": "pycharm-236ae87f"
  },
  "language_info": {
   "codemirror_mode": {
    "name": "ipython",
    "version": 3
   },
   "file_extension": ".py",
   "mimetype": "text/x-python",
   "name": "python",
   "nbconvert_exporter": "python",
   "pygments_lexer": "ipython3",
   "version": "3.8.5"
  }
 },
 "nbformat": 4,
 "nbformat_minor": 4
}