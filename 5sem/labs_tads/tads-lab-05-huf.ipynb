{
 "cells": [
  {
   "cell_type": "code",
   "execution_count": 1,
   "metadata": {},
   "outputs": [],
   "source": [
    "import pprint\n",
    "import json"
   ]
  },
  {
   "cell_type": "markdown",
   "metadata": {},
   "source": [
    "# Типы и Структуры Данных. ЛР5\n",
    "## Сжатие по Хаффману"
   ]
  },
  {
   "cell_type": "markdown",
   "metadata": {},
   "source": [
    "Программа, которая реализует кодирование Хаффмана для сжатия любого сообщения, прочитанного из файла\n",
    "\n",
    "Принцип работы алгоритма заключается в том, что он сначала проверяет количество вхождений для каждого символа, сортирует их в очереди и присваивает им двоичное значение в соответствии с количеством вхождений для этого символа (при этом наиболее часто встречающиеся символы имеют наименьший двоичный значение)\n",
    "\n",
    "Процесс поиска каждого двоичного значения требует использования двоичного дерева, организации каждого символа в этом дереве и установки значения каждого символа в соответствии с их положением в дереве"
   ]
  },
  {
   "cell_type": "code",
   "execution_count": 2,
   "metadata": {},
   "outputs": [],
   "source": [
    "# создаем класс, который создает двоичное дерево, содержащее все символы, \n",
    "# и возвращает их сжатые значения\n",
    "class Huffman:\n",
    "\n",
    "    # инициализация класса\n",
    "    def __init__(self, elements):\n",
    "        self.elements = elements\n",
    "        self.tree = []\n",
    "        # проверяем, что переменная elements является словарем\n",
    "        assert type(self.elements) == dict\n",
    "\n",
    "    # метод создает двоичное дерево\n",
    "    def createTree(self):\n",
    "        lchars = []\n",
    "        trees = []\n",
    "        occurrences = 0\n",
    "\n",
    "        # перебор каждого символа в тексте и добавление в двоичное дерево\n",
    "        while len(self.elements) > 1 or len(lchars) > 0:\n",
    "\n",
    "            # поиск наименьшего количества вхождений символа/дерева в очереди\n",
    "            for i in self.elements:\n",
    "                if \"lnum\" not in locals():\n",
    "                    lnum = self.elements[i]\n",
    "                    continue\n",
    "\n",
    "                if self.elements[i] < lnum:\n",
    "                    lnum = self.elements[i]\n",
    "\n",
    "            occurrences += lnum\n",
    "\n",
    "            # соответствие количества вхождений соответствующего символа\n",
    "            for i in self.elements:\n",
    "                if self.elements[i] == lnum:\n",
    "                    lchars.append(i)\n",
    "                    del lnum\n",
    "                    del self.elements[i]\n",
    "                    break\n",
    "\n",
    "            # как только найдены 2 символа/дерева с наименьшим вхождением,\n",
    "            # они объединяются в одно дерево и помещаются обратно в очередь\n",
    "            if len(lchars) == 2:\n",
    "                if len(lchars[0]) == 1 and len(lchars[1]) == 1:\n",
    "                    trees.append(lchars)\n",
    "                    self.elements[str(lchars)] = occurrences\n",
    "                else:\n",
    "                    temp = []\n",
    "                    for i in trees:\n",
    "                        if str(i) == lchars[0]:\n",
    "                            lchars[0] = i\n",
    "                            temp.append(trees.index(i))\n",
    "                        elif str(i) == lchars[1]:\n",
    "                            lchars[1] = i\n",
    "                            temp.append(trees.index(i))\n",
    "                    for i in range(0,len(temp)):\n",
    "                        if i > 0:\n",
    "                            del trees[temp[i]-1]\n",
    "                        else:\n",
    "                            del trees[temp[i]]\n",
    "                    self.elements[str(lchars)] = occurrences\n",
    "                    trees.append(lchars)\n",
    "                occurrences = 0\n",
    "                self.tree = []\n",
    "                lchars = []\n",
    "\n",
    "        self.tree = trees[0]\n",
    "\n",
    "    # метод возвращает сжатое двоичное значение каждого символа в сообщении\n",
    "    def compressBin(self):\n",
    "        binValues = {}\n",
    "        indices = \"\"\n",
    "        binValue = \"\"\n",
    "\n",
    "        # устанавливаем значение каждого символа в зависимости от его позиции в дереве\n",
    "        # путем перехода к каждому вложенному массиву внутри массива,\n",
    "        # содержащего дерево (если массив заполнен)\n",
    "        # если это строка, то он устанавливаем значение этого символа на его позицию \n",
    "        # и заменяем его пустым списком\n",
    "        # продолжаем делать это до тех пор, пока каждый символ и вложенный список \n",
    "        # не станет пустым списком, указывая, что он был абсолютно везде\n",
    "        while True:\n",
    "            if self.tree[0] == [] and self.tree[1] == []:\n",
    "                break\n",
    "\n",
    "            if type(eval(f\"{str(self.tree)}{indices}\")[0]) == list and eval(f\"self.tree{indices}\")[0]:\n",
    "                indices += \"[0]\"\n",
    "                binValue += \"0\"\n",
    "\n",
    "            elif type(eval(str(self.tree) + indices)[0]) == str:\n",
    "                binValues[str(eval(f\"{str(self.tree)}{indices}\")[0])] = binValue + \"0\"\n",
    "                exec(f\"self.tree{indices}[0] = []\")\n",
    "\n",
    "            elif type(eval(f\"{str(self.tree)}{indices}\")[1]) == list and eval(f\"self.tree{indices}\")[1]:\n",
    "                indices += \"[1]\"\n",
    "                binValue += \"1\"\n",
    "\n",
    "            elif type(eval(f\"self.tree{indices}\")[1]) == str:\n",
    "                binValues[eval(f\"self.tree{indices}\")[1]] = binValue + \"1\"\n",
    "                exec(f\"self.tree{indices}[1] = []\")\n",
    "\n",
    "            else:\n",
    "                exec(f\"self.tree{indices} = []\")\n",
    "                indices = \"\"\n",
    "                binValue = \"\"\n",
    "\n",
    "        return binValues\n",
    "\n",
    "    # метод распаковывает сообщение\n",
    "    def decompress(self, characters, compressed):\n",
    "        compressed = list(compressed)\n",
    "        i = 1\n",
    "        start = 0\n",
    "        \n",
    "        # перебор текста, каждое двоичное значение с соответствующим ему символом\n",
    "        while i <= len(compressed):\n",
    "            if \"\".join(compressed[start:i]) in characters.values():\n",
    "                temp = \"\".join(compressed[start:i])\n",
    "                for j in characters:\n",
    "                    if characters[j] == temp:\n",
    "                        temp = j\n",
    "                        break\n",
    "                del compressed[start:i - 1]\n",
    "                compressed[start] = temp\n",
    "                start += 1\n",
    "                i = int(start)\n",
    "            i += 1\n",
    "\n",
    "        return \"\".join(compressed)"
   ]
  },
  {
   "cell_type": "code",
   "execution_count": 3,
   "metadata": {},
   "outputs": [],
   "source": [
    "# считываем текст из файла и записываем в переменную text\n",
    "# text = 'Гло́кая ку́здра ште́ко будлану́ла бо́кра и курдя́чит бокрёнка'  # input()\n",
    "\n",
    "with open('lab_05_text.txt', 'r') as file:\n",
    "    text = file.readlines()\n",
    "    \n",
    "\n",
    "text = ''.join(text)"
   ]
  },
  {
   "cell_type": "code",
   "execution_count": 4,
   "metadata": {},
   "outputs": [
    {
     "data": {
      "text/plain": [
       "'Гло́кая ку́здра ште́ко будлану́ла бо́кра и курдя́чит бокрёнка...\\n\\nСяпала калуша по напушке\\nИ увазила бутявку и волит:\\n- Калушата-калушаточки! Бутявка!\\n\\nКалушата присяпали,\\nБутявку стрямали\\nИ подудонили.\\n\\nА калуша и волит:\\n- Ва! Бутявка-то не кузявая!\\n\\nКалушата бутявку вычучили,\\nБутявка вздребезнулась,\\nСапритюкнулась и подудонила.\\n\\nА калуша и волит:\\n- Зёма-зёма, не кузёво!\\nПусьтьки бятые!\\n00'"
      ]
     },
     "execution_count": 4,
     "metadata": {},
     "output_type": "execute_result"
    }
   ],
   "source": [
    "text"
   ]
  },
  {
   "cell_type": "code",
   "execution_count": 5,
   "metadata": {},
   "outputs": [],
   "source": [
    "# text = \"мама мыла раму мылом....\""
   ]
  },
  {
   "cell_type": "code",
   "execution_count": 6,
   "metadata": {},
   "outputs": [],
   "source": [
    "# заполнение словаря chars каждым символом в сообщении,\n",
    "# включая количество вхождений каждого символа из считанного текста\n",
    "chars = {}\n",
    "for i in text:\n",
    "    if i in chars:\n",
    "        chars[i] += 1\n",
    "    else:\n",
    "        chars[i] = 1"
   ]
  },
  {
   "cell_type": "code",
   "execution_count": 7,
   "metadata": {},
   "outputs": [
    {
     "name": "stdout",
     "output_type": "stream",
     "text": [
      "Г 1\n",
      "л 22\n",
      "о 15\n",
      "́ 6\n",
      "к 23\n",
      "а 41\n",
      "я 14\n",
      "  38\n",
      "у 30\n",
      "з 7\n",
      "д 8\n",
      "р 8\n",
      "ш 9\n",
      "т 20\n",
      "е 7\n",
      "б 7\n",
      "н 9\n",
      "и 21\n",
      "ч 4\n",
      "ё 4\n",
      ". 5\n",
      "\n",
      " 20\n",
      "С 2\n",
      "п 8\n",
      "И 2\n",
      "в 14\n",
      ": 3\n",
      "- 6\n",
      "К 3\n",
      "! 6\n",
      "Б 4\n",
      "с 5\n",
      ", 4\n",
      "м 3\n",
      "А 2\n",
      "В 1\n",
      "ы 2\n",
      "ь 4\n",
      "ю 1\n",
      "З 1\n",
      "П 1\n",
      "0 2\n"
     ]
    }
   ],
   "source": [
    "Q = 0\n",
    "for i in chars:\n",
    "    print(i, chars[i])\n",
    "    Q += chars[i]"
   ]
  },
  {
   "cell_type": "code",
   "execution_count": 8,
   "metadata": {},
   "outputs": [
    {
     "data": {
      "text/plain": [
       "393"
      ]
     },
     "execution_count": 8,
     "metadata": {},
     "output_type": "execute_result"
    }
   ],
   "source": [
    "Q"
   ]
  },
  {
   "cell_type": "code",
   "execution_count": 9,
   "metadata": {},
   "outputs": [],
   "source": [
    "# инициализация класса и сжатие двоичных значений каждого символа в сообщении\n",
    "cMessage = Huffman(chars)\n",
    "cMessage.createTree()"
   ]
  },
  {
   "cell_type": "code",
   "execution_count": 10,
   "metadata": {},
   "outputs": [
    {
     "data": {
      "text/plain": [
       "393"
      ]
     },
     "execution_count": 10,
     "metadata": {},
     "output_type": "execute_result"
    }
   ],
   "source": [
    "[i for i in chars.values()][0]"
   ]
  },
  {
   "cell_type": "code",
   "execution_count": 11,
   "metadata": {},
   "outputs": [],
   "source": [
    "# создание и запись справочника в отдельный файл\n",
    "compressedBins = cMessage.compressBin()\n",
    "\n",
    "with open('lab_05_dict.txt', 'w') as file:\n",
    "    file.write(json.dumps(compressedBins))"
   ]
  },
  {
   "cell_type": "code",
   "execution_count": 23,
   "metadata": {},
   "outputs": [
    {
     "data": {
      "text/plain": [
       "dict"
      ]
     },
     "execution_count": 23,
     "metadata": {},
     "output_type": "execute_result"
    }
   ],
   "source": [
    "type(compressedBins)"
   ]
  },
  {
   "cell_type": "code",
   "execution_count": 24,
   "metadata": {},
   "outputs": [
    {
     "data": {
      "text/plain": [
       "{' ': '000',\n",
       " 'т': '0010',\n",
       " '\\n': '0011',\n",
       " 'а': '010',\n",
       " 'и': '0110',\n",
       " 'л': '0111',\n",
       " 'к': '1000',\n",
       " '́': '100100',\n",
       " '-': '100101',\n",
       " '!': '100110',\n",
       " ':': '1001110',\n",
       " 'К': '1001111',\n",
       " 'м': '1010000',\n",
       " 'П': '10100010',\n",
       " 'С': '10100011',\n",
       " 'з': '101001',\n",
       " 'я': '10101',\n",
       " 'в': '10110',\n",
       " 'е': '101110',\n",
       " 'б': '101111',\n",
       " 'у': '1100',\n",
       " 'о': '11010',\n",
       " 'д': '110110',\n",
       " 'р': '110111',\n",
       " 'п': '111000',\n",
       " 'ч': '1110010',\n",
       " 'ё': '1110011',\n",
       " 'Б': '1110100',\n",
       " ',': '1110101',\n",
       " 'ь': '1110110',\n",
       " 'И': '11101110',\n",
       " 'А': '11101111',\n",
       " 'ы': '11110000',\n",
       " '0': '11110001',\n",
       " 'Г': '111100100',\n",
       " 'В': '111100101',\n",
       " 'ю': '111100110',\n",
       " 'З': '111100111',\n",
       " 'ш': '111101',\n",
       " 'н': '111110',\n",
       " '.': '1111110',\n",
       " 'с': '1111111'}"
      ]
     },
     "execution_count": 24,
     "metadata": {},
     "output_type": "execute_result"
    }
   ],
   "source": [
    "compressedBins"
   ]
  },
  {
   "cell_type": "code",
   "execution_count": 12,
   "metadata": {},
   "outputs": [],
   "source": [
    "# устанавка значений каждого символа в его сжатое двоичное значение\n",
    "compressed = \"\"\n",
    "for i in text:\n",
    "    compressed += compressedBins[i]\n",
    "\n",
    "# кодировка строки в байты\n",
    "compressed = bytes(compressed, 'utf-8')\n",
    "    \n",
    "# запись сжатого текста в бинарный файл\n",
    "with open('lab_05_bin', 'wb') as file:\n",
    "    file.write(compressed)"
   ]
  },
  {
   "cell_type": "code",
   "execution_count": 27,
   "metadata": {},
   "outputs": [
    {
     "data": {
      "text/plain": [
       "str"
      ]
     },
     "execution_count": 27,
     "metadata": {},
     "output_type": "execute_result"
    }
   ],
   "source": [
    "type(compressed)"
   ]
  },
  {
   "cell_type": "code",
   "execution_count": 13,
   "metadata": {},
   "outputs": [
    {
     "name": "stdout",
     "output_type": "stream",
     "text": [
      "<class 'bytes'>\n"
     ]
    }
   ],
   "source": [
    "print(type(compressed))"
   ]
  },
  {
   "cell_type": "code",
   "execution_count": 14,
   "metadata": {},
   "outputs": [],
   "source": [
    "  # чтение справочника из файла\n",
    "with open('lab_05_dict.txt', 'r') as file:\n",
    "    compressedBins = json.load(file)"
   ]
  },
  {
   "cell_type": "code",
   "execution_count": 15,
   "metadata": {},
   "outputs": [],
   "source": [
    "# чтение сжатого текста из бинарного файла\n",
    "with open('lab_05_bin', 'rb') as file:\n",
    "    compressed = file.read()\n",
    "\n",
    "# декодировка байтов в строку\n",
    "compressed = compressed.decode()"
   ]
  },
  {
   "cell_type": "code",
   "execution_count": 16,
   "metadata": {},
   "outputs": [
    {
     "name": "stdout",
     "output_type": "stream",
     "text": [
      "<class 'str'>\n"
     ]
    }
   ],
   "source": [
    "print(type(compressed))"
   ]
  },
  {
   "cell_type": "code",
   "execution_count": 17,
   "metadata": {},
   "outputs": [],
   "source": [
    "# распаковка сжатого текста\n",
    "decompressed = cMessage.decompress(compressedBins, compressed)"
   ]
  },
  {
   "cell_type": "code",
   "execution_count": 18,
   "metadata": {},
   "outputs": [],
   "source": [
    "# запись распакованного текста в новый файл\n",
    "with open('lab_05_text_decompressed.txt', 'w') as file:\n",
    "    file.write(decompressed)"
   ]
  },
  {
   "cell_type": "code",
   "execution_count": 19,
   "metadata": {},
   "outputs": [
    {
     "name": "stdout",
     "output_type": "stream",
     "text": [
      "Оригинальный текст:\n",
      "Гло́кая ку́здра ште́ко будлану́ла бо́кра и курдя́чит бокрёнка...\n",
      "\n",
      "Сяпала калуша по напушке\n",
      "И увазила бутявку и волит:\n",
      "- Калушата-калушаточки! Бутявка!\n",
      "\n",
      "Калушата присяпали,\n",
      "Бутявку стрямали\n",
      "И подудонили.\n",
      "\n",
      "А калуша и волит:\n",
      "- Ва! Бутявка-то не кузявая!\n",
      "\n",
      "Калушата бутявку вычучили,\n",
      "Бутявка вздребезнулась,\n",
      "Сапритюкнулась и подудонила.\n",
      "\n",
      "А калуша и волит:\n",
      "- Зёма-зёма, не кузёво!\n",
      "Пусьтьки бятые!\n",
      "00\n"
     ]
    }
   ],
   "source": [
    "# Выводим результат\n",
    "print(f\"Оригинальный текст:\\n{text}\")"
   ]
  },
  {
   "cell_type": "code",
   "execution_count": 20,
   "metadata": {},
   "outputs": [
    {
     "name": "stdout",
     "output_type": "stream",
     "text": [
      "Бинарные коды:\n",
      "{'\\n': '0011',\n",
      " ' ': '000',\n",
      " '!': '100110',\n",
      " ',': '1110101',\n",
      " '-': '100101',\n",
      " '.': '1111110',\n",
      " '0': '11110001',\n",
      " ':': '1001110',\n",
      " '́': '100100',\n",
      " 'А': '11101111',\n",
      " 'Б': '1110100',\n",
      " 'В': '111100101',\n",
      " 'Г': '111100100',\n",
      " 'З': '111100111',\n",
      " 'И': '11101110',\n",
      " 'К': '1001111',\n",
      " 'П': '10100010',\n",
      " 'С': '10100011',\n",
      " 'а': '010',\n",
      " 'б': '101111',\n",
      " 'в': '10110',\n",
      " 'д': '110110',\n",
      " 'е': '101110',\n",
      " 'з': '101001',\n",
      " 'и': '0110',\n",
      " 'к': '1000',\n",
      " 'л': '0111',\n",
      " 'м': '1010000',\n",
      " 'н': '111110',\n",
      " 'о': '11010',\n",
      " 'п': '111000',\n",
      " 'р': '110111',\n",
      " 'с': '1111111',\n",
      " 'т': '0010',\n",
      " 'у': '1100',\n",
      " 'ч': '1110010',\n",
      " 'ш': '111101',\n",
      " 'ы': '11110000',\n",
      " 'ь': '1110110',\n",
      " 'ю': '111100110',\n",
      " 'я': '10101',\n",
      " 'ё': '1110011'}\n"
     ]
    }
   ],
   "source": [
    "print(f\"Бинарные коды:\")\n",
    "pprint.pprint(compressedBins)"
   ]
  },
  {
   "cell_type": "code",
   "execution_count": 21,
   "metadata": {
    "pycharm": {
     "name": "#%%\n"
    }
   },
   "outputs": [
    {
     "name": "stdout",
     "output_type": "stream",
     "text": [
      "Сжатый текст:\n",
      "1111001000111110101001001000010101010001000110010010010100111011011011101000011110100101011101001001000110100001011111100110110011101011111011001001000111010000101111110101001001000110111010000011000010001100110111110110101011001001110010011000100001011111101010001101111110011111110100001011111101111110111111000110011101000111010111100001001110100001000010011111001111010100001110001101000011111001011100011001111011000101110001111101110000110010110010101001011001110100001011111100001010101101101000110000001100001011011010011101100010100111000111001010001001111010011111001111010100010010100101100001001111100111101010001011010111001010000110100110000111010011000010101011011010000101001100011001110011110100111110011110101000100100001110001101110110111111110101111000010011101101110101001111101001100001010101101101000110000011111110010110111101011010000010011101100011111011100001110001101011011011001101101101011111001100111011011111100011001111101111000100001001111100111101010000011000010110110100111011000101001110001110010100011110010101010011000011101001100001010101101101000010100101001011010000111110101110000100011001010011010110110010101011001100011001110011110100111110011110101000100100001011111100001010101101101000110000010110111100001110010110011100100110011101101110101001111101001100001010101101101000010000101101010011101101101111011101011111011101010011111101100011101011111111110110111010100111010001101011100011011101100010111100110100011111011000111010111111111101100000110000111000110101101101100110110110101111100110011101011111100011001111101111000100001001111100111101010000011000010110110100111011000101001110001110010100011110011111100111010000010100101101001111001110100000101110101000111110101110000100011001010011110011101101101010011000111010001011001111111111011000101110110100001100001011111010100101111000010111010011000111111000111110001\n"
     ]
    }
   ],
   "source": [
    "print(f\"Сжатый текст:\\n{compressed}\")"
   ]
  },
  {
   "cell_type": "code",
   "execution_count": 22,
   "metadata": {
    "pycharm": {
     "name": "#%%\n"
    }
   },
   "outputs": [
    {
     "name": "stdout",
     "output_type": "stream",
     "text": [
      "Распакованный текст:\n",
      "Гло́кая ку́здра ште́ко будлану́ла бо́кра и курдя́чит бокрёнка...\n",
      "\n",
      "Сяпала калуша по напушке\n",
      "И увазила бутявку и волит:\n",
      "- Калушата-калушаточки! Бутявка!\n",
      "\n",
      "Калушата присяпали,\n",
      "Бутявку стрямали\n",
      "И подудонили.\n",
      "\n",
      "А калуша и волит:\n",
      "- Ва! Бутявка-то не кузявая!\n",
      "\n",
      "Калушата бутявку вычучили,\n",
      "Бутявка вздребезнулась,\n",
      "Сапритюкнулась и подудонила.\n",
      "\n",
      "А калуша и волит:\n",
      "- Зёма-зёма, не кузёво!\n",
      "Пусьтьки бятые!\n",
      "00\n"
     ]
    }
   ],
   "source": [
    "print(f\"Распакованный текст:\\n{decompressed}\")"
   ]
  },
  {
   "cell_type": "code",
   "execution_count": null,
   "metadata": {},
   "outputs": [],
   "source": []
  }
 ],
 "metadata": {
  "kernelspec": {
   "display_name": "PyCharm (iu7)",
   "language": "python",
   "name": "pycharm-236ae87f"
  },
  "language_info": {
   "codemirror_mode": {
    "name": "ipython",
    "version": 3
   },
   "file_extension": ".py",
   "mimetype": "text/x-python",
   "name": "python",
   "nbconvert_exporter": "python",
   "pygments_lexer": "ipython3",
   "version": "3.8.5"
  }
 },
 "nbformat": 4,
 "nbformat_minor": 4
}
