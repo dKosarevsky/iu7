{
 "cells": [
  {
   "cell_type": "markdown",
   "metadata": {},
   "source": [
    "# Типы и структуры данных. ЛР2"
   ]
  },
  {
   "cell_type": "markdown",
   "metadata": {},
   "source": [
    "Алгоритмы умножения матриц\n",
    "\n",
    "1. Стандартный\n",
    "1. Алгоритм Винограда базовый\n",
    "1. Алгоритм Винограда оптимизированный"
   ]
  },
  {
   "cell_type": "code",
   "execution_count": 1,
   "metadata": {},
   "outputs": [],
   "source": [
    "# !pip install pandas"
   ]
  },
  {
   "cell_type": "code",
   "execution_count": 2,
   "metadata": {
    "_cell_guid": "b1076dfc-b9ad-4769-8c92-a6c4dae69d19",
    "_uuid": "8f2839f25d086af736a60e9eeb907d3b93b6e0e5"
   },
   "outputs": [],
   "source": [
    "import pandas as pd\n",
    "import numpy as np\n",
    "import random\n",
    "import time\n",
    "\n",
    "from random import randint as rand"
   ]
  },
  {
   "cell_type": "code",
   "execution_count": 3,
   "metadata": {
    "_cell_guid": "79c7e3d0-c299-4dcb-8224-4455121ee9b0",
    "_uuid": "d629ff2d2480ee46fbb7e2d37f6b5fab8052498a"
   },
   "outputs": [],
   "source": [
    "# вводим матрицы\n",
    "matrix_a = [\n",
    "    [1, 2, 3], \n",
    "    [4, 5, 6]\n",
    "]\n",
    "matrix_b = [\n",
    "    [7, 10, 13, -1], \n",
    "    [8, 11, 14, -2], \n",
    "    [9, 12, 15, -3]\n",
    "]\n",
    "\n",
    "matrix_c = [\n",
    "    [1, 2],\n",
    "    [4, 5]\n",
    "]\n",
    "matrix_d = [\n",
    "    [7, 10, 13, -1],\n",
    "    [8, 11, 14, -2]\n",
    "]\n",
    "\n",
    "# кол-во экспериментов\n",
    "exp_num = 10000"
   ]
  },
  {
   "cell_type": "markdown",
   "metadata": {},
   "source": [
    "# Стандартный алгоритм умножения матриц"
   ]
  },
  {
   "cell_type": "code",
   "execution_count": 4,
   "metadata": {},
   "outputs": [],
   "source": [
    "def standart_matrix_multiply(A, B):\n",
    "    if len(A[0]) != len(B):\n",
    "      print(\"Ошибка! Невозможно перемножить матрицы, т.к. они не совместимы.\")\n",
    "      return\n",
    "    \n",
    "    rows_A = len(A)\n",
    "    cols_A = len(A[0])\n",
    "    rows_B = len(B)\n",
    "    cols_B = len(B[0])\n",
    "    \n",
    "    # Создаем матрицу результатов C[rows_A x cols_B] (C[MxQ])\n",
    "    C = [[0 for row in range(cols_B)] for col in range(rows_A)]\n",
    "\n",
    "    for i in range(rows_A):\n",
    "        for j in range(cols_B):\n",
    "            for k in range(cols_A):\n",
    "                C[i][j] = C[i][j] + A[i][k] * B[k][j]\n",
    "                \n",
    "    return C"
   ]
  },
  {
   "cell_type": "code",
   "execution_count": 5,
   "metadata": {},
   "outputs": [
    {
     "name": "stdout",
     "output_type": "stream",
     "text": [
      "Стандартный алгоритм, матрицы A, B\n",
      "Время выполнения 10000 экспериментов: 0.08197643200000004 сек\n",
      "Среднее время одного эксперимента: 8.197643200000005e-06 сек\n",
      "Результат умножения: \n",
      "[[ 50  68  86 -14]\n",
      " [122 167 212 -32]]\n"
     ]
    }
   ],
   "source": [
    "print('Стандартный алгоритм, матрицы A, B')\n",
    "start = time.process_time()\n",
    "for i in range(exp_num - 1):\n",
    "    standart_matrix_multiply(matrix_a, matrix_b)\n",
    "elapsed = (time.process_time() - start)\n",
    "print(f'Время выполнения {exp_num} экспериментов: {elapsed} сек')\n",
    "print(f'Среднее время одного эксперимента: {elapsed / exp_num} сек')\n",
    "print(f\"Результат умножения: \\n{np.matrix(standart_matrix_multiply(matrix_a, matrix_b))}\")"
   ]
  },
  {
   "cell_type": "code",
   "execution_count": 6,
   "metadata": {},
   "outputs": [
    {
     "name": "stdout",
     "output_type": "stream",
     "text": [
      "Стандартный алгоритм, матрицы C, D\n",
      "Время выполнения 10000 экспериментов: 0.08884082900000001 сек\n",
      "Среднее время одного эксперимента: 8.8840829e-06 сек\n",
      "Результат умножения: \n",
      "[[ 23  32  41  -5]\n",
      " [ 68  95 122 -14]]\n"
     ]
    }
   ],
   "source": [
    "print('Стандартный алгоритм, матрицы C, D')\n",
    "start = time.process_time()\n",
    "for i in range(exp_num - 1):\n",
    "    standart_matrix_multiply(matrix_c, matrix_d)\n",
    "elapsed = (time.process_time() - start)\n",
    "print(f'Время выполнения {exp_num} экспериментов: {elapsed} сек')\n",
    "print(f'Среднее время одного эксперимента: {elapsed / exp_num} сек')\n",
    "print(f\"Результат умножения: \\n{np.matrix(standart_matrix_multiply(matrix_c, matrix_d))}\")"
   ]
  },
  {
   "cell_type": "markdown",
   "metadata": {},
   "source": [
    "# Алгоритм Винограда базовый"
   ]
  },
  {
   "cell_type": "code",
   "execution_count": 7,
   "metadata": {},
   "outputs": [],
   "source": [
    "#  A[M * N] * B [N * Q]\n",
    "def vinograd_matrix_multiply(A, B):\n",
    "    if len(A[0]) != len(B):\n",
    "      print(\"Ошибка! Невозможно перемножить матрицы, т.к. они не совместимы.\")\n",
    "      return\n",
    "    \n",
    "    rows_A = len(A)     # a  M\n",
    "    cols_A = len(A[0])  # b  N\n",
    "    rows_B = len(B)     # b  N\n",
    "    cols_B = len(B[0])  # c  Q\n",
    "    \n",
    "    # Создаем матрицу результатов C[rows_A x cols_B] (C[MxQ])\n",
    "    C = [[0 for row in range(cols_B)] for col in range(rows_A)]\n",
    "\n",
    "    # вычисление row_factors для A\n",
    "    row_factor_A = [0 for col in range(rows_A)]\n",
    "    for i in range(rows_A):\n",
    "        for j in range(cols_A // 2):\n",
    "            row_factor_A[i] = row_factor_A[i] + A[i][j * 2] * A[i][j * 2 + 1]\n",
    "    \n",
    "    # вычисление column_factors для B\n",
    "    col_factor_B = [0 for row in range(cols_B)]\n",
    "    for i in range(cols_B):\n",
    "        for j in range(cols_A // 2):\n",
    "            col_factor_B[i] = col_factor_B[i] + B[j * 2][i] * B[j * 2 + 1][i]\n",
    "    \n",
    "    # заполнение матрицы C\n",
    "    for i in range(rows_A):\n",
    "        for j in range(cols_B):\n",
    "            C[i][j] = -row_factor_A[i] - col_factor_B[j]\n",
    "            for k in range(cols_A // 2):\n",
    "                C[i][j] = C[i][j] + (A[i][2 * k] + B[2 * k + 1][j]) * (A[i][2 * k + 1] + B[2 * k][j])\n",
    "    \n",
    "    # прибавление членов в случае нечетной общей размерности\n",
    "    if cols_A % 2 == 1:\n",
    "        for i in range(rows_A):\n",
    "            for j in range(cols_B):\n",
    "                C[i][j] = C[i][j] + A[i][cols_A - 1] * B[cols_A - 1][j]\n",
    "                \n",
    "                \n",
    "    return C"
   ]
  },
  {
   "cell_type": "code",
   "execution_count": 8,
   "metadata": {},
   "outputs": [
    {
     "name": "stdout",
     "output_type": "stream",
     "text": [
      "Алгоритм Винограда базовый, матрицы A, B\n",
      "Время выполнения 10000 экспериментов: 0.205292166 сек\n",
      "Среднее время одного эксперимента: 2.05292166e-05 сек\n",
      "Результат умножения: \n",
      "[[ 50  68  86 -14]\n",
      " [122 167 212 -32]]\n"
     ]
    }
   ],
   "source": [
    "print('Алгоритм Винограда базовый, матрицы A, B')\n",
    "start = time.process_time()\n",
    "for i in range(exp_num - 1):\n",
    "    vinograd_matrix_multiply(matrix_a, matrix_b)\n",
    "elapsed = (time.process_time() - start)\n",
    "print(f'Время выполнения {exp_num} экспериментов: {elapsed} сек')\n",
    "print(f'Среднее время одного эксперимента: {elapsed / exp_num} сек')\n",
    "print(f\"Результат умножения: \\n{np.matrix(vinograd_matrix_multiply(matrix_a, matrix_b))}\")"
   ]
  },
  {
   "cell_type": "code",
   "execution_count": 9,
   "metadata": {},
   "outputs": [
    {
     "name": "stdout",
     "output_type": "stream",
     "text": [
      "Алгоритм Винограда базовый, матрицы C, D\n",
      "Время выполнения 10000 экспериментов: 0.12131929900000005 сек\n",
      "Среднее время одного эксперимента: 1.2131929900000005e-05 сек\n",
      "Результат умножения: \n",
      "[[ 23  32  41  -5]\n",
      " [ 68  95 122 -14]]\n"
     ]
    }
   ],
   "source": [
    "print('Алгоритм Винограда базовый, матрицы C, D')\n",
    "start = time.process_time()\n",
    "for i in range(exp_num - 1):\n",
    "    vinograd_matrix_multiply(matrix_c, matrix_d)\n",
    "elapsed = (time.process_time() - start)\n",
    "print(f'Время выполнения {exp_num} экспериментов: {elapsed} сек')\n",
    "print(f'Среднее время одного эксперимента: {elapsed / exp_num} сек')\n",
    "print(f\"Результат умножения: \\n{np.matrix(vinograd_matrix_multiply(matrix_c, matrix_d))}\")"
   ]
  },
  {
   "cell_type": "markdown",
   "metadata": {},
   "source": [
    "# Алгоритм Винограда оптимизированный"
   ]
  },
  {
   "cell_type": "code",
   "execution_count": 10,
   "metadata": {},
   "outputs": [],
   "source": [
    "# k * 2 ~ k << 1\n",
    "def optimized_vinograd_matrix_multiply(A, B):\n",
    "    if len(A[0]) != len(B):\n",
    "        print(\"Ошибка! Невозможно перемножить матрицы, т.к. они не совместимы.\")\n",
    "        return\n",
    "    \n",
    "    rows_A = len(A)     # a  M\n",
    "    cols_A = len(A[0])  # b  N\n",
    "    rows_B = len(B)     # b  N\n",
    "    cols_B = len(B[0])  # c  Q\n",
    "    \n",
    "    # Создаем матрицу результатов C[rows_A x cols_B] (C[MxQ])\n",
    "    C = [[0 for row in range(cols_B)] for col in range(rows_A)]\n",
    "\n",
    "    # вычисление row_factors для A\n",
    "    row_factor_A = [0 for col in range(rows_A)]\n",
    "    for i in range(rows_A):\n",
    "        for j in range(1, cols_A, 2):\n",
    "            row_factor_A[i] -= A[i][j - 1] * A[i][j]\n",
    "            \n",
    "    # вычисление column_factors для B\n",
    "    col_factor_B = [0 for row in range(cols_B)]\n",
    "    for i in range(cols_B):\n",
    "        for j in range(1, cols_A, 2):\n",
    "            col_factor_B[i] -= B[j - 1][i] * B[j][i]\n",
    "            \n",
    "    # заполнение матрицы C\n",
    "    for i in range(rows_A):\n",
    "        for j in range(cols_B):\n",
    "            buf = row_factor_A[i] + col_factor_B[j]\n",
    "            for k in range(1, cols_A, 2):\n",
    "                buf += (A[i][k - 1] + B[k][j]) * (A[i][k] + B[k - 1][j])\n",
    "            C[i][j] = buf\n",
    "                \n",
    "    # прибавление членов в случае нечетной общей размерности\n",
    "    if cols_A % 2 == 1:\n",
    "        for i in range(rows_A):\n",
    "            for j in range(cols_B):\n",
    "                C[i][j] += A[i][cols_A - 1] * B[cols_A - 1][j]\n",
    "\n",
    "\n",
    "    return C"
   ]
  },
  {
   "cell_type": "code",
   "execution_count": 11,
   "metadata": {},
   "outputs": [
    {
     "name": "stdout",
     "output_type": "stream",
     "text": [
      "Алгоритм Винограда оптимизированный, матрицы A, B\n",
      "Время выполнения 10000 экспериментов: 0.17144072799999988 сек\n",
      "Среднее время одного эксперимента: 1.7144072799999987e-05 сек\n",
      "Результат умножения: \n",
      "[[ 50  68  86 -14]\n",
      " [122 167 212 -32]]\n"
     ]
    }
   ],
   "source": [
    "print('Алгоритм Винограда оптимизированный, матрицы A, B')\n",
    "start = time.process_time()\n",
    "for i in range(exp_num - 1):\n",
    "    optimized_vinograd_matrix_multiply(matrix_a, matrix_b)\n",
    "elapsed = (time.process_time() - start)\n",
    "print(f'Время выполнения {exp_num} экспериментов: {elapsed} сек')\n",
    "print(f'Среднее время одного эксперимента: {elapsed / exp_num} сек')\n",
    "print(f\"Результат умножения: \\n{np.matrix(optimized_vinograd_matrix_multiply(matrix_a, matrix_b))}\")"
   ]
  },
  {
   "cell_type": "code",
   "execution_count": 12,
   "metadata": {},
   "outputs": [
    {
     "name": "stdout",
     "output_type": "stream",
     "text": [
      "Алгоритм Винограда оптимизированный, матрицы C, D\n",
      "Время выполнения 10000 экспериментов: 0.12619267099999987 сек\n",
      "Среднее время одного эксперимента: 1.2619267099999987e-05 сек\n",
      "Результат умножения: \n",
      "[[ 23  32  41  -5]\n",
      " [ 68  95 122 -14]]\n"
     ]
    }
   ],
   "source": [
    "print('Алгоритм Винограда оптимизированный, матрицы C, D')\n",
    "start = time.process_time()\n",
    "for i in range(exp_num - 1):\n",
    "    optimized_vinograd_matrix_multiply(matrix_c, matrix_d)\n",
    "elapsed = (time.process_time() - start)\n",
    "print(f'Время выполнения {exp_num} экспериментов: {elapsed} сек')\n",
    "print(f'Среднее время одного эксперимента: {elapsed / exp_num} сек')\n",
    "print(f\"Результат умножения: \\n{np.matrix(optimized_vinograd_matrix_multiply(matrix_c, matrix_d))}\")"
   ]
  },
  {
   "cell_type": "markdown",
   "metadata": {},
   "source": [
    "# Умножение матриц с помощью библиотеки [NumPy](https://numpy.org/)"
   ]
  },
  {
   "cell_type": "code",
   "execution_count": 13,
   "metadata": {},
   "outputs": [
    {
     "data": {
      "text/plain": [
       "matrix([[1, 2, 3],\n",
       "        [4, 5, 6]])"
      ]
     },
     "metadata": {},
     "output_type": "display_data"
    },
    {
     "data": {
      "text/plain": [
       "matrix([[ 7, 10, 13, -1],\n",
       "        [ 8, 11, 14, -2],\n",
       "        [ 9, 12, 15, -3]])"
      ]
     },
     "metadata": {},
     "output_type": "display_data"
    },
    {
     "data": {
      "text/plain": [
       "matrix([[1, 2],\n",
       "        [4, 5]])"
      ]
     },
     "metadata": {},
     "output_type": "display_data"
    },
    {
     "data": {
      "text/plain": [
       "matrix([[ 7, 10, 13, -1],\n",
       "        [ 8, 11, 14, -2]])"
      ]
     },
     "metadata": {},
     "output_type": "display_data"
    }
   ],
   "source": [
    "ma = np.matrix(matrix_a)\n",
    "mb = np.matrix(matrix_b)\n",
    "mc = np.matrix(matrix_c)\n",
    "md = np.matrix(matrix_d)\n",
    "\n",
    "display(ma, mb, mc, md)"
   ]
  },
  {
   "cell_type": "code",
   "execution_count": 14,
   "metadata": {},
   "outputs": [
    {
     "name": "stdout",
     "output_type": "stream",
     "text": [
      "Библиотека NumPy, матрицы A, B\n",
      "Время выполнения 10000 экспериментов: 0.10165072599999991 сек\n",
      "Среднее время одного эксперимента: 1.0165072599999992e-05 сек\n",
      "Результат умножения: \n",
      "[[ 50  68  86 -14]\n",
      " [122 167 212 -32]]\n"
     ]
    }
   ],
   "source": [
    "print('Библиотека NumPy, матрицы A, B')\n",
    "start = time.process_time()\n",
    "for i in range(exp_num - 1):\n",
    "    ma * mb\n",
    "elapsed = (time.process_time() - start)\n",
    "print(f'Время выполнения {exp_num} экспериментов: {elapsed} сек')\n",
    "print(f'Среднее время одного эксперимента: {elapsed / exp_num} сек')\n",
    "print(f\"Результат умножения: \\n{ma * mb}\")"
   ]
  },
  {
   "cell_type": "code",
   "execution_count": 15,
   "metadata": {},
   "outputs": [
    {
     "name": "stdout",
     "output_type": "stream",
     "text": [
      "Библиотека NumPy, матрицы C, D\n",
      "Время выполнения 10000 экспериментов: 0.1507913120000004 сек\n",
      "Среднее время одного эксперимента: 1.507913120000004e-05 сек\n",
      "Результат умножения: \n",
      "[[ 23  32  41  -5]\n",
      " [ 68  95 122 -14]]\n"
     ]
    }
   ],
   "source": [
    "print('Библиотека NumPy, матрицы C, D')\n",
    "start = time.process_time()\n",
    "for i in range(exp_num - 1):\n",
    "    mc * md\n",
    "elapsed = (time.process_time() - start)\n",
    "print(f'Время выполнения {exp_num} экспериментов: {elapsed} сек')\n",
    "print(f'Среднее время одного эксперимента: {elapsed / exp_num} сек')\n",
    "print(f\"Результат умножения: \\n{mc * md}\")"
   ]
  },
  {
   "cell_type": "markdown",
   "metadata": {},
   "source": [
    "# Оценка сложности алгоритмов при перемножении квадратных матриц различных размерностей"
   ]
  },
  {
   "cell_type": "code",
   "execution_count": 16,
   "metadata": {},
   "outputs": [],
   "source": [
    "def random_binary_matrix(row, col):\n",
    "    matrix = []\n",
    "    for i in range(row):\n",
    "        bin = []\n",
    "        for j in range(col):\n",
    "            if random.randint(0, 1) == 0:\n",
    "                bin.append(0)\n",
    "            else:\n",
    "                bin.append(1)\n",
    "        matrix.append(bin)\n",
    "\n",
    "    return matrix"
   ]
  },
  {
   "cell_type": "code",
   "execution_count": 17,
   "metadata": {},
   "outputs": [],
   "source": [
    "def random_matrix(row, col):\n",
    "    matrix = []\n",
    "    for i in range(row):\n",
    "        matrix.append([])\n",
    "        for j in range(col):\n",
    "            matrix[i].append(rand(0, 9))\n",
    "\n",
    "    return matrix"
   ]
  },
  {
   "cell_type": "code",
   "execution_count": 18,
   "metadata": {},
   "outputs": [
    {
     "data": {
      "text/plain": [
       "[[8, 1, 3], [7, 7, 8], [1, 8, 0]]"
      ]
     },
     "execution_count": 18,
     "metadata": {},
     "output_type": "execute_result"
    }
   ],
   "source": [
    "random_matrix(3, 3)"
   ]
  },
  {
   "cell_type": "code",
   "execution_count": 19,
   "metadata": {},
   "outputs": [],
   "source": [
    "def algo_complexity(dims, exp_num=10):\n",
    "    print(f'\\nМатрицы {dims}х{dims}')\n",
    "    matrix_A = random_matrix(dims, dims)\n",
    "    matrix_B = random_matrix(dims, dims)\n",
    "    exp_num = exp_num\n",
    "    print('\\nСтандартный алгоритм')\n",
    "    start = time.process_time()\n",
    "    for i in range(exp_num - 1):\n",
    "        standart_matrix_multiply(matrix_A, matrix_B)\n",
    "    elapsed = (time.process_time() - start)\n",
    "    print(f'Время выполнения {exp_num} экспериментов: {elapsed} сек')\n",
    "    print(f'Среднее время одного эксперимента: {elapsed / exp_num} сек')\n",
    "    standart = elapsed / exp_num\n",
    "\n",
    "    print('\\nАлгоритм Винограда базовый')\n",
    "    start = time.process_time()\n",
    "    for i in range(exp_num - 1):\n",
    "        vinograd_matrix_multiply(matrix_A, matrix_B)\n",
    "    elapsed = (time.process_time() - start)\n",
    "    print(f'Время выполнения {exp_num} экспериментов: {elapsed} сек')\n",
    "    print(f'Среднее время одного эксперимента: {elapsed / exp_num} сек')\n",
    "    vinograd = elapsed / exp_num\n",
    "\n",
    "    print('\\nАлгоритм Винограда оптимизированный')\n",
    "    start = time.process_time()\n",
    "    for i in range(exp_num - 1):\n",
    "        optimized_vinograd_matrix_multiply(matrix_A, matrix_B)\n",
    "    elapsed = (time.process_time() - start)\n",
    "    print(f'Время выполнения {exp_num} экспериментов: {elapsed} сек')\n",
    "    print(f'Среднее время одного эксперимента: {elapsed / exp_num} сек')\n",
    "    vinograd_optimized = elapsed / exp_num\n",
    "\n",
    "    ma = np.matrix(matrix_A)\n",
    "    mb = np.matrix(matrix_B)\n",
    "\n",
    "    print('\\nБиблиотека NumPy')\n",
    "    start = time.process_time()\n",
    "    for i in range(exp_num - 1):\n",
    "        ma * mb\n",
    "    elapsed = (time.process_time() - start)\n",
    "    print(f'Время выполнения {exp_num} экспериментов: {elapsed} сек')\n",
    "    print(f'Среднее время одного эксперимента: {elapsed / exp_num} сек')\n",
    "    numpy_lib = elapsed / exp_num\n",
    "    \n",
    "    return standart, vinograd, vinograd_optimized, numpy_lib"
   ]
  },
  {
   "cell_type": "code",
   "execution_count": 20,
   "metadata": {},
   "outputs": [
    {
     "name": "stdout",
     "output_type": "stream",
     "text": [
      "\n",
      "Матрицы 100х100\n",
      "\n",
      "Стандартный алгоритм\n",
      "Время выполнения 10 экспериментов: 1.7832685959999997 сек\n",
      "Среднее время одного эксперимента: 0.17832685959999997 сек\n",
      "\n",
      "Алгоритм Винограда базовый\n",
      "Время выполнения 10 экспериментов: 1.715132488 сек\n",
      "Среднее время одного эксперимента: 0.17151324880000002 сек\n",
      "\n",
      "Алгоритм Винограда оптимизированный\n",
      "Время выполнения 10 экспериментов: 1.3551872639999996 сек\n",
      "Среднее время одного эксперимента: 0.13551872639999996 сек\n",
      "\n",
      "Библиотека NumPy\n",
      "Время выполнения 10 экспериментов: 0.00871215000000003 сек\n",
      "Среднее время одного эксперимента: 0.000871215000000003 сек\n"
     ]
    }
   ],
   "source": [
    "std_100, vin_100, vin_opt_100, numpy_100 = algo_complexity(100)"
   ]
  },
  {
   "cell_type": "code",
   "execution_count": 21,
   "metadata": {},
   "outputs": [
    {
     "name": "stdout",
     "output_type": "stream",
     "text": [
      "\n",
      "Матрицы 200х200\n",
      "\n",
      "Стандартный алгоритм\n",
      "Время выполнения 10 экспериментов: 14.707936241000002 сек\n",
      "Среднее время одного эксперимента: 1.4707936241000001 сек\n",
      "\n",
      "Алгоритм Винограда базовый\n",
      "Время выполнения 10 экспериментов: 14.288602329 сек\n",
      "Среднее время одного эксперимента: 1.4288602329 сек\n",
      "\n",
      "Алгоритм Винограда оптимизированный\n",
      "Время выполнения 10 экспериментов: 9.087642484 сек\n",
      "Среднее время одного эксперимента: 0.9087642484 сек\n",
      "\n",
      "Библиотека NumPy\n",
      "Время выполнения 10 экспериментов: 0.061626741999994294 сек\n",
      "Среднее время одного эксперимента: 0.006162674199999429 сек\n"
     ]
    }
   ],
   "source": [
    "std_200, vin_200, vin_opt_200, numpy_200 = algo_complexity(200)"
   ]
  },
  {
   "cell_type": "code",
   "execution_count": 22,
   "metadata": {},
   "outputs": [
    {
     "name": "stdout",
     "output_type": "stream",
     "text": [
      "\n",
      "Матрицы 300х300\n",
      "\n",
      "Стандартный алгоритм\n",
      "Время выполнения 10 экспериментов: 41.71259765 сек\n",
      "Среднее время одного эксперимента: 4.171259765 сек\n",
      "\n",
      "Алгоритм Винограда базовый\n",
      "Время выполнения 10 экспериментов: 39.743719311999996 сек\n",
      "Среднее время одного эксперимента: 3.9743719311999994 сек\n",
      "\n",
      "Алгоритм Винограда оптимизированный\n",
      "Время выполнения 10 экспериментов: 26.842495912000004 сек\n",
      "Среднее время одного эксперимента: 2.6842495912000004 сек\n",
      "\n",
      "Библиотека NumPy\n",
      "Время выполнения 10 экспериментов: 0.2262091370000121 сек\n",
      "Среднее время одного эксперимента: 0.02262091370000121 сек\n"
     ]
    }
   ],
   "source": [
    "std_300, vin_300, vin_opt_300, numpy_300 = algo_complexity(300)"
   ]
  },
  {
   "cell_type": "code",
   "execution_count": 23,
   "metadata": {},
   "outputs": [
    {
     "name": "stdout",
     "output_type": "stream",
     "text": [
      "\n",
      "Матрицы 400х400\n",
      "\n",
      "Стандартный алгоритм\n",
      "Время выполнения 10 экспериментов: 98.61172453 сек\n",
      "Среднее время одного эксперимента: 9.861172453 сек\n",
      "\n",
      "Алгоритм Винограда базовый\n",
      "Время выполнения 10 экспериментов: 100.33665092800001 сек\n",
      "Среднее время одного эксперимента: 10.033665092800002 сек\n",
      "\n",
      "Алгоритм Винограда оптимизированный\n",
      "Время выполнения 10 экспериментов: 66.455197537 сек\n",
      "Среднее время одного эксперимента: 6.6455197537 сек\n",
      "\n",
      "Библиотека NumPy\n",
      "Время выполнения 10 экспериментов: 0.7109643469999583 сек\n",
      "Среднее время одного эксперимента: 0.07109643469999583 сек\n"
     ]
    }
   ],
   "source": [
    "std_400, vin_400, vin_opt_400, numpy_400 = algo_complexity(400)"
   ]
  },
  {
   "cell_type": "code",
   "execution_count": 24,
   "metadata": {},
   "outputs": [
    {
     "name": "stdout",
     "output_type": "stream",
     "text": [
      "\n",
      "Матрицы 500х500\n",
      "\n",
      "Стандартный алгоритм\n",
      "Время выполнения 10 экспериментов: 197.63753344499997 сек\n",
      "Среднее время одного эксперимента: 19.763753344499996 сек\n",
      "\n",
      "Алгоритм Винограда базовый\n",
      "Время выполнения 10 экспериментов: 221.89923819900002 сек\n",
      "Среднее время одного эксперимента: 22.189923819900002 сек\n",
      "\n",
      "Алгоритм Винограда оптимизированный\n",
      "Время выполнения 10 экспериментов: 138.32442330600009 сек\n",
      "Среднее время одного эксперимента: 13.832442330600008 сек\n",
      "\n",
      "Библиотека NumPy\n",
      "Время выполнения 10 экспериментов: 1.59210331700001 сек\n",
      "Среднее время одного эксперимента: 0.159210331700001 сек\n"
     ]
    }
   ],
   "source": [
    "std_500, vin_500, vin_opt_500, numpy_500 = algo_complexity(500)"
   ]
  },
  {
   "cell_type": "code",
   "execution_count": null,
   "metadata": {},
   "outputs": [],
   "source": []
  },
  {
   "cell_type": "code",
   "execution_count": 25,
   "metadata": {},
   "outputs": [
    {
     "name": "stdout",
     "output_type": "stream",
     "text": [
      "\n",
      "Матрицы 101х101\n",
      "\n",
      "Стандартный алгоритм\n",
      "Время выполнения 10 экспериментов: 1.6129848839999568 сек\n",
      "Среднее время одного эксперимента: 0.16129848839999567 сек\n",
      "\n",
      "Алгоритм Винограда базовый\n",
      "Время выполнения 10 экспериментов: 1.461723548000009 сек\n",
      "Среднее время одного эксперимента: 0.1461723548000009 сек\n",
      "\n",
      "Алгоритм Винограда оптимизированный\n",
      "Время выполнения 10 экспериментов: 1.0527788790000159 сек\n",
      "Среднее время одного эксперимента: 0.10527788790000159 сек\n",
      "\n",
      "Библиотека NumPy\n",
      "Время выполнения 10 экспериментов: 0.007855226000060611 сек\n",
      "Среднее время одного эксперимента: 0.0007855226000060611 сек\n"
     ]
    }
   ],
   "source": [
    "std_101, vin_101, vin_opt_101, numpy_101 = algo_complexity(101)"
   ]
  },
  {
   "cell_type": "code",
   "execution_count": 26,
   "metadata": {},
   "outputs": [
    {
     "name": "stdout",
     "output_type": "stream",
     "text": [
      "\n",
      "Матрицы 201х201\n",
      "\n",
      "Стандартный алгоритм\n",
      "Время выполнения 10 экспериментов: 12.422006298000042 сек\n",
      "Среднее время одного эксперимента: 1.2422006298000041 сек\n",
      "\n",
      "Алгоритм Винограда базовый\n",
      "Время выполнения 10 экспериментов: 11.540124229000071 сек\n",
      "Среднее время одного эксперимента: 1.154012422900007 сек\n",
      "\n",
      "Алгоритм Винограда оптимизированный\n",
      "Время выполнения 10 экспериментов: 7.905133542000044 сек\n",
      "Среднее время одного эксперимента: 0.7905133542000045 сек\n",
      "\n",
      "Библиотека NumPy\n",
      "Время выполнения 10 экспериментов: 0.06415368000000399 сек\n",
      "Среднее время одного эксперимента: 0.006415368000000398 сек\n"
     ]
    }
   ],
   "source": [
    "std_201, vin_201, vin_opt_201, numpy_201 = algo_complexity(201)"
   ]
  },
  {
   "cell_type": "code",
   "execution_count": 27,
   "metadata": {},
   "outputs": [
    {
     "name": "stdout",
     "output_type": "stream",
     "text": [
      "\n",
      "Матрицы 301х301\n",
      "\n",
      "Стандартный алгоритм\n",
      "Время выполнения 10 экспериментов: 41.14900138100006 сек\n",
      "Среднее время одного эксперимента: 4.1149001381000065 сек\n",
      "\n",
      "Алгоритм Винограда базовый\n",
      "Время выполнения 10 экспериментов: 39.261659345 сек\n",
      "Среднее время одного эксперимента: 3.9261659344999997 сек\n",
      "\n",
      "Алгоритм Винограда оптимизированный\n",
      "Время выполнения 10 экспериментов: 26.880216768000082 сек\n",
      "Среднее время одного эксперимента: 2.688021676800008 сек\n",
      "\n",
      "Библиотека NumPy\n",
      "Время выполнения 10 экспериментов: 0.21244340700013709 сек\n",
      "Среднее время одного эксперимента: 0.021244340700013707 сек\n"
     ]
    }
   ],
   "source": [
    "std_301, vin_301, vin_opt_301, numpy_301 = algo_complexity(301)"
   ]
  },
  {
   "cell_type": "code",
   "execution_count": 28,
   "metadata": {},
   "outputs": [
    {
     "name": "stdout",
     "output_type": "stream",
     "text": [
      "\n",
      "Матрицы 401х401\n",
      "\n",
      "Стандартный алгоритм\n",
      "Время выполнения 10 экспериментов: 99.13505042499992 сек\n",
      "Среднее время одного эксперимента: 9.913505042499992 сек\n",
      "\n",
      "Алгоритм Винограда базовый\n",
      "Время выполнения 10 экспериментов: 101.54136418299981 сек\n",
      "Среднее время одного эксперимента: 10.15413641829998 сек\n",
      "\n",
      "Алгоритм Винограда оптимизированный\n",
      "Время выполнения 10 экспериментов: 64.19790044199999 сек\n",
      "Среднее время одного эксперимента: 6.419790044199999 сек\n",
      "\n",
      "Библиотека NumPy\n",
      "Время выполнения 10 экспериментов: 0.8356533480000508 сек\n",
      "Среднее время одного эксперимента: 0.08356533480000508 сек\n"
     ]
    }
   ],
   "source": [
    "std_401, vin_401, vin_opt_401, numpy_401 = algo_complexity(401)"
   ]
  },
  {
   "cell_type": "code",
   "execution_count": 29,
   "metadata": {},
   "outputs": [
    {
     "name": "stdout",
     "output_type": "stream",
     "text": [
      "\n",
      "Матрицы 501х501\n",
      "\n",
      "Стандартный алгоритм\n",
      "Время выполнения 10 экспериментов: 202.71044561999997 сек\n",
      "Среднее время одного эксперимента: 20.271044561999997 сек\n",
      "\n",
      "Алгоритм Винограда базовый\n",
      "Время выполнения 10 экспериментов: 211.16049282599988 сек\n",
      "Среднее время одного эксперимента: 21.116049282599988 сек\n",
      "\n",
      "Алгоритм Винограда оптимизированный\n",
      "Время выполнения 10 экспериментов: 126.06204086000002 сек\n",
      "Среднее время одного эксперимента: 12.606204086000002 сек\n",
      "\n",
      "Библиотека NumPy\n",
      "Время выполнения 10 экспериментов: 1.70094865499982 сек\n",
      "Среднее время одного эксперимента: 0.170094865499982 сек\n"
     ]
    }
   ],
   "source": [
    "std_501, vin_501, vin_opt_501, numpy_501 = algo_complexity(501)"
   ]
  },
  {
   "cell_type": "code",
   "execution_count": null,
   "metadata": {},
   "outputs": [],
   "source": []
  },
  {
   "cell_type": "markdown",
   "metadata": {},
   "source": [
    "# Графики"
   ]
  },
  {
   "cell_type": "code",
   "execution_count": 30,
   "metadata": {},
   "outputs": [],
   "source": [
    "# !pip install matplotlib"
   ]
  },
  {
   "cell_type": "code",
   "execution_count": 31,
   "metadata": {},
   "outputs": [],
   "source": [
    "import matplotlib.pyplot as plt"
   ]
  },
  {
   "cell_type": "code",
   "execution_count": 46,
   "metadata": {},
   "outputs": [
    {
     "data": {
      "image/png": "[encoded data removed]",
      "text/plain": [
       "<Figure size 720x504 with 1 Axes>"
      ]
     },
     "metadata": {
      "needs_background": "light"
     },
     "output_type": "display_data"
    }
   ],
   "source": [
    "std_alg = [std_100, std_200, std_300, std_400, std_500]\n",
    "vin_alg = [vin_100, vin_200, vin_300, vin_400, vin_500]\n",
    "vin_opt_alg = [vin_opt_100, vin_opt_200, vin_opt_300, vin_opt_400, vin_opt_500]\n",
    "numpy_alg = [numpy_100, numpy_200, numpy_300, numpy_400, numpy_500]\n",
    "\n",
    "# plt.ioff()\n",
    "fig, ax = plt.subplots(figsize=(10, 7))\n",
    "data = {'Стандартный алгоритм': std_alg,\n",
    "        'Виноград': vin_alg,\n",
    "        'Виноград оптимизированный': vin_opt_alg,\n",
    "        'NumPy': numpy_alg,\n",
    "       }\n",
    "df = pd.DataFrame(data)\n",
    "x = np.arange(5)\n",
    "plt.axis([0, 5, 0, 25])\n",
    "plt.plot(x, df, linestyle='solid',)\n",
    "ax.set_title('Сравнение алгоритмов умножения матриц')\n",
    "plt.legend(data, loc=2)\n",
    "plt.show()"
   ]
  },
  {
   "cell_type": "code",
   "execution_count": 47,
   "metadata": {},
   "outputs": [
    {
     "data": {
      "image/png": "[encoded data removed]",
      "text/plain": [
       "<Figure size 720x504 with 1 Axes>"
      ]
     },
     "metadata": {
      "needs_background": "light"
     },
     "output_type": "display_data"
    }
   ],
   "source": [
    "std_alg = [std_101, std_201, std_301, std_401, std_501]\n",
    "vin_alg = [vin_101, vin_201, vin_301, vin_401, vin_501]\n",
    "vin_opt_alg = [vin_opt_101, vin_opt_201, vin_opt_301, vin_opt_401, vin_opt_501]\n",
    "numpy_alg = [numpy_101, numpy_201, numpy_301, numpy_401, numpy_501]\n",
    "\n",
    "# plt.ioff()\n",
    "fig, ax = plt.subplots(figsize=(10, 7))\n",
    "data = {'Стандартный алгоритм': std_alg,\n",
    "        'Виноград': vin_alg,\n",
    "        'Виноград оптимизированный': vin_opt_alg,\n",
    "        'NumPy': numpy_alg,\n",
    "       }\n",
    "df = pd.DataFrame(data)\n",
    "x = np.arange(5)\n",
    "plt.axis([0, 5, 0, 25])\n",
    "plt.plot(x, df, linestyle='solid',)\n",
    "ax.set_title('Сравнение алгоритмов умножения матриц (нечётные)')\n",
    "plt.legend(data, loc=2)\n",
    "plt.show()"
   ]
  },
  {
   "cell_type": "code",
   "execution_count": 33,
   "metadata": {},
   "outputs": [
    {
     "data": {
      "image/png": "[encoded data removed]",
      "text/plain": [
       "<Figure size 432x288 with 1 Axes>"
      ]
     },
     "metadata": {
      "needs_background": "light"
     },
     "output_type": "display_data"
    }
   ],
   "source": [
    "plt.plot([std_100, std_200, std_300, std_400, std_500])\n",
    "plt.title('Стандартный Алгоритм чёт')\n",
    "plt.show()"
   ]
  },
  {
   "cell_type": "code",
   "execution_count": 34,
   "metadata": {},
   "outputs": [
    {
     "data": {
      "image/png": "[encoded data removed]",
      "text/plain": [
       "<Figure size 432x288 with 1 Axes>"
      ]
     },
     "metadata": {
      "needs_background": "light"
     },
     "output_type": "display_data"
    }
   ],
   "source": [
    "plt.plot([std_101, std_201, std_301, std_401, std_501])\n",
    "plt.title('Стандартный Алгоритм нечёт')\n",
    "plt.show()"
   ]
  },
  {
   "cell_type": "code",
   "execution_count": 35,
   "metadata": {},
   "outputs": [
    {
     "data": {
      "image/png": "[encoded data removed]",
      "text/plain": [
       "<Figure size 432x288 with 1 Axes>"
      ]
     },
     "metadata": {
      "needs_background": "light"
     },
     "output_type": "display_data"
    }
   ],
   "source": [
    "plt.plot([vin_100, vin_200, vin_300, vin_400, vin_500])\n",
    "plt.title('Алгоритм Винограда чёт')\n",
    "plt.show()"
   ]
  },
  {
   "cell_type": "code",
   "execution_count": 36,
   "metadata": {},
   "outputs": [
    {
     "data": {
      "image/png": "[encoded data removed]",
      "text/plain": [
       "<Figure size 432x288 with 1 Axes>"
      ]
     },
     "metadata": {
      "needs_background": "light"
     },
     "output_type": "display_data"
    }
   ],
   "source": [
    "plt.plot([vin_101, vin_201, vin_301, vin_401, vin_501])\n",
    "plt.title('Алгоритм Винограда нечёт')\n",
    "plt.show()"
   ]
  },
  {
   "cell_type": "code",
   "execution_count": 37,
   "metadata": {},
   "outputs": [
    {
     "data": {
      "image/png": "[encoded data removed]",
      "text/plain": [
       "<Figure size 432x288 with 1 Axes>"
      ]
     },
     "metadata": {
      "needs_background": "light"
     },
     "output_type": "display_data"
    }
   ],
   "source": [
    "plt.plot([vin_opt_100, vin_opt_200, vin_opt_300, vin_opt_400, vin_opt_500])\n",
    "plt.title('Алгоритм Винограда Оптимизированный чёт')\n",
    "plt.show()"
   ]
  },
  {
   "cell_type": "code",
   "execution_count": 38,
   "metadata": {},
   "outputs": [
    {
     "data": {
      "image/png": "[encoded data removed]",
      "text/plain": [
       "<Figure size 432x288 with 1 Axes>"
      ]
     },
     "metadata": {
      "needs_background": "light"
     },
     "output_type": "display_data"
    }
   ],
   "source": [
    "plt.plot([vin_opt_101, vin_opt_201, vin_opt_301, vin_opt_401, vin_opt_501])\n",
    "plt.title('Алгоритм Винограда Оптимизированный нечёт')\n",
    "plt.show()"
   ]
  },
  {
   "cell_type": "code",
   "execution_count": 39,
   "metadata": {},
   "outputs": [
    {
     "data": {
      "image/png": "[encoded data removed]",
      "text/plain": [
       "<Figure size 432x288 with 1 Axes>"
      ]
     },
     "metadata": {
      "needs_background": "light"
     },
     "output_type": "display_data"
    }
   ],
   "source": [
    "plt.plot([numpy_100, numpy_200, numpy_300, numpy_400, numpy_500])\n",
    "plt.title('Библиотека NumPy чёт')\n",
    "plt.show()"
   ]
  },
  {
   "cell_type": "code",
   "execution_count": 40,
   "metadata": {},
   "outputs": [
    {
     "data": {
      "image/png": "[encoded data removed]",
      "text/plain": [
       "<Figure size 432x288 with 1 Axes>"
      ]
     },
     "metadata": {
      "needs_background": "light"
     },
     "output_type": "display_data"
    }
   ],
   "source": [
    "plt.plot([numpy_101, numpy_201, numpy_301, numpy_401, numpy_501])\n",
    "plt.title('Библиотека NumPy нечёт')\n",
    "plt.show()"
   ]
  },
  {
   "cell_type": "code",
   "execution_count": null,
   "metadata": {},
   "outputs": [],
   "source": []
  }
 ],
 "metadata": {
  "kernelspec": {
   "display_name": "Python 3",
   "language": "python",
   "name": "python3"
  },
  "language_info": {
   "codemirror_mode": {
    "name": "ipython",
    "version": 3
   },
   "file_extension": ".py",
   "mimetype": "text/x-python",
   "name": "python",
   "nbconvert_exporter": "python",
   "pygments_lexer": "ipython3",
   "version": "3.7.7"
  }
 },
 "nbformat": 4,
 "nbformat_minor": 4
}
