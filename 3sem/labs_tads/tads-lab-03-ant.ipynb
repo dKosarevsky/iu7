{
 "cells": [
  {
   "cell_type": "code",
   "execution_count": 1,
   "metadata": {},
   "outputs": [],
   "source": [
    "# !pip install acopy[plot]\n",
    "# !sudo apt install graphviz\n",
    "# !pip install networkx[all]\n",
    "# !pip install numpy scipy pandas matplotlib pygraphviz pydot pyyaml gdal"
   ]
  },
  {
   "cell_type": "code",
   "execution_count": 2,
   "metadata": {},
   "outputs": [],
   "source": [
    "from numpy.random import choice as np_choice\n",
    "from math import inf\n",
    "\n",
    "import matplotlib.lines as lines\n",
    "import matplotlib.pyplot as plt\n",
    "import networkx as nx\n",
    "\n",
    "import numpy as np\n",
    "import heapq as hq\n",
    "import acopy\n",
    "import time"
   ]
  },
  {
   "cell_type": "markdown",
   "metadata": {},
   "source": [
    "# Типы и Структуры Данных. ЛР3"
   ]
  },
  {
   "cell_type": "markdown",
   "metadata": {},
   "source": [
    "## Полный перебор (алгоритм Дейкстры)"
   ]
  },
  {
   "cell_type": "markdown",
   "metadata": {},
   "source": [
    "![Alt Text](dijkstra.gif)"
   ]
  },
  {
   "cell_type": "code",
   "execution_count": 3,
   "metadata": {},
   "outputs": [],
   "source": [
    "G_6 = [\n",
    "    [inf,   1.0,  5.5,   52.3,  25.0,  8.8  ],\n",
    "    [1.0,   inf,  2.5,   5.0,   5.0,   2.5  ],\n",
    "    [5.5,   2.5,  inf,   14.3,  12.0,  33.3 ],\n",
    "    [52.3,  5.0,  14.3,  inf,   5.1,   5.5  ],\n",
    "    [25.0,  5.0,  12.0,  5.1,   inf,   99.9 ],\n",
    "    [8.8,   2.5,  33.3,  5.5,   99.9,  inf  ],\n",
    "]"
   ]
  },
  {
   "cell_type": "code",
   "execution_count": 4,
   "metadata": {},
   "outputs": [],
   "source": [
    "G_8 = [\n",
    "    [inf,   1.0,  5.5,   52.3,  25.0,  8.8 ,  2.0,   2.5  ],\n",
    "    [1.0,   inf,  2.5,   5.0,   5.0,   2.5 ,  2.5,   2.5  ],\n",
    "    [5.5,   2.5,  inf,   14.3,  12.0,  33.3,  23.0,  32.5 ],\n",
    "    [52.3,  5.0,  14.3,  inf,   5.1,   5.5 ,  2.2,   3.3  ],\n",
    "    [25.0,  5.0,  12.0,  5.1,   inf,   99.9,  5.0,   22.5 ],\n",
    "    [8.8,   2.5,  33.3,  5.5,   99.9,  inf ,  5.0,   12.5 ],\n",
    "    [2.0,   2.5,  23.0,  2.2,   5.0,   5.0,   inf,   5.0  ],\n",
    "    [2.5,   2.5,  32.5,  3.3,   22.5,  12.5,  5.0,   inf  ],\n",
    "]"
   ]
  },
  {
   "cell_type": "code",
   "execution_count": 5,
   "metadata": {},
   "outputs": [],
   "source": [
    "def dijkstra(graph, start, goal):\n",
    "    \"\"\"\n",
    "        Алгоритм Дейкстры, для работы с данными в формате словаря\n",
    "    \"\"\"\n",
    "    shortest_path = {} \n",
    "    predecessor = {} \n",
    "    unseen_nodes = graph \n",
    "    infinity = inf \n",
    "    path = [] \n",
    "    for node in unseen_nodes: \n",
    "        shortest_path[node] = infinity \n",
    "    shortest_path[start] = 0 \n",
    "     \n",
    "    while unseen_nodes: \n",
    "        min_node = None \n",
    "        for node in unseen_nodes: \n",
    "            if min_node is None: \n",
    "                min_node = node \n",
    "            elif shortest_path[node] < shortest_path[min_node]: \n",
    "                min_node = node \n",
    "         \n",
    "        for connect_node, link_cost in graph[min_node].items(): \n",
    "            if link_cost + shortest_path[min_node] < shortest_path[connect_node]: \n",
    "                shortest_path[connect_node] = link_cost + shortest_path[min_node]  \n",
    "                predecessor[connect_node] = min_node \n",
    "        unseen_nodes.pop(min_node) \n",
    "     \n",
    "    current_node = goal \n",
    "    while current_node != start: \n",
    "        path.insert(0,current_node) \n",
    "        current_node = predecessor[current_node] \n",
    "     \n",
    "    path.insert(0,start) \n",
    "    print(f'Кратчайший путь до цели составляет {shortest_path[goal]} условных единиц меры') \n",
    "    print(f'Путь будет проходить по следующим вершинам {path}')"
   ]
  },
  {
   "cell_type": "markdown",
   "metadata": {},
   "source": [
    "### кратчайший маршрут из точки N в точку M:"
   ]
  },
  {
   "cell_type": "code",
   "execution_count": 6,
   "metadata": {},
   "outputs": [
    {
     "name": "stdout",
     "output_type": "stream",
     "text": [
      "Кратчайший путь до цели составляет 6.0 условных единиц меры\n",
      "Путь будет проходить по следующим вершинам ['A', 'B', 'D']\n"
     ]
    }
   ],
   "source": [
    "graph_6 = { \n",
    "    'A': {'B': 1.0, 'C': 5.5, 'D': 52.3, 'E': 25.0, 'F': 8.8},\n",
    "    'B': {'A': 1.0, 'C': 2.5, 'D': 5.0, 'E': 5.0, 'F': 2.5},\n",
    "    'C': {'A': 5.5, 'B': 2.5, 'D': 14.3, 'E': 12.0, 'F': 33.3},\n",
    "    'D': {'A': 52.3, 'B': 5.0, 'C': 14.3, 'E': 5.1, 'F': 5.5},\n",
    "    'E': {'A': 25.0, 'B': 5.0, 'C': 12.0, 'D': 5.1, 'F': 99.9},\n",
    "    'F': {'A': 8.8, 'B': 2.5, 'C': 33.3, 'D': 5.5, 'E': 99.9},\n",
    "}\n",
    "\n",
    "dijkstra(graph_6, 'A', 'D')"
   ]
  },
  {
   "cell_type": "code",
   "execution_count": 7,
   "metadata": {},
   "outputs": [
    {
     "name": "stdout",
     "output_type": "stream",
     "text": [
      "Кратчайший путь до цели составляет 81 условных единиц меры\n",
      "Путь будет проходить по следующим вершинам ['A', 'D']\n"
     ]
    }
   ],
   "source": [
    "graph_8 = {\n",
    "    'A': {'B': 6, 'C': 100, 'D': 81, 'E': 23}, \n",
    "    'B': {'A': 6, 'D': 77}, \n",
    "    'C': {'A': 100}, \n",
    "    'D': {'A': 81, 'B': 77}, \n",
    "    'E': {'A': 23}, \n",
    "}\n",
    "\n",
    "dijkstra(graph_8, 'A', 'D')"
   ]
  },
  {
   "cell_type": "markdown",
   "metadata": {},
   "source": [
    "### перебор всех вариантов маршрутов:"
   ]
  },
  {
   "cell_type": "code",
   "execution_count": 8,
   "metadata": {},
   "outputs": [],
   "source": [
    "def dijkstra_heap(G, start=0):\n",
    "    \"\"\"\n",
    "        Алгоритм Дейкстры, реализованный,\n",
    "        с помощью стандартной библиотеки heapq (очередь кучи)\n",
    "        \n",
    "        G - граф\n",
    "        start - стартовая вершина\n",
    "    \"\"\"\n",
    "    n = len(G)  # количество вершин\n",
    "    Q = [(0, start)]  # инициализируем массив для кучи\n",
    "    d = [inf for i in range(n)]  # инициализируем массив с бесконечностями\n",
    "    d[start] = 0  # присваиваем 0 стартовой вершине\n",
    "\n",
    "    while len(Q) != 0:\n",
    "        (cost, u) = hq.heappop(Q)  # выбрасываем из кучи Q\n",
    "\n",
    "        for v in range(n):\n",
    "            if d[v] > d[u] + G[u][v]:  # процесс ослабления ребра\n",
    "                d[v] = d[u] + G[u][v]\n",
    "                hq.heappush(Q, (d[v], v))  # добавляем в кучу Q\n",
    "                \n",
    "    return d"
   ]
  },
  {
   "cell_type": "code",
   "execution_count": 9,
   "metadata": {},
   "outputs": [
    {
     "name": "stdout",
     "output_type": "stream",
     "text": [
      "[0, 1.0, 3.5, 6.0, 6.0, 3.5]\n",
      "[1.0, 0, 2.5, 5.0, 5.0, 2.5]\n",
      "[3.5, 2.5, 0, 7.5, 7.5, 5.0]\n",
      "[6.0, 5.0, 7.5, 0, 5.1, 5.5]\n",
      "[6.0, 5.0, 7.5, 5.1, 0, 7.5]\n",
      "[3.5, 2.5, 5.0, 5.5, 7.5, 0]\n"
     ]
    }
   ],
   "source": [
    "for i in range(len(G_6)):\n",
    "    print(dijkstra_heap(G_6, i))"
   ]
  },
  {
   "cell_type": "code",
   "execution_count": 10,
   "metadata": {},
   "outputs": [
    {
     "name": "stdout",
     "output_type": "stream",
     "text": [
      "[0, 1.0, 3.5, 4.2, 6.0, 3.5, 2.0, 2.5]\n",
      "[1.0, 0, 2.5, 4.7, 5.0, 2.5, 2.5, 2.5]\n",
      "[3.5, 2.5, 0, 7.2, 7.5, 5.0, 5.0, 5.0]\n",
      "[4.2, 4.7, 7.2, 0, 5.1, 5.5, 2.2, 3.3]\n",
      "[6.0, 5.0, 7.5, 5.1, 0, 7.5, 5.0, 7.5]\n",
      "[3.5, 2.5, 5.0, 5.5, 7.5, 0, 5.0, 5.0]\n",
      "[2.0, 2.5, 5.0, 2.2, 5.0, 5.0, 0, 4.5]\n",
      "[2.5, 2.5, 5.0, 3.3, 7.5, 5.0, 4.5, 0]\n"
     ]
    }
   ],
   "source": [
    "for i in range(len(G_8)):\n",
    "    print(dijkstra_heap(G_8, i))"
   ]
  },
  {
   "cell_type": "markdown",
   "metadata": {},
   "source": [
    "## Муравьиный Алгоритм"
   ]
  },
  {
   "cell_type": "markdown",
   "metadata": {},
   "source": [
    "![Alt Text](ants.gif)"
   ]
  },
  {
   "cell_type": "markdown",
   "metadata": {},
   "source": [
    "1. Выбираем количество муравьев N."
   ]
  },
  {
   "cell_type": "markdown",
   "metadata": {},
   "source": [
    "2. Инициализируем матрицу отложений феромонов, она такой же формы, как и матрица расстояний. И координаты соответствуют одним и тем же городам. Если distances[2,5] = 35, т.е. расстояние от 2 до 5 составляет 35, и если pheromone[2,5] = 0.8, т.е. уровень феромона, отложенного на пути между 2 и 5, составляет 0,8. Матрица феромонов инициализируется небольшими переменными одного и того же значения."
   ]
  },
  {
   "cell_type": "markdown",
   "metadata": {},
   "source": [
    "3. Изучение нескольких путей:\n",
    "\n",
    "    Муравей принимает решение, в какой город поехать, используя следующую конструкцию:\n",
    "    city_to_city_score = pheromone ** alpha * (1.0 / distance) ** beta\n",
    "    альфа и бета действуют как вес на феромон и расстояние соответственно.\n",
    "\n",
    "    Мы производим расчет city_to_city_score для всех доступных городов (мы игнорируем города, которые мы уже посетили, потому что мы не можем вернуться к ним).\n",
    "\n",
    "    Вероятность поехать в следующий город:\n",
    "    prob_of_going_to_city(i) = city_to_city_score(i) / sum_of_all_available_city_to_city_scores\n",
    "\n",
    "    Например, если муравей находится в городе 2, а доступные города - 4,7,8. Мы рассчитываем оценки для этих городов как:\n",
    "    {4: 0.2, 7: 0.4, 8: 0.8}\n",
    "\n",
    "    Вероятность перехода на 4\n",
    "    0.2 / (0.2 + 0.4 + 0.8) = 0.142857\n",
    "    и так далее.\n",
    "\n",
    "    Муравей продолжает переходить из города в город в соответствии с указанным выше правилом выбора, пока не посетит все города.\n",
    "\n",
    "    Если мы выберем для начала 20 муравьев, у нас будет 20 путей в конце этой группы муравьёв, путешествующих поколения.\n",
    "\n",
    "    Поскольку на начальном этапе уровни феромонов одинаковы, выбор делается на расстоянии + некоторый шум. Случайный жадный, если хотите. Но мы хотим отслеживать успешные маршруты, поэтому муравьи откладывают феромон."
   ]
  },
  {
   "cell_type": "markdown",
   "metadata": {},
   "source": [
    "4. На обратном пути все муравьи или определенное количество лучших муравьев откладывают феромоны на своих тропах.\n",
    "\n",
    "    Они вносят:\n",
    "\n",
    "    1 / (distance between two cities)\n",
    "\n",
    "    Например: муравей прошел путь: [(0 -> 3) (расстояние: 8), (3 -> 5) (расстояние: 2)]\n",
    "\n",
    "    0,125 единицы феромона откладываются на \n",
    "    pheromone[0,3] += 0.125\n",
    "    и\n",
    "    pheromone[3,5] += 0.5\n",
    "\n",
    "    Это сделано для того, чтобы муравьи стали уделять больше внимания более коротким маршрутам между городами."
   ]
  },
  {
   "cell_type": "markdown",
   "metadata": {},
   "source": [
    "5. И последнее: мы должны позволить феромонам распадаться(выветриваться, испаряться), чтобы старые феромоны не сбивали с толку следующие поколения муравьев. Мы просто умножаем матрицу феромонов на скорость распада. Сразу после внесения депозита. Следовательно, феромон, который некоторое время находился в сидячем состоянии, подвергался множеству многих распадов и должен быть небольшим."
   ]
  },
  {
   "cell_type": "markdown",
   "metadata": {},
   "source": [
    "6. Продолжаем выполнять шаги 3) 4) и 5) в кол-ве N итераций."
   ]
  },
  {
   "cell_type": "code",
   "execution_count": 11,
   "metadata": {},
   "outputs": [],
   "source": [
    "class AntColony(object):\n",
    "\n",
    "    def __init__(self, distances, n_ants, n_best, n_iterations, decay, alpha=1, beta=1):\n",
    "        \"\"\"\n",
    "        Аргументы:\n",
    "            distances (2D numpy.array): Квадратная матрица расстояний, главную диагональ задаём бесконечностями.\n",
    "            n_ants (int): Количество муравьев, бегущих за итерацию.\n",
    "            n_best (int): Количество лучших муравьев, откладывающих феромон. (вместо Q)\n",
    "            n_iteration (int): Количество итераций.\n",
    "            decay (float): Коэффициент распада (испарения феромона). Значение феромона умножается на к-нт распада, поэтому 0,95 приведет к распаду, 0,5 - к гораздо более быстрому распаду.\n",
    "            alpha (int or float): Влияние феромона (стадность), более высокий альфа дает феромон больший вес. По умолчанию = 1\n",
    "            beta (int or float): Влияние длины пути (жадность алгоритма), чем выше бета, тем больше вес расстоянию. По умолчанию = 1\n",
    "        Пример:\n",
    "            ant_colony = AntColony(matrix_distances, 100, 20, 2000, 0.95, alpha=1, beta=2)          \n",
    "        \"\"\"\n",
    "        self.distances = distances\n",
    "        self.pheromone = np.ones(self.distances.shape) / len(distances)\n",
    "        self.all_inds = range(len(distances))\n",
    "        self.n_ants = n_ants\n",
    "        self.n_best = n_best\n",
    "        self.n_iterations = n_iterations\n",
    "        self.decay = decay\n",
    "        self.alpha = alpha\n",
    "        self.beta = beta\n",
    "\n",
    "    # запуск колонии\n",
    "    def run(self):\n",
    "        shortest_path = None\n",
    "        all_time_shortest_path = (\"placeholder\", np.inf)\n",
    "        for i in range(self.n_iterations):\n",
    "            all_paths = self.gen_all_paths()\n",
    "            self.spread_pheronome(all_paths, self.n_best, shortest_path=shortest_path)\n",
    "            shortest_path = min(all_paths, key=lambda x: x[1])\n",
    "#             print(shortest_path)\n",
    "            if shortest_path[1] < all_time_shortest_path[1]:\n",
    "                all_time_shortest_path = shortest_path            \n",
    "            self.pheromone * self.decay            \n",
    "        return all_time_shortest_path\n",
    "\n",
    "    # распространение феромона\n",
    "    def spread_pheronome(self, all_paths, n_best, shortest_path):\n",
    "        sorted_paths = sorted(all_paths, key=lambda x: x[1])\n",
    "        for path, dist in sorted_paths[:n_best]:\n",
    "            for move in path:\n",
    "                self.pheromone[move] += 1.0 / self.distances[move]\n",
    "\n",
    "    def gen_path_dist(self, path):\n",
    "        total_dist = 0\n",
    "        for ele in path:\n",
    "            total_dist += self.distances[ele]\n",
    "        return total_dist\n",
    "\n",
    "    def gen_all_paths(self):\n",
    "        all_paths = []\n",
    "        for i in range(self.n_ants):\n",
    "            path = self.gen_path(0)\n",
    "            all_paths.append((path, self.gen_path_dist(path)))\n",
    "        return all_paths\n",
    "\n",
    "    def gen_path(self, start):\n",
    "        path = []\n",
    "        visited = set()\n",
    "        visited.add(start)\n",
    "        prev = start\n",
    "        for i in range(len(self.distances) - 1):\n",
    "            move = self.pick_move(self.pheromone[prev], self.distances[prev], visited)\n",
    "            path.append((prev, move))\n",
    "            prev = move\n",
    "            visited.add(move)\n",
    "        path.append((prev, start))  # возвращаемся туда, где мы начали\n",
    "        return path\n",
    "\n",
    "    # выбор хода\n",
    "    def pick_move(self, pheromone, dist, visited):\n",
    "        pheromone = np.copy(pheromone)\n",
    "        pheromone[list(visited)] = 0\n",
    "\n",
    "        row = pheromone ** self.alpha * (( 1.0 / dist) ** self.beta)\n",
    "\n",
    "        norm_row = row / row.sum()\n",
    "        move = np_choice(self.all_inds, 1, p=norm_row)[0]\n",
    "        return move"
   ]
  },
  {
   "cell_type": "code",
   "execution_count": 12,
   "metadata": {},
   "outputs": [
    {
     "data": {
      "text/plain": [
       "array([[ inf,  1. ,  5.5, 52.3, 25. ,  8.8],\n",
       "       [ 1. ,  inf,  2.5,  5. ,  5. ,  2.5],\n",
       "       [ 5.5,  2.5,  inf, 14.3, 12. , 33.3],\n",
       "       [52.3,  5. , 14.3,  inf,  5.1,  5.5],\n",
       "       [25. ,  5. , 12. ,  5.1,  inf, 99.9],\n",
       "       [ 8.8,  2.5, 33.3,  5.5, 99.9,  inf]])"
      ]
     },
     "execution_count": 12,
     "metadata": {},
     "output_type": "execute_result"
    }
   ],
   "source": [
    "distances = np.array(G_6)\n",
    "distances"
   ]
  },
  {
   "cell_type": "code",
   "execution_count": 13,
   "metadata": {},
   "outputs": [
    {
     "name": "stdout",
     "output_type": "stream",
     "text": [
      "\n",
      " Оптимальный маршрут: [(0, 1), (1, 5), (5, 3), (3, 4), (4, 2), (2, 0)]\n",
      "\n",
      " Расстояние маршрута: 31.6\n"
     ]
    }
   ],
   "source": [
    "ant_colony = AntColony(\n",
    "    distances=distances,  # матрица расстояний\n",
    "    n_ants=10,            # количество муравьёв\n",
    "    n_best=10,            # количество муравьёв с феромоном\n",
    "    n_iterations=10,      # количество итераций\n",
    "    decay=0.95,           # количество испарения феромона\n",
    "    alpha=1,              # влияние феромона\n",
    "    beta=1                # влияние длины пути\n",
    ")\n",
    "\n",
    "shortest_path = ant_colony.run()\n",
    "print (f\"\\n Оптимальный маршрут: {shortest_path[0]}\")\n",
    "print (f\"\\n Расстояние маршрута: {shortest_path[1]}\")"
   ]
  },
  {
   "cell_type": "code",
   "execution_count": 14,
   "metadata": {},
   "outputs": [
    {
     "data": {
      "text/plain": [
       "array([[ inf,  1. ,  5.5, 52.3, 25. ,  8.8,  2. ,  2.5],\n",
       "       [ 1. ,  inf,  2.5,  5. ,  5. ,  2.5,  2.5,  2.5],\n",
       "       [ 5.5,  2.5,  inf, 14.3, 12. , 33.3, 23. , 32.5],\n",
       "       [52.3,  5. , 14.3,  inf,  5.1,  5.5,  2.2,  3.3],\n",
       "       [25. ,  5. , 12. ,  5.1,  inf, 99.9,  5. , 22.5],\n",
       "       [ 8.8,  2.5, 33.3,  5.5, 99.9,  inf,  5. , 12.5],\n",
       "       [ 2. ,  2.5, 23. ,  2.2,  5. ,  5. ,  inf,  5. ],\n",
       "       [ 2.5,  2.5, 32.5,  3.3, 22.5, 12.5,  5. ,  inf]])"
      ]
     },
     "execution_count": 14,
     "metadata": {},
     "output_type": "execute_result"
    }
   ],
   "source": [
    "distances = np.array(G_8)\n",
    "distances"
   ]
  },
  {
   "cell_type": "code",
   "execution_count": 15,
   "metadata": {},
   "outputs": [
    {
     "name": "stdout",
     "output_type": "stream",
     "text": [
      "\n",
      " Оптимальный маршрут: [(0, 7), (7, 3), (3, 4), (4, 2), (2, 1), (1, 5), (5, 6), (6, 0)]\n",
      "\n",
      " Расстояние маршрута: 34.9\n"
     ]
    }
   ],
   "source": [
    "ant_colony = AntColony(\n",
    "    distances=distances,  # матрица расстояний\n",
    "    n_ants=10,            # количество муравьёв\n",
    "    n_best=10,            # количество муравьёв с феромоном\n",
    "    n_iterations=10,      # количество итераций\n",
    "    decay=0.95,           # количество испарения феромона\n",
    "    alpha=1,              # влияние феромона\n",
    "    beta=1                # влияние длины пути\n",
    ")\n",
    "\n",
    "shortest_path = ant_colony.run()\n",
    "print (f\"\\n Оптимальный маршрут: {shortest_path[0]}\")\n",
    "print (f\"\\n Расстояние маршрута: {shortest_path[1]}\")"
   ]
  },
  {
   "cell_type": "code",
   "execution_count": 16,
   "metadata": {},
   "outputs": [],
   "source": [
    "# TODO:"
   ]
  },
  {
   "cell_type": "code",
   "execution_count": 17,
   "metadata": {},
   "outputs": [],
   "source": [
    "# на этапе параметризации 3 цикла\n",
    "\n",
    "# две матрицы, 6х6 и 8х8\n",
    "# на выходе таблица, в которой есть столбцы:\n",
    "\n",
    "# | alfa | ро/тау | tmax | L наилучшее 1 матрицы | L наилучшее 2 матрицы | L наилучшее и L эталон (для 1-й и 2-й матр)"
   ]
  },
  {
   "cell_type": "code",
   "execution_count": 18,
   "metadata": {},
   "outputs": [],
   "source": [
    "# альфа - параметр влияния длины пути т.е. жадности алгоритма\n",
    "# бета - влияние феромона т.е. стадности\n",
    "# Q - количество феромона, переносимого муравьем\n",
    "# e/ro/tau - кол-во испарения феромона"
   ]
  },
  {
   "cell_type": "markdown",
   "metadata": {},
   "source": [
    "## Эксперименты с [ACOpy](https://acopy.readthedocs.io/)"
   ]
  },
  {
   "cell_type": "markdown",
   "metadata": {},
   "source": [
    "### создаём граф с вершинами и весами рёбер"
   ]
  },
  {
   "cell_type": "code",
   "execution_count": 19,
   "metadata": {},
   "outputs": [],
   "source": [
    "G = nx.Graph()"
   ]
  },
  {
   "cell_type": "code",
   "execution_count": 20,
   "metadata": {},
   "outputs": [],
   "source": [
    "G.add_edge('A', 'B', weight=1.)\n",
    "G.add_edge('A', 'C', weight=5.5)\n",
    "G.add_edge('A', 'D', weight=52.3)\n",
    "G.add_edge('A', 'E', weight=25.)\n",
    "G.add_edge('A', 'F', weight=8.8)\n",
    "\n",
    "G.add_edge('B', 'A', weight=1.)\n",
    "G.add_edge('B', 'C', weight=2.5)\n",
    "G.add_edge('B', 'D', weight=5.)\n",
    "G.add_edge('B', 'E', weight=5.)\n",
    "G.add_edge('B', 'F', weight=2.5)\n",
    "\n",
    "G.add_edge('C', 'A', weight=5.5)\n",
    "G.add_edge('C', 'B', weight=2.5)\n",
    "G.add_edge('C', 'D', weight=14.3)\n",
    "G.add_edge('C', 'E', weight=12.)\n",
    "G.add_edge('C', 'F', weight=33.3)\n",
    "\n",
    "G.add_edge('D', 'A', weight=52.3)\n",
    "G.add_edge('D', 'B', weight=5.)\n",
    "G.add_edge('D', 'C', weight=14.3)\n",
    "G.add_edge('D', 'E', weight=5.1)\n",
    "G.add_edge('D', 'F', weight=5.5)\n",
    "\n",
    "G.add_edge('E', 'A', weight=25.)\n",
    "G.add_edge('E', 'B', weight=5.)\n",
    "G.add_edge('E', 'C', weight=12.)\n",
    "G.add_edge('E', 'D', weight=5.1)\n",
    "G.add_edge('E', 'F', weight=99.9)\n",
    "\n",
    "G.add_edge('F', 'A', weight=8.8)\n",
    "G.add_edge('F', 'B', weight=2.5)\n",
    "G.add_edge('F', 'C', weight=33.3)\n",
    "G.add_edge('F', 'D', weight=5.5)\n",
    "G.add_edge('F', 'E', weight=99.9)"
   ]
  },
  {
   "cell_type": "code",
   "execution_count": 21,
   "metadata": {},
   "outputs": [
    {
     "data": {
      "image/png": "[encoded data removed]",
      "text/plain": [
       "<Figure size 432x288 with 1 Axes>"
      ]
     },
     "metadata": {},
     "output_type": "display_data"
    }
   ],
   "source": [
    "# plt.subplot(121)\n",
    "nx.draw(G, with_labels=True, font_weight='bold')\n",
    "# plt.subplot(122)\n",
    "# nx.draw_shell(G, nlist=[range(5, 10), range(5)], with_labels=True, font_weight='bold')"
   ]
  },
  {
   "cell_type": "code",
   "execution_count": 22,
   "metadata": {},
   "outputs": [
    {
     "data": {
      "text/plain": [
       "['A', 'B', 'D']"
      ]
     },
     "execution_count": 22,
     "metadata": {},
     "output_type": "execute_result"
    }
   ],
   "source": [
    "nx.shortest_path(G, 'A', 'D', weight='weight')"
   ]
  },
  {
   "cell_type": "markdown",
   "metadata": {},
   "source": [
    "### cсоздаём колонию и запускаем её в созданный выше граф"
   ]
  },
  {
   "cell_type": "code",
   "execution_count": 23,
   "metadata": {},
   "outputs": [],
   "source": [
    "solver = acopy.Solver(rho=.03, q=1)\n",
    "colony = acopy.Colony(alpha=1, beta=3)\n",
    "\n",
    "stats = acopy.plugins.StatsRecorder()\n",
    "solver.add_plugin(stats)\n",
    "\n",
    "timer = acopy.plugins.Timer()\n",
    "solver.add_plugin(timer)\n",
    "\n",
    "printout = acopy.plugins.Printout()\n",
    "solver.add_plugin(printout)\n",
    "\n",
    "# darwin = acopy.plugins.Darwin(sigma=.25)\n",
    "# elite = acopy.plugins.EliteTracer(factor=2)\n",
    "# periodic = acopy.plugins.PeriodicActionPlugin(period=100)\n",
    "# PeriodicReset\n",
    "# PheromoneFlip\n",
    "# EarlyTerminationPlugin\n",
    "# threshold = acopy.plugins.Threshold(threshold=1719)\n",
    "# time_limit = acopy.plugins.TimeLimit(seconds=30)"
   ]
  },
  {
   "cell_type": "code",
   "execution_count": 24,
   "metadata": {},
   "outputs": [
    {
     "name": "stdout",
     "output_type": "stream",
     "text": [
      "Using 6 ants from Colony(alpha=1, beta=3)\n",
      "Performing 100 iterations:\n",
      "Iteration  Cost                 Solution\n",
      "1          128.3                A B F E D C\n",
      "2          60.3                 A B F D C E\n",
      "3          46.6                 A F D C E B\n",
      "11         46.599999999999994   A F D C E B\n",
      "44         31.6                 A C E D F B\n",
      "-------------------------------------------\n"
     ]
    }
   ],
   "source": [
    "tour = solver.solve(G, colony, limit=100)"
   ]
  },
  {
   "cell_type": "code",
   "execution_count": 25,
   "metadata": {},
   "outputs": [
    {
     "data": {
      "text/plain": [
       "31.6"
      ]
     },
     "metadata": {},
     "output_type": "display_data"
    },
    {
     "data": {
      "text/plain": [
       "['F', 'B', 'A', 'C', 'E', 'D']"
      ]
     },
     "metadata": {},
     "output_type": "display_data"
    },
    {
     "data": {
      "text/plain": [
       "[('F', 'B'), ('B', 'A'), ('A', 'C'), ('C', 'E'), ('E', 'D'), ('D', 'F')]"
      ]
     },
     "metadata": {},
     "output_type": "display_data"
    }
   ],
   "source": [
    "display(tour.cost, tour.nodes, tour.path)"
   ]
  },
  {
   "cell_type": "code",
   "execution_count": 26,
   "metadata": {},
   "outputs": [
    {
     "data": {
      "text/plain": [
       "{'solutions': {31.6\tA,C,E,D,F,B,\n",
       "  31.6\tA,B,F,D,E,C,\n",
       "  34.9\tA,F,D,E,C,B,\n",
       "  34.9\tA,B,C,E,D,F,\n",
       "  34.900000000000006\tA,F,D,E,C,B,\n",
       "  46.1\tA,C,B,F,D,E,\n",
       "  46.599999999999994\tA,B,E,C,D,F,\n",
       "  46.599999999999994\tA,F,D,C,E,B,\n",
       "  46.6\tA,B,E,C,D,F,\n",
       "  46.6\tA,F,D,C,E,B,\n",
       "  55.4\tA,C,F,D,E,B,\n",
       "  57.8\tA,E,B,F,D,C,\n",
       "  60.3\tA,B,F,D,C,E,\n",
       "  60.3\tA,E,C,D,F,B,\n",
       "  67.5\tA,B,E,D,C,F,\n",
       "  72.4\tA,E,D,F,C,B,\n",
       "  81.2\tA,E,D,C,F,B,\n",
       "  81.2\tA,B,F,C,D,E,\n",
       "  82.8\tA,C,E,B,F,D,\n",
       "  94.89999999999999\tA,F,B,E,C,D,\n",
       "  128.3\tA,B,F,E,D,C,\n",
       "  128.3\tA,C,D,E,F,B,\n",
       "  131.2\tA,C,D,F,E,B,\n",
       "  131.20000000000002\tA,C,D,F,E,B,\n",
       "  131.6\tA,F,E,D,C,B,\n",
       "  148.2\tA,E,F,D,C,B}}"
      ]
     },
     "execution_count": 26,
     "metadata": {},
     "output_type": "execute_result"
    }
   ],
   "source": [
    "stats.data"
   ]
  },
  {
   "cell_type": "code",
   "execution_count": 27,
   "metadata": {},
   "outputs": [],
   "source": [
    "# stats.stats.keys()\n",
    "# stats.stats.get('pheromone_levels')"
   ]
  },
  {
   "cell_type": "code",
   "execution_count": 28,
   "metadata": {},
   "outputs": [],
   "source": [
    "aplot = acopy.utils.plot.Plotter(stats.stats)"
   ]
  },
  {
   "cell_type": "code",
   "execution_count": 29,
   "metadata": {},
   "outputs": [
    {
     "data": {
      "text/plain": [
       "[]"
      ]
     },
     "execution_count": 29,
     "metadata": {},
     "output_type": "execute_result"
    }
   ],
   "source": [
    "aplot.extract_ant_distances()"
   ]
  },
  {
   "cell_type": "code",
   "execution_count": 30,
   "metadata": {},
   "outputs": [
    {
     "data": {
      "image/png": "[encoded data removed]",
      "text/plain": [
       "<Figure size 432x288 with 1 Axes>"
      ]
     },
     "metadata": {
      "needs_background": "light"
     },
     "output_type": "display_data"
    },
    {
     "data": {
      "image/png": "[encoded data removed]",
      "text/plain": [
       "<Figure size 432x288 with 1 Axes>"
      ]
     },
     "metadata": {
      "needs_background": "light"
     },
     "output_type": "display_data"
    },
    {
     "data": {
      "image/png": "[encoded data removed]",
      "text/plain": [
       "<Figure size 432x288 with 1 Axes>"
      ]
     },
     "metadata": {
      "needs_background": "light"
     },
     "output_type": "display_data"
    },
    {
     "data": {
      "image/png": "[encoded data removed]",
      "text/plain": [
       "<Figure size 432x288 with 1 Axes>"
      ]
     },
     "metadata": {
      "needs_background": "light"
     },
     "output_type": "display_data"
    }
   ],
   "source": [
    "aplot.plot()"
   ]
  },
  {
   "cell_type": "code",
   "execution_count": null,
   "metadata": {},
   "outputs": [],
   "source": []
  }
 ],
 "metadata": {
  "kernelspec": {
   "display_name": "Python 3",
   "language": "python",
   "name": "python3"
  },
  "language_info": {
   "codemirror_mode": {
    "name": "ipython",
    "version": 3
   },
   "file_extension": ".py",
   "mimetype": "text/x-python",
   "name": "python",
   "nbconvert_exporter": "python",
   "pygments_lexer": "ipython3",
   "version": "3.7.7"
  }
 },
 "nbformat": 4,
 "nbformat_minor": 4
}
